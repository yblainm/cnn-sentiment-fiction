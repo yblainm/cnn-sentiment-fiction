{
  "nbformat": 4,
  "nbformat_minor": 0,
  "metadata": {
    "colab": {
      "name": "CNN Literary Subjectivity",
      "version": "0.3.2",
      "provenance": [],
      "collapsed_sections": [
        "oKcWBPVze2Va",
        "Gz9cXICU8px_",
        "1OXnwLYiOpqb",
        "iH0BH7rdiq1A",
        "UPzDy8S_v7sA",
        "PlV6pKmi8iBL",
        "BQ9dVvbV9lE8",
        "l8lXH2PLfW4g",
        "Icjmi_YVMKEH",
        "9DSOVrg_MpPP",
        "VoHllF8W5-3a",
        "sxnhZ2E-5-37",
        "9r1ugeHTToAq"
      ],
      "toc_visible": true,
      "include_colab_link": true
    },
    "kernelspec": {
      "name": "python3",
      "display_name": "Python 3"
    },
    "accelerator": "GPU"
  },
  "cells": [
    {
      "cell_type": "markdown",
      "metadata": {
        "id": "view-in-github",
        "colab_type": "text"
      },
      "source": [
        "<a href=\"https://colab.research.google.com/github/yblainm/comp550project/blob/master/CNN_Literary_Subjectivity.ipynb\" target=\"_parent\"><img src=\"https://colab.research.google.com/assets/colab-badge.svg\" alt=\"Open In Colab\"/></a>"
      ]
    },
    {
      "metadata": {
        "id": "FLwt69MiAS7J",
        "colab_type": "text"
      },
      "cell_type": "markdown",
      "source": [
        "# Setup"
      ]
    },
    {
      "metadata": {
        "id": "CJ5OHRfpze9M",
        "colab_type": "code",
        "outputId": "c11cd92d-31c8-453a-ed98-cf74cdb32079",
        "colab": {
          "base_uri": "https://localhost:8080/",
          "height": 36
        }
      },
      "cell_type": "code",
      "source": [
        "import os,sys\n",
        "from google.colab import drive\n",
        "drive.mount('/content/drive', force_remount=True)"
      ],
      "execution_count": 1,
      "outputs": [
        {
          "output_type": "stream",
          "text": [
            "Mounted at /content/drive\n"
          ],
          "name": "stdout"
        }
      ]
    },
    {
      "metadata": {
        "id": "IfrT9ghK6gYA",
        "colab_type": "code",
        "colab": {}
      },
      "cell_type": "code",
      "source": [
        "ROOT_PATH = os.path.join(\"drive\",\"My Drive\",\"COMP 550 Final Project\")"
      ],
      "execution_count": 0,
      "outputs": []
    },
    {
      "metadata": {
        "id": "rFhJOjIMtuIP",
        "colab_type": "code",
        "outputId": "a730ace3-1864-48ed-e641-f9b1642a5599",
        "colab": {
          "base_uri": "https://localhost:8080/",
          "height": 74
        }
      },
      "cell_type": "code",
      "source": [
        "import pickle\n",
        "import pandas as pd\n",
        "import numpy as np\n",
        "import nltk.tokenize\n",
        "nltk.download('punkt')\n",
        "from matplotlib import pyplot as plt\n",
        "import sklearn\n",
        "from sklearn.model_selection import train_test_split\n",
        "from sklearn.preprocessing import OneHotEncoder, LabelEncoder\n",
        "# from sklearn.pipeline import Pipeline, make_pipeline\n",
        "# from scipy.sparse import csr_matrix, vstack, hstack\n",
        "# from keras.preprocessing.text import Tokenizer\n",
        "\n",
        "sklearn.__version__"
      ],
      "execution_count": 196,
      "outputs": [
        {
          "output_type": "stream",
          "text": [
            "[nltk_data] Downloading package punkt to /root/nltk_data...\n",
            "[nltk_data]   Package punkt is already up-to-date!\n"
          ],
          "name": "stdout"
        },
        {
          "output_type": "execute_result",
          "data": {
            "text/plain": [
              "'0.19.2'"
            ]
          },
          "metadata": {
            "tags": []
          },
          "execution_count": 196
        }
      ]
    },
    {
      "metadata": {
        "id": "KI0st6a-7n2G",
        "colab_type": "code",
        "outputId": "781cd7e3-425e-4dca-97c3-efbb529134f3",
        "colab": {
          "base_uri": "https://localhost:8080/",
          "height": 55
        }
      },
      "cell_type": "code",
      "source": [
        "import keras\n",
        "from keras.constraints import MaxNorm\n",
        "from keras.layers import Activation, concatenate, Dense, Dropout, Embedding, Flatten, GlobalMaxPool1D, Input, Permute, ZeroPadding2D\n",
        "from keras.layers.convolutional import Conv1D\n",
        "from keras.models import Model\n",
        "from keras.initializers import RandomUniform, Constant\n",
        "from keras.regularizers import l2\n",
        "from keras.optimizers import adadelta\n",
        "from keras import backend as K\n",
        "keras.__version__"
      ],
      "execution_count": 4,
      "outputs": [
        {
          "output_type": "stream",
          "text": [
            "Using TensorFlow backend.\n"
          ],
          "name": "stderr"
        },
        {
          "output_type": "execute_result",
          "data": {
            "text/plain": [
              "'2.2.4'"
            ]
          },
          "metadata": {
            "tags": []
          },
          "execution_count": 4
        }
      ]
    },
    {
      "metadata": {
        "id": "oKcWBPVze2Va",
        "colab_type": "text"
      },
      "cell_type": "markdown",
      "source": [
        "### Get and Save GloVe for Subj-Subj"
      ]
    },
    {
      "metadata": {
        "id": "bE2k6BtN1JjD",
        "colab_type": "code",
        "colab": {}
      },
      "cell_type": "code",
      "source": [
        "glove = get_embeddings(enc.label_enc.classes_, enc.label_enc)"
      ],
      "execution_count": 0,
      "outputs": []
    },
    {
      "metadata": {
        "id": "vrRKnRvu4NGC",
        "colab_type": "code",
        "colab": {}
      },
      "cell_type": "code",
      "source": [
        "with open(os.path.join(ROOT_PATH,\"glove_subj_npy.pickle\"), 'wb') as f:\n",
        "    pickle.dump(obj=glove, file=f)"
      ],
      "execution_count": 0,
      "outputs": []
    },
    {
      "metadata": {
        "id": "Gz9cXICU8px_",
        "colab_type": "text"
      },
      "cell_type": "markdown",
      "source": [
        "### Load GloVe from Drive"
      ]
    },
    {
      "metadata": {
        "id": "C8eWFMxH8tv7",
        "colab_type": "code",
        "colab": {}
      },
      "cell_type": "code",
      "source": [
        "with open(os.path.join(ROOT_PATH,\"glove_subj_npy.pickle\"), 'rb') as f:\n",
        "    glove = pickle.load(f)"
      ],
      "execution_count": 0,
      "outputs": []
    },
    {
      "metadata": {
        "id": "1OXnwLYiOpqb",
        "colab_type": "text"
      },
      "cell_type": "markdown",
      "source": [
        "## Getting sentences and paragraphs"
      ]
    },
    {
      "metadata": {
        "id": "M5NZRT5iOx2f",
        "colab_type": "code",
        "colab": {}
      },
      "cell_type": "code",
      "source": [
        "austen = pd.read_csv(os.path.join(ROOT_PATH, \"tokens\", \"austen.sense.tokens\"), sep='\\t', quoting=3)"
      ],
      "execution_count": 0,
      "outputs": []
    },
    {
      "metadata": {
        "colab_type": "code",
        "id": "sFtKDhPXUc04",
        "colab": {}
      },
      "cell_type": "code",
      "source": [
        "austen_sent_gp = austen.groupby('sentenceID')"
      ],
      "execution_count": 0,
      "outputs": []
    },
    {
      "metadata": {
        "colab_type": "code",
        "id": "BdAr1lvaUXXw",
        "colab": {}
      },
      "cell_type": "code",
      "source": [
        "austen_sentences = [\" \".join(austen_sent_gp.get_group(i)['originalWord']).lower() for i in austen['sentenceID'].unique()]"
      ],
      "execution_count": 0,
      "outputs": []
    },
    {
      "metadata": {
        "id": "p0O0EsBUW6dn",
        "colab_type": "code",
        "outputId": "ba7c8192-0f7e-4051-a5fe-a6d366489635",
        "colab": {
          "base_uri": "https://localhost:8080/",
          "height": 36
        }
      },
      "cell_type": "code",
      "source": [
        "austen_sentences"
      ],
      "execution_count": 0,
      "outputs": [
        {
          "output_type": "execute_result",
          "data": {
            "text/plain": [
              "5090"
            ]
          },
          "metadata": {
            "tags": []
          },
          "execution_count": 64
        }
      ]
    },
    {
      "metadata": {
        "id": "pCOMLDl6Ujwg",
        "colab_type": "code",
        "colab": {}
      },
      "cell_type": "code",
      "source": [
        "austen_para_gp = austen.groupby('paragraphId')"
      ],
      "execution_count": 0,
      "outputs": []
    },
    {
      "metadata": {
        "id": "gMjB1W2EUzIG",
        "colab_type": "code",
        "colab": {}
      },
      "cell_type": "code",
      "source": [
        "austen_paragraphs = [\" \".join(austen_para_gp.get_group(i)['originalWord']).lower() for i in austen['paragraphId'].unique()]"
      ],
      "execution_count": 0,
      "outputs": []
    },
    {
      "metadata": {
        "id": "C6zj78T0VuxA",
        "colab_type": "code",
        "outputId": "311b37fc-e7c4-4cc6-a9e7-e2eb26d666c2",
        "colab": {
          "base_uri": "https://localhost:8080/",
          "height": 36
        }
      },
      "cell_type": "code",
      "source": [
        "austen_paragraphs"
      ],
      "execution_count": 0,
      "outputs": [
        {
          "output_type": "execute_result",
          "data": {
            "text/plain": [
              "1865"
            ]
          },
          "metadata": {
            "tags": []
          },
          "execution_count": 68
        }
      ]
    },
    {
      "metadata": {
        "id": "OZ8RY_eHYcyf",
        "colab_type": "code",
        "colab": {}
      },
      "cell_type": "code",
      "source": [
        "with open(os.path.join(ROOT_PATH, 'austen_sentences.txt'), 'w+') as f:\n",
        "    f.write('\\n'.join(austen_sentences))\n",
        "    f.close()"
      ],
      "execution_count": 0,
      "outputs": []
    },
    {
      "metadata": {
        "id": "GVi7F-ZxbiMd",
        "colab_type": "code",
        "colab": {}
      },
      "cell_type": "code",
      "source": [
        "with open(os.path.join(ROOT_PATH, 'austen_paragraphs.txt'), 'w+') as f:\n",
        "    f.write('\\n'.join(austen_paragraphs))\n",
        "    f.close()"
      ],
      "execution_count": 0,
      "outputs": []
    },
    {
      "metadata": {
        "id": "iH0BH7rdiq1A",
        "colab_type": "text"
      },
      "cell_type": "markdown",
      "source": [
        "## Function/class definitions"
      ]
    },
    {
      "metadata": {
        "id": "NGmqgRppijIW",
        "colab_type": "code",
        "colab": {}
      },
      "cell_type": "code",
      "source": [
        "minibatchsize = 50\n",
        "\n",
        "\n",
        "def getCNNRand(vocabsize, maxlength, ordinal=False, classnum=2, embedding_dim=300,\n",
        "               embedding_range=0.05, embedding_matrix=None, filters=[3,4,5], map_size=100,\n",
        "               act_fct='relu', constr=3, dropprob=0.5,optim=\"adadelta\"):\n",
        "    \n",
        "    inputs = Input(shape=(maxlength,), dtype='int32')\n",
        "    embedding = Embedding(input_dim=vocabsize, output_dim=embedding_dim,\n",
        "                          embeddings_initializer=RandomUniform(\n",
        "                              seed=69,minval=embedding_range,maxval=embedding_range)\n",
        "                          if embedding_matrix is None else Constant(value=embedding_matrix),\n",
        "                          mask_zero=False, input_length=maxlength)(inputs)\n",
        "    # I want mask_zero to be true (?), but Keras doesn't support it.\n",
        "    # Perhaps temporal pooling makes this unimportant?\n",
        "\n",
        "    convs = []\n",
        "\n",
        "    for i in range(0,len(filters)):\n",
        "        conv=Conv1D(filters=map_size, kernel_size=filters[i],\n",
        "                    activation=act_fct, padding=\"valid\")(embedding)\n",
        "\n",
        "        pool=GlobalMaxPool1D()(conv)\n",
        "\n",
        "        convs.append(pool)\n",
        "        \n",
        "    concat = concatenate(convs)\n",
        "    \n",
        "    if ordinal:\n",
        "        classes = Dense(units=1, kernel_constraint=constr)(concat)\n",
        "        dropout = Dropout(dropprob)(classes)\n",
        "#         act = Activation('exponential')(dropout)\n",
        "        act = Activation('sigmoid')(dropout)\n",
        "        model = Model(inputs=inputs, outputs=act)\n",
        "        model.compile(optimizer=optim, loss=\"mse\", metrics=['accuracy'])\n",
        "    else:\n",
        "        classes = Dense(units=classnum, kernel_constraint=MaxNorm(constr))(concat)\n",
        "        dropout = Dropout(dropprob)(classes)\n",
        "        act = Activation('softmax')(dropout)\n",
        "        model = Model(inputs=inputs, outputs=act)\n",
        "        model.compile(optimizer=optim, loss=\"categorical_crossentropy\", metrics=['accuracy'])\n",
        "    \n",
        "    return model"
      ],
      "execution_count": 0,
      "outputs": []
    },
    {
      "metadata": {
        "id": "E6ZD73BYbOdJ",
        "colab_type": "code",
        "colab": {}
      },
      "cell_type": "code",
      "source": [
        "class Encoder:\n",
        "    def __init__(self):\n",
        "        self.max_len = None\n",
        "        self.vocab_len = None\n",
        "        self.label_enc = None\n",
        "        self.pad_idx = None\n",
        "        self.pad_token = \"_<PAD>_\"\n",
        "        \n",
        "    def fit_vocab(self, document_tokens):\n",
        "        self.max_len = len(max(document_tokens, key=lambda x: len(x)))\n",
        "        fit_list = list(set([token for l in document_tokens for token in l]))\n",
        "        fit_list.append(self.pad_token)\n",
        "        self.vocab_len = len(fit_list)\n",
        "        \n",
        "        self.label_enc = LabelEncoder()\n",
        "        vocab_labels = self.label_enc.fit(fit_list)\n",
        "#         self.label_enc.classes_ = np.hstack(([self.pad_token],(enc.label_enc.classes_)))\n",
        "        self.pad_idx = self.label_enc.transform([[self.pad_token]])[0]\n",
        "        \n",
        "    def transform(self, document_tokens):\n",
        "        return np.concatenate(document_tokens.apply(lambda x: self.pad_sentence_array(self.label_enc.transform(x))).values).reshape(len(document_tokens),-1)\n",
        "    \n",
        "    def pad_sentence_array(self, sentence_array):\n",
        "        return np.append(sentence_array, np.repeat(self.pad_idx,self.max_len-len(sentence_array)))\n",
        "        "
      ],
      "execution_count": 0,
      "outputs": []
    },
    {
      "metadata": {
        "id": "xlyOR9pcuUmk",
        "colab_type": "code",
        "colab": {}
      },
      "cell_type": "code",
      "source": [
        "def prepare_data(df):\n",
        "    data = {}\n",
        "    data['all'] = {}\n",
        "    data['all']['x'] = df[0].copy()\n",
        "    data['all']['y'] = df[1].copy()\n",
        "    data['x'] = {}\n",
        "    data['y'] = {}\n",
        "    train, test = train_test_split(df, train_size=0.8)\n",
        "    val, test = train_test_split(test, train_size=0.5)\n",
        "    data['x']['train'] = train[0]\n",
        "    data['y']['train'] = train[1]\n",
        "    data['x']['val'] = val[0]\n",
        "    data['y']['val'] = val[1]\n",
        "    data['x']['test'] = test[0]\n",
        "    data['y']['test'] = test[1]\n",
        "    return data"
      ],
      "execution_count": 0,
      "outputs": []
    },
    {
      "metadata": {
        "id": "UjqZMeeV8OwG",
        "colab_type": "code",
        "colab": {}
      },
      "cell_type": "code",
      "source": [
        "def get_embeddings(vocab_list, labelencoder, embedding_dim=300, emb_path=os.path.join(ROOT_PATH, \"glove.6B.300d.txt\")):\n",
        "    embedding_matrix = np.zeros((len(vocab_list), embedding_dim))\n",
        "    with open(emb_path, 'r') as f:\n",
        "        for line in f:\n",
        "            vals = line.split()\n",
        "            word = vals[0]\n",
        "            weight = np.array(vals[1:], dtype='float32')\n",
        "            if word in vocab_list:\n",
        "                embedding_matrix[labelencoder.transform([word])[0]] = weight\n",
        "    return embedding_matrix"
      ],
      "execution_count": 0,
      "outputs": []
    },
    {
      "metadata": {
        "id": "UPzDy8S_v7sA",
        "colab_type": "text"
      },
      "cell_type": "markdown",
      "source": [
        "## Subj-Subj (and Hyperparam. search)"
      ]
    },
    {
      "metadata": {
        "id": "PlV6pKmi8iBL",
        "colab_type": "text"
      },
      "cell_type": "markdown",
      "source": [
        "### Load Subj data"
      ]
    },
    {
      "metadata": {
        "id": "5_AoHIF4v_4y",
        "colab_type": "code",
        "colab": {}
      },
      "cell_type": "code",
      "source": [
        "with open(os.path.join(ROOT_PATH,\"Subj\",\"obj.p\"), 'rb') as f:\n",
        "    subj_obj = pickle.load(f, encoding='latin1')\n",
        "    f.close()\n",
        "with open(os.path.join(ROOT_PATH,\"Subj\",\"subj.p\"), 'rb') as f:\n",
        "    subj_subj = pickle.load(f, encoding='latin1')\n",
        "    f.close()"
      ],
      "execution_count": 0,
      "outputs": []
    },
    {
      "metadata": {
        "id": "aNFKHjWzq9_m",
        "colab_type": "code",
        "outputId": "e89ae33e-b51e-463d-d4e7-98f0607682c7",
        "colab": {
          "base_uri": "https://localhost:8080/",
          "height": 112
        }
      },
      "cell_type": "code",
      "source": [
        "data_subj = prepare_data(pd.DataFrame({0:subj_obj, 1:0}).append(\n",
        "    pd.DataFrame({0:subj_subj, 1:1})))\n",
        "labelenc = OneHotEncoder()\n",
        "\n",
        "enc = Encoder()\n",
        "enc.fit_vocab(data_subj['all']['x'])"
      ],
      "execution_count": 10,
      "outputs": [
        {
          "output_type": "stream",
          "text": [
            "/usr/local/lib/python3.6/dist-packages/sklearn/model_selection/_split.py:2026: FutureWarning: From version 0.21, test_size will always complement train_size unless both are specified.\n",
            "  FutureWarning)\n",
            "/usr/local/lib/python3.6/dist-packages/sklearn/preprocessing/label.py:128: DataConversionWarning: A column-vector y was passed when a 1d array was expected. Please change the shape of y to (n_samples, ), for example using ravel().\n",
            "  y = column_or_1d(y, warn=True)\n"
          ],
          "name": "stderr"
        }
      ]
    },
    {
      "metadata": {
        "id": "duCamyalrYIp",
        "colab_type": "code",
        "colab": {}
      },
      "cell_type": "code",
      "source": [
        "subj_y_train = labelenc.fit_transform(data_subj['y']['train'].values.reshape(-1,1))\n",
        "subj_y_val = labelenc.transform(data_subj['y']['val'].values.reshape(-1,1))\n",
        "subj_y_test = labelenc.transform(data_subj['y']['test'].values.reshape(-1,1))\n",
        "subj_x_train = enc.transform(data_subj['x']['train'])\n",
        "subj_x_val = enc.transform(data_subj['x']['val'])\n",
        "subj_x_test = enc.transform(data_subj['x']['test'])"
      ],
      "execution_count": 0,
      "outputs": []
    },
    {
      "metadata": {
        "id": "BQ9dVvbV9lE8",
        "colab_type": "text"
      },
      "cell_type": "markdown",
      "source": [
        "### Preliminary test on Subj-Subj"
      ]
    },
    {
      "metadata": {
        "id": "X01lyjJD9qX_",
        "colab_type": "code",
        "colab": {}
      },
      "cell_type": "code",
      "source": [
        "model_subjsubj = getCNNRand(vocabsize=enc.vocab_len, maxlength=enc.max_len,\n",
        "                            filters=(3,6,9), embedding_matrix=glove)"
      ],
      "execution_count": 0,
      "outputs": []
    },
    {
      "metadata": {
        "id": "5oTmqXoKNWi3",
        "colab_type": "code",
        "colab": {}
      },
      "cell_type": "code",
      "source": [
        "model_subjsubj.fit(subj_x_train, subj_y_train,batch_size=256,\n",
        "                   epochs=5,validation_data=(subj_x_val,subj_y_val),verbose=1)"
      ],
      "execution_count": 0,
      "outputs": []
    },
    {
      "metadata": {
        "id": "l8lXH2PLfW4g",
        "colab_type": "text"
      },
      "cell_type": "markdown",
      "source": [
        "### Hyperparameter search (no GloVe)"
      ]
    },
    {
      "metadata": {
        "id": "hHMn1pcCg7EB",
        "colab_type": "code",
        "outputId": "0aabc2e9-a4e9-4463-a8c6-ec25289a7c2d",
        "colab": {
          "base_uri": "https://localhost:8080/",
          "height": 36
        }
      },
      "cell_type": "code",
      "source": [
        "import gc"
      ],
      "execution_count": 13,
      "outputs": [
        {
          "output_type": "execute_result",
          "data": {
            "text/plain": [
              "164"
            ]
          },
          "metadata": {
            "tags": []
          },
          "execution_count": 13
        }
      ]
    },
    {
      "metadata": {
        "id": "gTxTKk2FA-iw",
        "colab_type": "code",
        "colab": {
          "base_uri": "https://localhost:8080/",
          "height": 36
        },
        "outputId": "76a67236-c180-456e-dacd-607c979eb932"
      },
      "cell_type": "code",
      "source": [
        "K.clear_session()\n",
        "gc.collect()"
      ],
      "execution_count": 25,
      "outputs": [
        {
          "output_type": "execute_result",
          "data": {
            "text/plain": [
              "103"
            ]
          },
          "metadata": {
            "tags": []
          },
          "execution_count": 25
        }
      ]
    },
    {
      "metadata": {
        "id": "ivNhMWzyqCzb",
        "colab_type": "code",
        "colab": {}
      },
      "cell_type": "code",
      "source": [
        "# https://stackoverflow.com/a/40623158\n",
        "import itertools\n",
        "\n",
        "def dict_product(dicts):\n",
        "    return (dict(zip(dicts, x)) for x in itertools.product(*dicts.values()))"
      ],
      "execution_count": 0,
      "outputs": []
    },
    {
      "metadata": {
        "id": "dLQOt6TkBO0z",
        "colab_type": "code",
        "colab": {}
      },
      "cell_type": "code",
      "source": [
        "# getCNNRand(vocabsize, maxlength, ordinal=False, classnum=2, embedding_dim=300,\n",
        "#                embedding_range=0.05, filters=[3,4,5], map_size=100,\n",
        "#                act_fct='relu', constr=MaxNorm(3), optim=\"adadelta\")\n",
        "\n",
        "hyperparams = {'filters' : [(1,2,3),(2,4,6),(1,4,8),(1,2,3,4,5),(3,6,10)], 'map_size' : [20, 50, 100, 200],\n",
        "               'constr':[0.5, 3, 10],\n",
        "              'dropprob':[0.25, 0.5, 0.9]}\n",
        "all_params = [params for params in dict_product(hyperparams)]"
      ],
      "execution_count": 0,
      "outputs": []
    },
    {
      "metadata": {
        "id": "Ap4ZVrqlfVzv",
        "colab_type": "code",
        "colab": {
          "base_uri": "https://localhost:8080/",
          "height": 37373
        },
        "outputId": "4db43d6c-b204-41f5-d3d0-e763dde3b829"
      },
      "cell_type": "code",
      "source": [
        "validation = {}\n",
        "\n",
        "for params in all_params:\n",
        "    model = getCNNRand(enc.vocab_len, enc.max_len, classnum=2, optim=\"adam\", **params)\n",
        "    history = model.fit(subj_x_train,subj_y_train,batch_size=256,epochs=5,validation_data=(subj_x_val,subj_y_val),verbose=1)\n",
        "    validation[tuple((k,v) for k,v in params.items())] = history.history['acc']\n",
        "    del model\n",
        "    K.clear_session()\n",
        "    for i in range(3): gc.collect()"
      ],
      "execution_count": 26,
      "outputs": [
        {
          "output_type": "stream",
          "text": [
            "Train on 8000 samples, validate on 1000 samples\n",
            "Epoch 1/5\n",
            "8000/8000 [==============================] - 2s 271us/step - loss: 0.6704 - acc: 0.6730 - val_loss: 0.6217 - val_acc: 0.8270\n",
            "Epoch 2/5\n",
            "8000/8000 [==============================] - 1s 135us/step - loss: 0.5297 - acc: 0.8423 - val_loss: 0.4343 - val_acc: 0.8530\n",
            "Epoch 3/5\n",
            "8000/8000 [==============================] - 1s 137us/step - loss: 0.3645 - acc: 0.8665 - val_loss: 0.3352 - val_acc: 0.8700\n",
            "Epoch 4/5\n",
            "8000/8000 [==============================] - 1s 136us/step - loss: 0.2647 - acc: 0.8984 - val_loss: 0.2923 - val_acc: 0.8790\n",
            "Epoch 5/5\n",
            "8000/8000 [==============================] - 1s 136us/step - loss: 0.1994 - acc: 0.9297 - val_loss: 0.2689 - val_acc: 0.8820\n",
            "Train on 8000 samples, validate on 1000 samples\n",
            "Epoch 1/5\n",
            "8000/8000 [==============================] - 2s 257us/step - loss: 0.6752 - acc: 0.6082 - val_loss: 0.6379 - val_acc: 0.8360\n",
            "Epoch 2/5\n",
            "8000/8000 [==============================] - 1s 137us/step - loss: 0.5804 - acc: 0.7635 - val_loss: 0.5103 - val_acc: 0.8090\n",
            "Epoch 3/5\n",
            "8000/8000 [==============================] - 1s 136us/step - loss: 0.4646 - acc: 0.7789 - val_loss: 0.3817 - val_acc: 0.8570\n",
            "Epoch 4/5\n",
            "8000/8000 [==============================] - 1s 134us/step - loss: 0.3758 - acc: 0.8177 - val_loss: 0.3242 - val_acc: 0.8710\n",
            "Epoch 5/5\n",
            "8000/8000 [==============================] - 1s 135us/step - loss: 0.3313 - acc: 0.8255 - val_loss: 0.2927 - val_acc: 0.8820\n",
            "Train on 8000 samples, validate on 1000 samples\n",
            "Epoch 1/5\n",
            "8000/8000 [==============================] - 2s 260us/step - loss: 0.6879 - acc: 0.5282 - val_loss: 0.6687 - val_acc: 0.7620\n",
            "Epoch 2/5\n",
            "8000/8000 [==============================] - 1s 137us/step - loss: 0.6610 - acc: 0.5654 - val_loss: 0.6292 - val_acc: 0.8250\n",
            "Epoch 3/5\n",
            "8000/8000 [==============================] - 1s 136us/step - loss: 0.6381 - acc: 0.5720 - val_loss: 0.5892 - val_acc: 0.8540\n",
            "Epoch 4/5\n",
            "8000/8000 [==============================] - 1s 135us/step - loss: 0.6236 - acc: 0.5731 - val_loss: 0.5547 - val_acc: 0.8570\n",
            "Epoch 5/5\n",
            "8000/8000 [==============================] - 1s 134us/step - loss: 0.6170 - acc: 0.5754 - val_loss: 0.5343 - val_acc: 0.8600\n",
            "Train on 8000 samples, validate on 1000 samples\n",
            "Epoch 1/5\n",
            "8000/8000 [==============================] - 2s 262us/step - loss: 0.6402 - acc: 0.6524 - val_loss: 0.5596 - val_acc: 0.8380\n",
            "Epoch 2/5\n",
            "8000/8000 [==============================] - 1s 137us/step - loss: 0.4617 - acc: 0.8500 - val_loss: 0.3815 - val_acc: 0.8600\n",
            "Epoch 3/5\n",
            "8000/8000 [==============================] - 1s 135us/step - loss: 0.3114 - acc: 0.8829 - val_loss: 0.2947 - val_acc: 0.8820\n",
            "Epoch 4/5\n",
            "8000/8000 [==============================] - 1s 137us/step - loss: 0.2164 - acc: 0.9176 - val_loss: 0.2715 - val_acc: 0.8900\n",
            "Epoch 5/5\n",
            "8000/8000 [==============================] - 1s 136us/step - loss: 0.1546 - acc: 0.9439 - val_loss: 0.2493 - val_acc: 0.8950\n",
            "Train on 8000 samples, validate on 1000 samples\n",
            "Epoch 1/5\n",
            "8000/8000 [==============================] - 2s 259us/step - loss: 0.6520 - acc: 0.6541 - val_loss: 0.5734 - val_acc: 0.8450\n",
            "Epoch 2/5\n",
            "8000/8000 [==============================] - 1s 138us/step - loss: 0.4998 - acc: 0.7770 - val_loss: 0.4005 - val_acc: 0.8620\n",
            "Epoch 3/5\n",
            "8000/8000 [==============================] - 1s 138us/step - loss: 0.3871 - acc: 0.8063 - val_loss: 0.3153 - val_acc: 0.8840\n",
            "Epoch 4/5\n",
            "8000/8000 [==============================] - 1s 137us/step - loss: 0.3100 - acc: 0.8407 - val_loss: 0.2815 - val_acc: 0.8940\n",
            "Epoch 5/5\n",
            "8000/8000 [==============================] - 1s 138us/step - loss: 0.2681 - acc: 0.8561 - val_loss: 0.2592 - val_acc: 0.8940\n",
            "Train on 8000 samples, validate on 1000 samples\n",
            "Epoch 1/5\n",
            "8000/8000 [==============================] - 2s 259us/step - loss: 0.6789 - acc: 0.5363 - val_loss: 0.6431 - val_acc: 0.7930\n",
            "Epoch 2/5\n",
            "8000/8000 [==============================] - 1s 138us/step - loss: 0.6460 - acc: 0.5661 - val_loss: 0.6028 - val_acc: 0.8030\n",
            "Epoch 3/5\n",
            "8000/8000 [==============================] - 1s 136us/step - loss: 0.6247 - acc: 0.5807 - val_loss: 0.5714 - val_acc: 0.8450\n",
            "Epoch 4/5\n",
            "8000/8000 [==============================] - 1s 137us/step - loss: 0.6186 - acc: 0.5796 - val_loss: 0.5455 - val_acc: 0.8730\n",
            "Epoch 5/5\n",
            "8000/8000 [==============================] - 1s 136us/step - loss: 0.6071 - acc: 0.5825 - val_loss: 0.5284 - val_acc: 0.8840\n",
            "Train on 8000 samples, validate on 1000 samples\n",
            "Epoch 1/5\n",
            "8000/8000 [==============================] - 2s 262us/step - loss: 0.6402 - acc: 0.7219 - val_loss: 0.5549 - val_acc: 0.8280\n",
            "Epoch 2/5\n",
            "8000/8000 [==============================] - 1s 135us/step - loss: 0.4634 - acc: 0.8227 - val_loss: 0.3866 - val_acc: 0.8420\n",
            "Epoch 3/5\n",
            "8000/8000 [==============================] - 1s 137us/step - loss: 0.3192 - acc: 0.8705 - val_loss: 0.3015 - val_acc: 0.8760\n",
            "Epoch 4/5\n",
            "8000/8000 [==============================] - 1s 139us/step - loss: 0.2170 - acc: 0.9206 - val_loss: 0.2602 - val_acc: 0.8910\n",
            "Epoch 5/5\n",
            "8000/8000 [==============================] - 1s 138us/step - loss: 0.1520 - acc: 0.9435 - val_loss: 0.2370 - val_acc: 0.9030\n",
            "Train on 8000 samples, validate on 1000 samples\n",
            "Epoch 1/5\n",
            "8000/8000 [==============================] - 2s 273us/step - loss: 0.6472 - acc: 0.6593 - val_loss: 0.5678 - val_acc: 0.8350\n",
            "Epoch 2/5\n",
            "8000/8000 [==============================] - 1s 133us/step - loss: 0.5032 - acc: 0.7769 - val_loss: 0.4152 - val_acc: 0.8550\n",
            "Epoch 3/5\n",
            "8000/8000 [==============================] - 1s 137us/step - loss: 0.4005 - acc: 0.7991 - val_loss: 0.3376 - val_acc: 0.8760\n",
            "Epoch 4/5\n",
            "8000/8000 [==============================] - 1s 134us/step - loss: 0.3300 - acc: 0.8251 - val_loss: 0.3048 - val_acc: 0.8760\n",
            "Epoch 5/5\n",
            "8000/8000 [==============================] - 1s 137us/step - loss: 0.2802 - acc: 0.8482 - val_loss: 0.2659 - val_acc: 0.8910\n",
            "Train on 8000 samples, validate on 1000 samples\n",
            "Epoch 1/5\n",
            "8000/8000 [==============================] - 2s 262us/step - loss: 0.6807 - acc: 0.5295 - val_loss: 0.6376 - val_acc: 0.8120\n",
            "Epoch 2/5\n",
            "8000/8000 [==============================] - 1s 139us/step - loss: 0.6442 - acc: 0.5650 - val_loss: 0.5967 - val_acc: 0.8170\n",
            "Epoch 3/5\n",
            "8000/8000 [==============================] - 1s 138us/step - loss: 0.6290 - acc: 0.5724 - val_loss: 0.5658 - val_acc: 0.8430\n",
            "Epoch 4/5\n",
            "8000/8000 [==============================] - 1s 140us/step - loss: 0.6167 - acc: 0.5827 - val_loss: 0.5426 - val_acc: 0.8610\n",
            "Epoch 5/5\n",
            "8000/8000 [==============================] - 1s 137us/step - loss: 0.6043 - acc: 0.5896 - val_loss: 0.5254 - val_acc: 0.8620\n",
            "Train on 8000 samples, validate on 1000 samples\n",
            "Epoch 1/5\n",
            "8000/8000 [==============================] - 4s 440us/step - loss: 0.6742 - acc: 0.6296 - val_loss: 0.6305 - val_acc: 0.7800\n",
            "Epoch 2/5\n",
            "8000/8000 [==============================] - 1s 171us/step - loss: 0.5373 - acc: 0.8170 - val_loss: 0.4404 - val_acc: 0.8050\n",
            "Epoch 3/5\n",
            "8000/8000 [==============================] - 1s 171us/step - loss: 0.3620 - acc: 0.8602 - val_loss: 0.3297 - val_acc: 0.8730\n",
            "Epoch 4/5\n",
            "8000/8000 [==============================] - 1s 171us/step - loss: 0.2692 - acc: 0.8932 - val_loss: 0.2897 - val_acc: 0.8720\n",
            "Epoch 5/5\n",
            "8000/8000 [==============================] - 1s 171us/step - loss: 0.1998 - acc: 0.9239 - val_loss: 0.2623 - val_acc: 0.8810\n",
            "Train on 8000 samples, validate on 1000 samples\n",
            "Epoch 1/5\n",
            "8000/8000 [==============================] - 2s 295us/step - loss: 0.6725 - acc: 0.6178 - val_loss: 0.6281 - val_acc: 0.8480\n",
            "Epoch 2/5\n",
            "8000/8000 [==============================] - 1s 171us/step - loss: 0.5522 - acc: 0.7548 - val_loss: 0.4464 - val_acc: 0.8450\n",
            "Epoch 3/5\n",
            "8000/8000 [==============================] - 1s 170us/step - loss: 0.4305 - acc: 0.7917 - val_loss: 0.3527 - val_acc: 0.8710\n",
            "Epoch 4/5\n",
            "8000/8000 [==============================] - 1s 171us/step - loss: 0.3443 - acc: 0.8276 - val_loss: 0.2958 - val_acc: 0.8860\n",
            "Epoch 5/5\n",
            "8000/8000 [==============================] - 1s 170us/step - loss: 0.3025 - acc: 0.8353 - val_loss: 0.2713 - val_acc: 0.8950\n",
            "Train on 8000 samples, validate on 1000 samples\n",
            "Epoch 1/5\n",
            "8000/8000 [==============================] - 2s 290us/step - loss: 0.6846 - acc: 0.5295 - val_loss: 0.6592 - val_acc: 0.8240\n",
            "Epoch 2/5\n",
            "8000/8000 [==============================] - 1s 170us/step - loss: 0.6527 - acc: 0.5595 - val_loss: 0.6065 - val_acc: 0.8320\n",
            "Epoch 3/5\n",
            "8000/8000 [==============================] - 1s 169us/step - loss: 0.6335 - acc: 0.5696 - val_loss: 0.5708 - val_acc: 0.8360\n",
            "Epoch 4/5\n",
            "8000/8000 [==============================] - 1s 170us/step - loss: 0.6238 - acc: 0.5691 - val_loss: 0.5532 - val_acc: 0.8200\n",
            "Epoch 5/5\n",
            "8000/8000 [==============================] - 1s 169us/step - loss: 0.6112 - acc: 0.5809 - val_loss: 0.5240 - val_acc: 0.8700\n",
            "Train on 8000 samples, validate on 1000 samples\n",
            "Epoch 1/5\n",
            "8000/8000 [==============================] - 2s 290us/step - loss: 0.6377 - acc: 0.7005 - val_loss: 0.5373 - val_acc: 0.8610\n",
            "Epoch 2/5\n",
            "8000/8000 [==============================] - 1s 170us/step - loss: 0.4272 - acc: 0.8522 - val_loss: 0.3386 - val_acc: 0.8730\n",
            "Epoch 3/5\n",
            "8000/8000 [==============================] - 1s 170us/step - loss: 0.2765 - acc: 0.8930 - val_loss: 0.2675 - val_acc: 0.8870\n",
            "Epoch 4/5\n",
            "8000/8000 [==============================] - 1s 170us/step - loss: 0.1757 - acc: 0.9350 - val_loss: 0.2389 - val_acc: 0.8930\n",
            "Epoch 5/5\n",
            "8000/8000 [==============================] - 1s 170us/step - loss: 0.1154 - acc: 0.9569 - val_loss: 0.2352 - val_acc: 0.8990\n",
            "Train on 8000 samples, validate on 1000 samples\n",
            "Epoch 1/5\n",
            "8000/8000 [==============================] - 2s 291us/step - loss: 0.6526 - acc: 0.6095 - val_loss: 0.5713 - val_acc: 0.8540\n",
            "Epoch 2/5\n",
            "8000/8000 [==============================] - 1s 172us/step - loss: 0.5014 - acc: 0.7732 - val_loss: 0.3911 - val_acc: 0.8600\n",
            "Epoch 3/5\n",
            "8000/8000 [==============================] - 1s 171us/step - loss: 0.3923 - acc: 0.7989 - val_loss: 0.3121 - val_acc: 0.8910\n",
            "Epoch 4/5\n",
            "8000/8000 [==============================] - 1s 172us/step - loss: 0.3089 - acc: 0.8370 - val_loss: 0.2714 - val_acc: 0.8910\n",
            "Epoch 5/5\n",
            "8000/8000 [==============================] - 1s 170us/step - loss: 0.2550 - acc: 0.8595 - val_loss: 0.2430 - val_acc: 0.8990\n",
            "Train on 8000 samples, validate on 1000 samples\n",
            "Epoch 1/5\n",
            "8000/8000 [==============================] - 2s 295us/step - loss: 0.6742 - acc: 0.5387 - val_loss: 0.6289 - val_acc: 0.8250\n",
            "Epoch 2/5\n",
            "8000/8000 [==============================] - 1s 171us/step - loss: 0.6427 - acc: 0.5649 - val_loss: 0.5816 - val_acc: 0.8420\n",
            "Epoch 3/5\n",
            "8000/8000 [==============================] - 1s 172us/step - loss: 0.6227 - acc: 0.5729 - val_loss: 0.5441 - val_acc: 0.8800\n",
            "Epoch 4/5\n",
            "8000/8000 [==============================] - 1s 172us/step - loss: 0.6096 - acc: 0.5842 - val_loss: 0.5193 - val_acc: 0.8730\n",
            "Epoch 5/5\n",
            "8000/8000 [==============================] - 1s 172us/step - loss: 0.5969 - acc: 0.5881 - val_loss: 0.4961 - val_acc: 0.8930\n",
            "Train on 8000 samples, validate on 1000 samples\n",
            "Epoch 1/5\n",
            "8000/8000 [==============================] - 2s 296us/step - loss: 0.6291 - acc: 0.6974 - val_loss: 0.5118 - val_acc: 0.8550\n",
            "Epoch 2/5\n",
            "8000/8000 [==============================] - 1s 171us/step - loss: 0.4021 - acc: 0.8601 - val_loss: 0.3326 - val_acc: 0.8640\n",
            "Epoch 3/5\n",
            "8000/8000 [==============================] - 1s 173us/step - loss: 0.2612 - acc: 0.8974 - val_loss: 0.2661 - val_acc: 0.8890\n",
            "Epoch 4/5\n",
            "8000/8000 [==============================] - 1s 172us/step - loss: 0.1763 - acc: 0.9320 - val_loss: 0.2448 - val_acc: 0.8910\n",
            "Epoch 5/5\n",
            "8000/8000 [==============================] - 1s 171us/step - loss: 0.1195 - acc: 0.9551 - val_loss: 0.2496 - val_acc: 0.8910\n",
            "Train on 8000 samples, validate on 1000 samples\n",
            "Epoch 1/5\n",
            "8000/8000 [==============================] - 2s 295us/step - loss: 0.6410 - acc: 0.6619 - val_loss: 0.5471 - val_acc: 0.8410\n",
            "Epoch 2/5\n",
            "8000/8000 [==============================] - 1s 171us/step - loss: 0.4813 - acc: 0.7711 - val_loss: 0.3757 - val_acc: 0.8630\n",
            "Epoch 3/5\n",
            "8000/8000 [==============================] - 1s 171us/step - loss: 0.3634 - acc: 0.8184 - val_loss: 0.3015 - val_acc: 0.8770\n",
            "Epoch 4/5\n",
            "8000/8000 [==============================] - 1s 171us/step - loss: 0.2908 - acc: 0.8479 - val_loss: 0.2637 - val_acc: 0.8810\n",
            "Epoch 5/5\n",
            "8000/8000 [==============================] - 1s 172us/step - loss: 0.2537 - acc: 0.8541 - val_loss: 0.2450 - val_acc: 0.8960\n",
            "Train on 8000 samples, validate on 1000 samples\n",
            "Epoch 1/5\n",
            "8000/8000 [==============================] - 2s 296us/step - loss: 0.6743 - acc: 0.5409 - val_loss: 0.6267 - val_acc: 0.8320\n",
            "Epoch 2/5\n",
            "8000/8000 [==============================] - 1s 172us/step - loss: 0.6337 - acc: 0.5769 - val_loss: 0.5696 - val_acc: 0.8570\n",
            "Epoch 3/5\n",
            "8000/8000 [==============================] - 1s 172us/step - loss: 0.6201 - acc: 0.5865 - val_loss: 0.5426 - val_acc: 0.8440\n",
            "Epoch 4/5\n",
            "8000/8000 [==============================] - 1s 171us/step - loss: 0.6078 - acc: 0.5804 - val_loss: 0.5186 - val_acc: 0.8770\n",
            "Epoch 5/5\n",
            "8000/8000 [==============================] - 1s 170us/step - loss: 0.6026 - acc: 0.5820 - val_loss: 0.4945 - val_acc: 0.8780\n",
            "Train on 8000 samples, validate on 1000 samples\n",
            "Epoch 1/5\n",
            "8000/8000 [==============================] - 4s 482us/step - loss: 0.6710 - acc: 0.6175 - val_loss: 0.6101 - val_acc: 0.8510\n",
            "Epoch 2/5\n",
            "8000/8000 [==============================] - 2s 226us/step - loss: 0.5006 - acc: 0.8395 - val_loss: 0.3912 - val_acc: 0.8490\n",
            "Epoch 3/5\n",
            "8000/8000 [==============================] - 2s 228us/step - loss: 0.3334 - acc: 0.8685 - val_loss: 0.3026 - val_acc: 0.8750\n",
            "Epoch 4/5\n",
            "8000/8000 [==============================] - 2s 228us/step - loss: 0.2337 - acc: 0.9044 - val_loss: 0.2650 - val_acc: 0.8790\n",
            "Epoch 5/5\n",
            "8000/8000 [==============================] - 2s 229us/step - loss: 0.1698 - acc: 0.9320 - val_loss: 0.2511 - val_acc: 0.8980\n",
            "Train on 8000 samples, validate on 1000 samples\n",
            "Epoch 1/5\n",
            "8000/8000 [==============================] - 3s 362us/step - loss: 0.6711 - acc: 0.6300 - val_loss: 0.6144 - val_acc: 0.8440\n",
            "Epoch 2/5\n",
            "8000/8000 [==============================] - 2s 229us/step - loss: 0.5258 - acc: 0.7635 - val_loss: 0.4057 - val_acc: 0.8630\n",
            "Epoch 3/5\n",
            "8000/8000 [==============================] - 2s 228us/step - loss: 0.4118 - acc: 0.7908 - val_loss: 0.3269 - val_acc: 0.8770\n",
            "Epoch 4/5\n",
            "8000/8000 [==============================] - 2s 225us/step - loss: 0.3339 - acc: 0.8229 - val_loss: 0.2857 - val_acc: 0.8820\n",
            "Epoch 5/5\n",
            "8000/8000 [==============================] - 2s 227us/step - loss: 0.2873 - acc: 0.8370 - val_loss: 0.2631 - val_acc: 0.8940\n",
            "Train on 8000 samples, validate on 1000 samples\n",
            "Epoch 1/5\n",
            "8000/8000 [==============================] - 3s 355us/step - loss: 0.6880 - acc: 0.5256 - val_loss: 0.6644 - val_acc: 0.8200\n",
            "Epoch 2/5\n",
            "8000/8000 [==============================] - 2s 223us/step - loss: 0.6531 - acc: 0.5620 - val_loss: 0.6007 - val_acc: 0.8480\n",
            "Epoch 3/5\n",
            "8000/8000 [==============================] - 2s 226us/step - loss: 0.6338 - acc: 0.5694 - val_loss: 0.5660 - val_acc: 0.8570\n",
            "Epoch 4/5\n",
            "8000/8000 [==============================] - 2s 224us/step - loss: 0.6172 - acc: 0.5760 - val_loss: 0.5303 - val_acc: 0.8680\n",
            "Epoch 5/5\n",
            "8000/8000 [==============================] - 2s 227us/step - loss: 0.6077 - acc: 0.5853 - val_loss: 0.5082 - val_acc: 0.8990\n",
            "Train on 8000 samples, validate on 1000 samples\n",
            "Epoch 1/5\n",
            "8000/8000 [==============================] - 3s 354us/step - loss: 0.6451 - acc: 0.6671 - val_loss: 0.5549 - val_acc: 0.7990\n",
            "Epoch 2/5\n",
            "8000/8000 [==============================] - 2s 229us/step - loss: 0.4264 - acc: 0.8549 - val_loss: 0.3258 - val_acc: 0.8730\n",
            "Epoch 3/5\n",
            "8000/8000 [==============================] - 2s 227us/step - loss: 0.2671 - acc: 0.8959 - val_loss: 0.2561 - val_acc: 0.8980\n",
            "Epoch 4/5\n",
            "8000/8000 [==============================] - 2s 228us/step - loss: 0.1758 - acc: 0.9308 - val_loss: 0.2328 - val_acc: 0.8990\n",
            "Epoch 5/5\n",
            "8000/8000 [==============================] - 2s 225us/step - loss: 0.1211 - acc: 0.9481 - val_loss: 0.2480 - val_acc: 0.8980\n",
            "Train on 8000 samples, validate on 1000 samples\n",
            "Epoch 1/5\n",
            "8000/8000 [==============================] - 3s 354us/step - loss: 0.6495 - acc: 0.6298 - val_loss: 0.5570 - val_acc: 0.8280\n",
            "Epoch 2/5\n",
            "8000/8000 [==============================] - 2s 226us/step - loss: 0.4777 - acc: 0.7830 - val_loss: 0.3628 - val_acc: 0.8700\n",
            "Epoch 3/5\n",
            "8000/8000 [==============================] - 2s 225us/step - loss: 0.3667 - acc: 0.8107 - val_loss: 0.2873 - val_acc: 0.8870\n",
            "Epoch 4/5\n",
            "8000/8000 [==============================] - 2s 226us/step - loss: 0.2927 - acc: 0.8390 - val_loss: 0.2659 - val_acc: 0.8900\n",
            "Epoch 5/5\n",
            "8000/8000 [==============================] - 2s 226us/step - loss: 0.2440 - acc: 0.8642 - val_loss: 0.2398 - val_acc: 0.9020\n",
            "Train on 8000 samples, validate on 1000 samples\n",
            "Epoch 1/5\n",
            "8000/8000 [==============================] - 3s 351us/step - loss: 0.6777 - acc: 0.5395 - val_loss: 0.6238 - val_acc: 0.7930\n",
            "Epoch 2/5\n",
            "8000/8000 [==============================] - 2s 224us/step - loss: 0.6437 - acc: 0.5660 - val_loss: 0.5781 - val_acc: 0.8360\n",
            "Epoch 3/5\n",
            "8000/8000 [==============================] - 2s 223us/step - loss: 0.6264 - acc: 0.5724 - val_loss: 0.5471 - val_acc: 0.8730\n",
            "Epoch 4/5\n",
            "8000/8000 [==============================] - 2s 226us/step - loss: 0.6089 - acc: 0.5782 - val_loss: 0.5210 - val_acc: 0.8890\n",
            "Epoch 5/5\n",
            "8000/8000 [==============================] - 2s 227us/step - loss: 0.6043 - acc: 0.5866 - val_loss: 0.5018 - val_acc: 0.8850\n",
            "Train on 8000 samples, validate on 1000 samples\n",
            "Epoch 1/5\n",
            "8000/8000 [==============================] - 3s 361us/step - loss: 0.6461 - acc: 0.6372 - val_loss: 0.5394 - val_acc: 0.8530\n",
            "Epoch 2/5\n",
            "8000/8000 [==============================] - 2s 228us/step - loss: 0.4296 - acc: 0.8531 - val_loss: 0.3359 - val_acc: 0.8660\n",
            "Epoch 3/5\n",
            "8000/8000 [==============================] - 2s 228us/step - loss: 0.2663 - acc: 0.8941 - val_loss: 0.2604 - val_acc: 0.8810\n",
            "Epoch 4/5\n",
            "8000/8000 [==============================] - 2s 227us/step - loss: 0.1742 - acc: 0.9296 - val_loss: 0.2400 - val_acc: 0.9000\n",
            "Epoch 5/5\n",
            "8000/8000 [==============================] - 2s 227us/step - loss: 0.1154 - acc: 0.9521 - val_loss: 0.2585 - val_acc: 0.8940\n",
            "Train on 8000 samples, validate on 1000 samples\n",
            "Epoch 1/5\n",
            "8000/8000 [==============================] - 3s 351us/step - loss: 0.6502 - acc: 0.6234 - val_loss: 0.5554 - val_acc: 0.8560\n",
            "Epoch 2/5\n",
            "8000/8000 [==============================] - 2s 226us/step - loss: 0.4782 - acc: 0.7775 - val_loss: 0.3551 - val_acc: 0.8740\n",
            "Epoch 3/5\n",
            "8000/8000 [==============================] - 2s 226us/step - loss: 0.3541 - acc: 0.8141 - val_loss: 0.2848 - val_acc: 0.8810\n",
            "Epoch 4/5\n",
            "8000/8000 [==============================] - 2s 226us/step - loss: 0.2894 - acc: 0.8380 - val_loss: 0.2488 - val_acc: 0.8970\n",
            "Epoch 5/5\n",
            "8000/8000 [==============================] - 2s 226us/step - loss: 0.2403 - acc: 0.8611 - val_loss: 0.2386 - val_acc: 0.9010\n",
            "Train on 8000 samples, validate on 1000 samples\n",
            "Epoch 1/5\n",
            "8000/8000 [==============================] - 3s 356us/step - loss: 0.6856 - acc: 0.5268 - val_loss: 0.6423 - val_acc: 0.7590\n",
            "Epoch 2/5\n",
            "8000/8000 [==============================] - 2s 227us/step - loss: 0.6467 - acc: 0.5650 - val_loss: 0.5884 - val_acc: 0.8500\n",
            "Epoch 3/5\n",
            "8000/8000 [==============================] - 2s 227us/step - loss: 0.6217 - acc: 0.5759 - val_loss: 0.5492 - val_acc: 0.8580\n",
            "Epoch 4/5\n",
            "8000/8000 [==============================] - 2s 226us/step - loss: 0.6104 - acc: 0.5776 - val_loss: 0.5202 - val_acc: 0.8690\n",
            "Epoch 5/5\n",
            "8000/8000 [==============================] - 2s 226us/step - loss: 0.6052 - acc: 0.5793 - val_loss: 0.4949 - val_acc: 0.8860\n",
            "Train on 8000 samples, validate on 1000 samples\n",
            "Epoch 1/5\n",
            "8000/8000 [==============================] - 4s 507us/step - loss: 0.6679 - acc: 0.6286 - val_loss: 0.5951 - val_acc: 0.8080\n",
            "Epoch 2/5\n",
            "8000/8000 [==============================] - 3s 337us/step - loss: 0.4550 - acc: 0.8323 - val_loss: 0.3569 - val_acc: 0.8610\n",
            "Epoch 3/5\n",
            "8000/8000 [==============================] - 3s 338us/step - loss: 0.2903 - acc: 0.8881 - val_loss: 0.3046 - val_acc: 0.8720\n",
            "Epoch 4/5\n",
            "8000/8000 [==============================] - 3s 337us/step - loss: 0.1967 - acc: 0.9194 - val_loss: 0.2789 - val_acc: 0.8840\n",
            "Epoch 5/5\n",
            "8000/8000 [==============================] - 3s 338us/step - loss: 0.1388 - acc: 0.9419 - val_loss: 0.2528 - val_acc: 0.8940\n",
            "Train on 8000 samples, validate on 1000 samples\n",
            "Epoch 1/5\n",
            "8000/8000 [==============================] - 4s 467us/step - loss: 0.6697 - acc: 0.5889 - val_loss: 0.5949 - val_acc: 0.8400\n",
            "Epoch 2/5\n",
            "8000/8000 [==============================] - 3s 336us/step - loss: 0.5167 - acc: 0.7626 - val_loss: 0.3813 - val_acc: 0.8610\n",
            "Epoch 3/5\n",
            "8000/8000 [==============================] - 3s 338us/step - loss: 0.3968 - acc: 0.7947 - val_loss: 0.3160 - val_acc: 0.8650\n",
            "Epoch 4/5\n",
            "8000/8000 [==============================] - 3s 336us/step - loss: 0.3251 - acc: 0.8256 - val_loss: 0.2730 - val_acc: 0.8890\n",
            "Epoch 5/5\n",
            "8000/8000 [==============================] - 3s 337us/step - loss: 0.2726 - acc: 0.8494 - val_loss: 0.2510 - val_acc: 0.8970\n",
            "Train on 8000 samples, validate on 1000 samples\n",
            "Epoch 1/5\n",
            "8000/8000 [==============================] - 4s 461us/step - loss: 0.6908 - acc: 0.5262 - val_loss: 0.6766 - val_acc: 0.5130\n",
            "Epoch 2/5\n",
            "8000/8000 [==============================] - 3s 336us/step - loss: 0.6591 - acc: 0.5536 - val_loss: 0.6018 - val_acc: 0.8480\n",
            "Epoch 3/5\n",
            "8000/8000 [==============================] - 3s 336us/step - loss: 0.6292 - acc: 0.5710 - val_loss: 0.5532 - val_acc: 0.8270\n",
            "Epoch 4/5\n",
            "8000/8000 [==============================] - 3s 335us/step - loss: 0.6179 - acc: 0.5729 - val_loss: 0.5209 - val_acc: 0.8780\n",
            "Epoch 5/5\n",
            "8000/8000 [==============================] - 3s 334us/step - loss: 0.6127 - acc: 0.5815 - val_loss: 0.5142 - val_acc: 0.8560\n",
            "Train on 8000 samples, validate on 1000 samples\n",
            "Epoch 1/5\n",
            "8000/8000 [==============================] - 4s 467us/step - loss: 0.6480 - acc: 0.6666 - val_loss: 0.5327 - val_acc: 0.8480\n",
            "Epoch 2/5\n",
            "8000/8000 [==============================] - 3s 338us/step - loss: 0.4167 - acc: 0.8415 - val_loss: 0.3112 - val_acc: 0.8770\n",
            "Epoch 3/5\n",
            "8000/8000 [==============================] - 3s 337us/step - loss: 0.2535 - acc: 0.8984 - val_loss: 0.2495 - val_acc: 0.8980\n",
            "Epoch 4/5\n",
            "8000/8000 [==============================] - 3s 338us/step - loss: 0.1668 - acc: 0.9305 - val_loss: 0.2507 - val_acc: 0.8990\n",
            "Epoch 5/5\n",
            "8000/8000 [==============================] - 3s 340us/step - loss: 0.1016 - acc: 0.9549 - val_loss: 0.2440 - val_acc: 0.9010\n",
            "Train on 8000 samples, validate on 1000 samples\n",
            "Epoch 1/5\n",
            "8000/8000 [==============================] - 4s 467us/step - loss: 0.6491 - acc: 0.6394 - val_loss: 0.5406 - val_acc: 0.8510\n",
            "Epoch 2/5\n",
            "8000/8000 [==============================] - 3s 342us/step - loss: 0.4700 - acc: 0.7680 - val_loss: 0.3439 - val_acc: 0.8680\n",
            "Epoch 3/5\n",
            "8000/8000 [==============================] - 3s 341us/step - loss: 0.3581 - acc: 0.8118 - val_loss: 0.2789 - val_acc: 0.8800\n",
            "Epoch 4/5\n",
            "8000/8000 [==============================] - 3s 339us/step - loss: 0.2884 - acc: 0.8454 - val_loss: 0.2537 - val_acc: 0.8820\n",
            "Epoch 5/5\n",
            "8000/8000 [==============================] - 3s 338us/step - loss: 0.2470 - acc: 0.8529 - val_loss: 0.2456 - val_acc: 0.8910\n",
            "Train on 8000 samples, validate on 1000 samples\n",
            "Epoch 1/5\n",
            "8000/8000 [==============================] - 4s 465us/step - loss: 0.6926 - acc: 0.5258 - val_loss: 0.6420 - val_acc: 0.7300\n",
            "Epoch 2/5\n",
            "8000/8000 [==============================] - 3s 334us/step - loss: 0.6496 - acc: 0.5630 - val_loss: 0.5763 - val_acc: 0.7960\n",
            "Epoch 3/5\n",
            "8000/8000 [==============================] - 3s 335us/step - loss: 0.6226 - acc: 0.5793 - val_loss: 0.5362 - val_acc: 0.8820\n",
            "Epoch 4/5\n",
            "8000/8000 [==============================] - 3s 336us/step - loss: 0.6178 - acc: 0.5721 - val_loss: 0.5164 - val_acc: 0.8760\n",
            "Epoch 5/5\n",
            "8000/8000 [==============================] - 3s 336us/step - loss: 0.6053 - acc: 0.5879 - val_loss: 0.4906 - val_acc: 0.8900\n",
            "Train on 8000 samples, validate on 1000 samples\n",
            "Epoch 1/5\n",
            "8000/8000 [==============================] - 4s 467us/step - loss: 0.6493 - acc: 0.6322 - val_loss: 0.5386 - val_acc: 0.8630\n",
            "Epoch 2/5\n",
            "8000/8000 [==============================] - 3s 340us/step - loss: 0.4218 - acc: 0.8449 - val_loss: 0.3210 - val_acc: 0.8740\n",
            "Epoch 3/5\n",
            "8000/8000 [==============================] - 3s 338us/step - loss: 0.2589 - acc: 0.8922 - val_loss: 0.2667 - val_acc: 0.8790\n",
            "Epoch 4/5\n",
            "8000/8000 [==============================] - 3s 338us/step - loss: 0.1657 - acc: 0.9331 - val_loss: 0.2495 - val_acc: 0.8930\n",
            "Epoch 5/5\n",
            "8000/8000 [==============================] - 3s 340us/step - loss: 0.1112 - acc: 0.9521 - val_loss: 0.2406 - val_acc: 0.8980\n",
            "Train on 8000 samples, validate on 1000 samples\n",
            "Epoch 1/5\n",
            "8000/8000 [==============================] - 4s 474us/step - loss: 0.6476 - acc: 0.6434 - val_loss: 0.5423 - val_acc: 0.8530\n",
            "Epoch 2/5\n",
            "8000/8000 [==============================] - 3s 343us/step - loss: 0.4616 - acc: 0.7809 - val_loss: 0.3389 - val_acc: 0.8700\n",
            "Epoch 3/5\n",
            "8000/8000 [==============================] - 3s 341us/step - loss: 0.3469 - acc: 0.8165 - val_loss: 0.2617 - val_acc: 0.8840\n",
            "Epoch 4/5\n",
            "8000/8000 [==============================] - 3s 340us/step - loss: 0.2783 - acc: 0.8409 - val_loss: 0.2384 - val_acc: 0.8970\n",
            "Epoch 5/5\n",
            "8000/8000 [==============================] - 3s 339us/step - loss: 0.2406 - acc: 0.8555 - val_loss: 0.2227 - val_acc: 0.9090\n",
            "Train on 8000 samples, validate on 1000 samples\n",
            "Epoch 1/5\n",
            "8000/8000 [==============================] - 4s 469us/step - loss: 0.6912 - acc: 0.5282 - val_loss: 0.6492 - val_acc: 0.6970\n",
            "Epoch 2/5\n",
            "8000/8000 [==============================] - 3s 335us/step - loss: 0.6461 - acc: 0.5581 - val_loss: 0.5821 - val_acc: 0.8550\n",
            "Epoch 3/5\n",
            "8000/8000 [==============================] - 3s 337us/step - loss: 0.6242 - acc: 0.5726 - val_loss: 0.5341 - val_acc: 0.8690\n",
            "Epoch 4/5\n",
            "8000/8000 [==============================] - 3s 339us/step - loss: 0.6115 - acc: 0.5730 - val_loss: 0.5113 - val_acc: 0.8860\n",
            "Epoch 5/5\n",
            "8000/8000 [==============================] - 3s 339us/step - loss: 0.6036 - acc: 0.5799 - val_loss: 0.4966 - val_acc: 0.8920\n",
            "Train on 8000 samples, validate on 1000 samples\n",
            "Epoch 1/5\n",
            "8000/8000 [==============================] - 3s 378us/step - loss: 0.6786 - acc: 0.6287 - val_loss: 0.6468 - val_acc: 0.8460\n",
            "Epoch 2/5\n",
            "8000/8000 [==============================] - 1s 160us/step - loss: 0.5650 - acc: 0.8460 - val_loss: 0.4574 - val_acc: 0.8440\n",
            "Epoch 3/5\n",
            "8000/8000 [==============================] - 1s 163us/step - loss: 0.3751 - acc: 0.8618 - val_loss: 0.3338 - val_acc: 0.8640\n",
            "Epoch 4/5\n",
            "8000/8000 [==============================] - 1s 161us/step - loss: 0.2544 - acc: 0.9042 - val_loss: 0.2775 - val_acc: 0.8810\n",
            "Epoch 5/5\n",
            "8000/8000 [==============================] - 1s 158us/step - loss: 0.1735 - acc: 0.9415 - val_loss: 0.2648 - val_acc: 0.8860\n",
            "Train on 8000 samples, validate on 1000 samples\n",
            "Epoch 1/5\n",
            "8000/8000 [==============================] - 2s 289us/step - loss: 0.6825 - acc: 0.5901 - val_loss: 0.6565 - val_acc: 0.8080\n",
            "Epoch 2/5\n",
            "8000/8000 [==============================] - 1s 157us/step - loss: 0.6090 - acc: 0.7394 - val_loss: 0.5399 - val_acc: 0.8160\n",
            "Epoch 3/5\n",
            "8000/8000 [==============================] - 1s 159us/step - loss: 0.4830 - acc: 0.7843 - val_loss: 0.4156 - val_acc: 0.8460\n",
            "Epoch 4/5\n",
            "8000/8000 [==============================] - 1s 160us/step - loss: 0.4035 - acc: 0.8025 - val_loss: 0.3537 - val_acc: 0.8500\n",
            "Epoch 5/5\n",
            "8000/8000 [==============================] - 1s 162us/step - loss: 0.3314 - acc: 0.8267 - val_loss: 0.3061 - val_acc: 0.8660\n",
            "Train on 8000 samples, validate on 1000 samples\n",
            "Epoch 1/5\n",
            "8000/8000 [==============================] - 2s 282us/step - loss: 0.6957 - acc: 0.5187 - val_loss: 0.6844 - val_acc: 0.6370\n",
            "Epoch 2/5\n",
            "8000/8000 [==============================] - 1s 157us/step - loss: 0.6736 - acc: 0.5561 - val_loss: 0.6556 - val_acc: 0.7670\n",
            "Epoch 3/5\n",
            "8000/8000 [==============================] - 1s 158us/step - loss: 0.6501 - acc: 0.5632 - val_loss: 0.6035 - val_acc: 0.8220\n",
            "Epoch 4/5\n",
            "8000/8000 [==============================] - 1s 159us/step - loss: 0.6287 - acc: 0.5681 - val_loss: 0.5673 - val_acc: 0.8240\n",
            "Epoch 5/5\n",
            "8000/8000 [==============================] - 1s 158us/step - loss: 0.6185 - acc: 0.5754 - val_loss: 0.5492 - val_acc: 0.8580\n",
            "Train on 8000 samples, validate on 1000 samples\n",
            "Epoch 1/5\n",
            "8000/8000 [==============================] - 2s 282us/step - loss: 0.6634 - acc: 0.6480 - val_loss: 0.5970 - val_acc: 0.8440\n",
            "Epoch 2/5\n",
            "8000/8000 [==============================] - 1s 161us/step - loss: 0.4913 - acc: 0.8375 - val_loss: 0.3961 - val_acc: 0.8530\n",
            "Epoch 3/5\n",
            "8000/8000 [==============================] - 1s 159us/step - loss: 0.3069 - acc: 0.8826 - val_loss: 0.2868 - val_acc: 0.8830\n",
            "Epoch 4/5\n",
            "8000/8000 [==============================] - 1s 158us/step - loss: 0.1894 - acc: 0.9284 - val_loss: 0.2451 - val_acc: 0.9000\n",
            "Epoch 5/5\n",
            "8000/8000 [==============================] - 1s 158us/step - loss: 0.1304 - acc: 0.9491 - val_loss: 0.2235 - val_acc: 0.9020\n",
            "Train on 8000 samples, validate on 1000 samples\n",
            "Epoch 1/5\n",
            "8000/8000 [==============================] - 2s 284us/step - loss: 0.6730 - acc: 0.5875 - val_loss: 0.6264 - val_acc: 0.8040\n",
            "Epoch 2/5\n",
            "8000/8000 [==============================] - 1s 162us/step - loss: 0.5619 - acc: 0.7441 - val_loss: 0.4788 - val_acc: 0.8270\n",
            "Epoch 3/5\n",
            "8000/8000 [==============================] - 1s 164us/step - loss: 0.4301 - acc: 0.7947 - val_loss: 0.3513 - val_acc: 0.8630\n",
            "Epoch 4/5\n",
            "8000/8000 [==============================] - 1s 162us/step - loss: 0.3430 - acc: 0.8255 - val_loss: 0.2911 - val_acc: 0.8840\n",
            "Epoch 5/5\n",
            "8000/8000 [==============================] - 1s 160us/step - loss: 0.2772 - acc: 0.8499 - val_loss: 0.2559 - val_acc: 0.8980\n",
            "Train on 8000 samples, validate on 1000 samples\n",
            "Epoch 1/5\n",
            "8000/8000 [==============================] - 2s 284us/step - loss: 0.6824 - acc: 0.5316 - val_loss: 0.6535 - val_acc: 0.8110\n",
            "Epoch 2/5\n",
            "8000/8000 [==============================] - 1s 159us/step - loss: 0.6531 - acc: 0.5604 - val_loss: 0.6130 - val_acc: 0.7950\n",
            "Epoch 3/5\n",
            "8000/8000 [==============================] - 1s 157us/step - loss: 0.6351 - acc: 0.5630 - val_loss: 0.5767 - val_acc: 0.8550\n",
            "Epoch 4/5\n",
            "8000/8000 [==============================] - 1s 159us/step - loss: 0.6226 - acc: 0.5737 - val_loss: 0.5570 - val_acc: 0.8600\n",
            "Epoch 5/5\n",
            "8000/8000 [==============================] - 1s 158us/step - loss: 0.6048 - acc: 0.5876 - val_loss: 0.5321 - val_acc: 0.8840\n",
            "Train on 8000 samples, validate on 1000 samples\n",
            "Epoch 1/5\n",
            "8000/8000 [==============================] - 2s 284us/step - loss: 0.6616 - acc: 0.6396 - val_loss: 0.5960 - val_acc: 0.7750\n",
            "Epoch 2/5\n",
            "8000/8000 [==============================] - 1s 157us/step - loss: 0.5016 - acc: 0.8325 - val_loss: 0.4108 - val_acc: 0.8560\n",
            "Epoch 3/5\n",
            "8000/8000 [==============================] - 1s 158us/step - loss: 0.3369 - acc: 0.8772 - val_loss: 0.3152 - val_acc: 0.8670\n",
            "Epoch 4/5\n",
            "8000/8000 [==============================] - 1s 158us/step - loss: 0.2260 - acc: 0.9156 - val_loss: 0.2641 - val_acc: 0.8880\n",
            "Epoch 5/5\n",
            "8000/8000 [==============================] - 1s 159us/step - loss: 0.1508 - acc: 0.9456 - val_loss: 0.2455 - val_acc: 0.8930\n",
            "Train on 8000 samples, validate on 1000 samples\n",
            "Epoch 1/5\n",
            "8000/8000 [==============================] - 2s 277us/step - loss: 0.6685 - acc: 0.6085 - val_loss: 0.6275 - val_acc: 0.7320\n",
            "Epoch 2/5\n",
            "8000/8000 [==============================] - 1s 158us/step - loss: 0.5519 - acc: 0.7652 - val_loss: 0.4496 - val_acc: 0.8530\n",
            "Epoch 3/5\n",
            "8000/8000 [==============================] - 1s 158us/step - loss: 0.4163 - acc: 0.8013 - val_loss: 0.3391 - val_acc: 0.8710\n",
            "Epoch 4/5\n",
            "8000/8000 [==============================] - 1s 157us/step - loss: 0.3323 - acc: 0.8345 - val_loss: 0.2787 - val_acc: 0.8910\n",
            "Epoch 5/5\n",
            "8000/8000 [==============================] - 1s 157us/step - loss: 0.2724 - acc: 0.8604 - val_loss: 0.2462 - val_acc: 0.9060\n",
            "Train on 8000 samples, validate on 1000 samples\n",
            "Epoch 1/5\n",
            "8000/8000 [==============================] - 2s 287us/step - loss: 0.6825 - acc: 0.5224 - val_loss: 0.6478 - val_acc: 0.8290\n",
            "Epoch 2/5\n",
            "8000/8000 [==============================] - 1s 158us/step - loss: 0.6472 - acc: 0.5646 - val_loss: 0.6127 - val_acc: 0.7530\n",
            "Epoch 3/5\n",
            "8000/8000 [==============================] - 1s 162us/step - loss: 0.6226 - acc: 0.5807 - val_loss: 0.5730 - val_acc: 0.8360\n",
            "Epoch 4/5\n",
            "8000/8000 [==============================] - 1s 163us/step - loss: 0.6145 - acc: 0.5787 - val_loss: 0.5416 - val_acc: 0.8720\n",
            "Epoch 5/5\n",
            "8000/8000 [==============================] - 1s 164us/step - loss: 0.6058 - acc: 0.5796 - val_loss: 0.5188 - val_acc: 0.8730\n",
            "Train on 8000 samples, validate on 1000 samples\n",
            "Epoch 1/5\n",
            "8000/8000 [==============================] - 4s 452us/step - loss: 0.6771 - acc: 0.6029 - val_loss: 0.6291 - val_acc: 0.8140\n",
            "Epoch 2/5\n",
            "8000/8000 [==============================] - 2s 218us/step - loss: 0.5273 - acc: 0.8230 - val_loss: 0.4136 - val_acc: 0.8530\n",
            "Epoch 3/5\n",
            "8000/8000 [==============================] - 2s 217us/step - loss: 0.3417 - acc: 0.8715 - val_loss: 0.3118 - val_acc: 0.8690\n",
            "Epoch 4/5\n",
            "8000/8000 [==============================] - 2s 216us/step - loss: 0.2298 - acc: 0.9165 - val_loss: 0.2641 - val_acc: 0.8890\n",
            "Epoch 5/5\n",
            "8000/8000 [==============================] - 2s 217us/step - loss: 0.1556 - acc: 0.9410 - val_loss: 0.2442 - val_acc: 0.8940\n",
            "Train on 8000 samples, validate on 1000 samples\n",
            "Epoch 1/5\n",
            "8000/8000 [==============================] - 3s 345us/step - loss: 0.6807 - acc: 0.5588 - val_loss: 0.6439 - val_acc: 0.8050\n",
            "Epoch 2/5\n",
            "8000/8000 [==============================] - 2s 216us/step - loss: 0.5734 - acc: 0.7501 - val_loss: 0.4643 - val_acc: 0.8400\n",
            "Epoch 3/5\n",
            "8000/8000 [==============================] - 2s 217us/step - loss: 0.4315 - acc: 0.7921 - val_loss: 0.3589 - val_acc: 0.8520\n",
            "Epoch 4/5\n",
            "8000/8000 [==============================] - 2s 217us/step - loss: 0.3407 - acc: 0.8219 - val_loss: 0.2918 - val_acc: 0.8880\n",
            "Epoch 5/5\n",
            "8000/8000 [==============================] - 2s 218us/step - loss: 0.2819 - acc: 0.8456 - val_loss: 0.2546 - val_acc: 0.9010\n",
            "Train on 8000 samples, validate on 1000 samples\n",
            "Epoch 1/5\n",
            "8000/8000 [==============================] - 3s 342us/step - loss: 0.6922 - acc: 0.5154 - val_loss: 0.6722 - val_acc: 0.7150\n",
            "Epoch 2/5\n",
            "8000/8000 [==============================] - 2s 214us/step - loss: 0.6638 - acc: 0.5517 - val_loss: 0.6332 - val_acc: 0.7480\n",
            "Epoch 3/5\n",
            "8000/8000 [==============================] - 2s 214us/step - loss: 0.6434 - acc: 0.5640 - val_loss: 0.5871 - val_acc: 0.8160\n",
            "Epoch 4/5\n",
            "8000/8000 [==============================] - 2s 215us/step - loss: 0.6265 - acc: 0.5744 - val_loss: 0.5599 - val_acc: 0.8700\n",
            "Epoch 5/5\n",
            "8000/8000 [==============================] - 2s 217us/step - loss: 0.6136 - acc: 0.5751 - val_loss: 0.5352 - val_acc: 0.8730\n",
            "Train on 8000 samples, validate on 1000 samples\n",
            "Epoch 1/5\n",
            "8000/8000 [==============================] - 3s 342us/step - loss: 0.6579 - acc: 0.6790 - val_loss: 0.5740 - val_acc: 0.8400\n",
            "Epoch 2/5\n",
            "8000/8000 [==============================] - 2s 217us/step - loss: 0.4595 - acc: 0.8293 - val_loss: 0.3774 - val_acc: 0.8520\n",
            "Epoch 3/5\n",
            "8000/8000 [==============================] - 2s 219us/step - loss: 0.2843 - acc: 0.8880 - val_loss: 0.2695 - val_acc: 0.8830\n",
            "Epoch 4/5\n",
            "8000/8000 [==============================] - 2s 217us/step - loss: 0.1751 - acc: 0.9326 - val_loss: 0.2523 - val_acc: 0.8950\n",
            "Epoch 5/5\n",
            "8000/8000 [==============================] - 2s 217us/step - loss: 0.1152 - acc: 0.9557 - val_loss: 0.2417 - val_acc: 0.8970\n",
            "Train on 8000 samples, validate on 1000 samples\n",
            "Epoch 1/5\n",
            "8000/8000 [==============================] - 3s 340us/step - loss: 0.6729 - acc: 0.5840 - val_loss: 0.6224 - val_acc: 0.8210\n",
            "Epoch 2/5\n",
            "8000/8000 [==============================] - 2s 217us/step - loss: 0.5480 - acc: 0.7422 - val_loss: 0.4534 - val_acc: 0.8400\n",
            "Epoch 3/5\n",
            "8000/8000 [==============================] - 2s 217us/step - loss: 0.4069 - acc: 0.7914 - val_loss: 0.3289 - val_acc: 0.8720\n",
            "Epoch 4/5\n",
            "8000/8000 [==============================] - 2s 215us/step - loss: 0.3209 - acc: 0.8335 - val_loss: 0.2839 - val_acc: 0.8820\n",
            "Epoch 5/5\n",
            "8000/8000 [==============================] - 2s 218us/step - loss: 0.2654 - acc: 0.8550 - val_loss: 0.2392 - val_acc: 0.9040\n",
            "Train on 8000 samples, validate on 1000 samples\n",
            "Epoch 1/5\n",
            "8000/8000 [==============================] - 3s 354us/step - loss: 0.6915 - acc: 0.5216 - val_loss: 0.6599 - val_acc: 0.8220\n",
            "Epoch 2/5\n",
            "8000/8000 [==============================] - 2s 219us/step - loss: 0.6565 - acc: 0.5566 - val_loss: 0.6200 - val_acc: 0.8340\n",
            "Epoch 3/5\n",
            "8000/8000 [==============================] - 2s 220us/step - loss: 0.6417 - acc: 0.5614 - val_loss: 0.5949 - val_acc: 0.7510\n",
            "Epoch 4/5\n",
            "8000/8000 [==============================] - 2s 218us/step - loss: 0.6262 - acc: 0.5757 - val_loss: 0.5576 - val_acc: 0.8660\n",
            "Epoch 5/5\n",
            "8000/8000 [==============================] - 2s 219us/step - loss: 0.6142 - acc: 0.5771 - val_loss: 0.5387 - val_acc: 0.8680\n",
            "Train on 8000 samples, validate on 1000 samples\n",
            "Epoch 1/5\n",
            "8000/8000 [==============================] - 3s 346us/step - loss: 0.6515 - acc: 0.7005 - val_loss: 0.5631 - val_acc: 0.8500\n",
            "Epoch 2/5\n",
            "8000/8000 [==============================] - 2s 218us/step - loss: 0.4514 - acc: 0.8407 - val_loss: 0.3771 - val_acc: 0.8470\n",
            "Epoch 3/5\n",
            "8000/8000 [==============================] - 2s 218us/step - loss: 0.2766 - acc: 0.8962 - val_loss: 0.2661 - val_acc: 0.8940\n",
            "Epoch 4/5\n",
            "8000/8000 [==============================] - 2s 218us/step - loss: 0.1649 - acc: 0.9424 - val_loss: 0.2498 - val_acc: 0.8910\n",
            "Epoch 5/5\n",
            "8000/8000 [==============================] - 2s 218us/step - loss: 0.1080 - acc: 0.9571 - val_loss: 0.2222 - val_acc: 0.9030\n",
            "Train on 8000 samples, validate on 1000 samples\n",
            "Epoch 1/5\n",
            "8000/8000 [==============================] - 3s 368us/step - loss: 0.6675 - acc: 0.6096 - val_loss: 0.6076 - val_acc: 0.8370\n",
            "Epoch 2/5\n",
            "8000/8000 [==============================] - 2s 218us/step - loss: 0.5274 - acc: 0.7644 - val_loss: 0.4405 - val_acc: 0.8400\n",
            "Epoch 3/5\n",
            "8000/8000 [==============================] - 2s 217us/step - loss: 0.3989 - acc: 0.7940 - val_loss: 0.3205 - val_acc: 0.8810\n",
            "Epoch 4/5\n",
            "8000/8000 [==============================] - 2s 217us/step - loss: 0.3102 - acc: 0.8330 - val_loss: 0.2663 - val_acc: 0.8900\n",
            "Epoch 5/5\n",
            "8000/8000 [==============================] - 2s 217us/step - loss: 0.2495 - acc: 0.8608 - val_loss: 0.2463 - val_acc: 0.9020\n",
            "Train on 8000 samples, validate on 1000 samples\n",
            "Epoch 1/5\n",
            "8000/8000 [==============================] - 3s 359us/step - loss: 0.6920 - acc: 0.5209 - val_loss: 0.6604 - val_acc: 0.7960\n",
            "Epoch 2/5\n",
            "8000/8000 [==============================] - 2s 214us/step - loss: 0.6586 - acc: 0.5576 - val_loss: 0.6172 - val_acc: 0.8380\n",
            "Epoch 3/5\n",
            "8000/8000 [==============================] - 2s 220us/step - loss: 0.6398 - acc: 0.5634 - val_loss: 0.5890 - val_acc: 0.8070\n",
            "Epoch 4/5\n",
            "8000/8000 [==============================] - 2s 216us/step - loss: 0.6203 - acc: 0.5779 - val_loss: 0.5563 - val_acc: 0.8650\n",
            "Epoch 5/5\n",
            "8000/8000 [==============================] - 2s 216us/step - loss: 0.6069 - acc: 0.5830 - val_loss: 0.5259 - val_acc: 0.8780\n",
            "Train on 8000 samples, validate on 1000 samples\n",
            "Epoch 1/5\n",
            "8000/8000 [==============================] - 4s 514us/step - loss: 0.6812 - acc: 0.6082 - val_loss: 0.6474 - val_acc: 0.7050\n",
            "Epoch 2/5\n",
            "8000/8000 [==============================] - 2s 288us/step - loss: 0.5205 - acc: 0.8161 - val_loss: 0.3830 - val_acc: 0.8580\n",
            "Epoch 3/5\n",
            "8000/8000 [==============================] - 2s 287us/step - loss: 0.3091 - acc: 0.8744 - val_loss: 0.2728 - val_acc: 0.8860\n",
            "Epoch 4/5\n",
            "8000/8000 [==============================] - 2s 290us/step - loss: 0.1890 - acc: 0.9267 - val_loss: 0.2389 - val_acc: 0.8960\n",
            "Epoch 5/5\n",
            "8000/8000 [==============================] - 2s 287us/step - loss: 0.1218 - acc: 0.9535 - val_loss: 0.2223 - val_acc: 0.9030\n",
            "Train on 8000 samples, validate on 1000 samples\n",
            "Epoch 1/5\n",
            "8000/8000 [==============================] - 3s 416us/step - loss: 0.6821 - acc: 0.5446 - val_loss: 0.6433 - val_acc: 0.8410\n",
            "Epoch 2/5\n",
            "8000/8000 [==============================] - 2s 286us/step - loss: 0.5631 - acc: 0.7441 - val_loss: 0.4293 - val_acc: 0.8600\n",
            "Epoch 3/5\n",
            "8000/8000 [==============================] - 2s 290us/step - loss: 0.4175 - acc: 0.7989 - val_loss: 0.3253 - val_acc: 0.8820\n",
            "Epoch 4/5\n",
            "8000/8000 [==============================] - 2s 291us/step - loss: 0.3245 - acc: 0.8329 - val_loss: 0.2599 - val_acc: 0.8990\n",
            "Epoch 5/5\n",
            "8000/8000 [==============================] - 2s 289us/step - loss: 0.2680 - acc: 0.8446 - val_loss: 0.2348 - val_acc: 0.9080\n",
            "Train on 8000 samples, validate on 1000 samples\n",
            "Epoch 1/5\n",
            "8000/8000 [==============================] - 3s 417us/step - loss: 0.6947 - acc: 0.5091 - val_loss: 0.6804 - val_acc: 0.7970\n",
            "Epoch 2/5\n",
            "8000/8000 [==============================] - 2s 288us/step - loss: 0.6690 - acc: 0.5585 - val_loss: 0.6390 - val_acc: 0.8290\n",
            "Epoch 3/5\n",
            "8000/8000 [==============================] - 2s 287us/step - loss: 0.6392 - acc: 0.5703 - val_loss: 0.5835 - val_acc: 0.8120\n",
            "Epoch 4/5\n",
            "8000/8000 [==============================] - 2s 287us/step - loss: 0.6258 - acc: 0.5701 - val_loss: 0.5433 - val_acc: 0.8660\n",
            "Epoch 5/5\n",
            "8000/8000 [==============================] - 2s 286us/step - loss: 0.6120 - acc: 0.5804 - val_loss: 0.5199 - val_acc: 0.8660\n",
            "Train on 8000 samples, validate on 1000 samples\n",
            "Epoch 1/5\n",
            "8000/8000 [==============================] - 3s 420us/step - loss: 0.6798 - acc: 0.5474 - val_loss: 0.6309 - val_acc: 0.7030\n",
            "Epoch 2/5\n",
            "8000/8000 [==============================] - 2s 287us/step - loss: 0.5150 - acc: 0.8189 - val_loss: 0.3875 - val_acc: 0.8520\n",
            "Epoch 3/5\n",
            "8000/8000 [==============================] - 2s 287us/step - loss: 0.3054 - acc: 0.8800 - val_loss: 0.2722 - val_acc: 0.8850\n",
            "Epoch 4/5\n",
            "8000/8000 [==============================] - 2s 288us/step - loss: 0.1830 - acc: 0.9295 - val_loss: 0.2397 - val_acc: 0.8990\n",
            "Epoch 5/5\n",
            "8000/8000 [==============================] - 2s 289us/step - loss: 0.1156 - acc: 0.9546 - val_loss: 0.2342 - val_acc: 0.9000\n",
            "Train on 8000 samples, validate on 1000 samples\n",
            "Epoch 1/5\n",
            "8000/8000 [==============================] - 3s 424us/step - loss: 0.6688 - acc: 0.6075 - val_loss: 0.6021 - val_acc: 0.7190\n",
            "Epoch 2/5\n",
            "8000/8000 [==============================] - 2s 287us/step - loss: 0.5247 - acc: 0.7556 - val_loss: 0.4035 - val_acc: 0.8650\n",
            "Epoch 3/5\n",
            "8000/8000 [==============================] - 2s 288us/step - loss: 0.3797 - acc: 0.8077 - val_loss: 0.2942 - val_acc: 0.8900\n",
            "Epoch 4/5\n",
            "8000/8000 [==============================] - 2s 289us/step - loss: 0.2865 - acc: 0.8430 - val_loss: 0.2501 - val_acc: 0.8920\n",
            "Epoch 5/5\n",
            "8000/8000 [==============================] - 2s 289us/step - loss: 0.2359 - acc: 0.8634 - val_loss: 0.2297 - val_acc: 0.9030\n",
            "Train on 8000 samples, validate on 1000 samples\n",
            "Epoch 1/5\n",
            "8000/8000 [==============================] - 3s 413us/step - loss: 0.6958 - acc: 0.5250 - val_loss: 0.6631 - val_acc: 0.6910\n",
            "Epoch 2/5\n",
            "8000/8000 [==============================] - 2s 284us/step - loss: 0.6516 - acc: 0.5580 - val_loss: 0.6126 - val_acc: 0.7340\n",
            "Epoch 3/5\n",
            "8000/8000 [==============================] - 2s 286us/step - loss: 0.6286 - acc: 0.5750 - val_loss: 0.5617 - val_acc: 0.8340\n",
            "Epoch 4/5\n",
            "8000/8000 [==============================] - 2s 284us/step - loss: 0.6178 - acc: 0.5782 - val_loss: 0.5304 - val_acc: 0.8860\n",
            "Epoch 5/5\n",
            "8000/8000 [==============================] - 2s 287us/step - loss: 0.6038 - acc: 0.5841 - val_loss: 0.5120 - val_acc: 0.8940\n",
            "Train on 8000 samples, validate on 1000 samples\n",
            "Epoch 1/5\n",
            "8000/8000 [==============================] - 3s 418us/step - loss: 0.6690 - acc: 0.5915 - val_loss: 0.6167 - val_acc: 0.7290\n",
            "Epoch 2/5\n",
            "8000/8000 [==============================] - 2s 287us/step - loss: 0.4840 - acc: 0.8181 - val_loss: 0.3675 - val_acc: 0.8490\n",
            "Epoch 3/5\n",
            "8000/8000 [==============================] - 2s 286us/step - loss: 0.2889 - acc: 0.8839 - val_loss: 0.2673 - val_acc: 0.8800\n",
            "Epoch 4/5\n",
            "8000/8000 [==============================] - 2s 288us/step - loss: 0.1706 - acc: 0.9386 - val_loss: 0.2480 - val_acc: 0.8970\n",
            "Epoch 5/5\n",
            "8000/8000 [==============================] - 2s 288us/step - loss: 0.1074 - acc: 0.9540 - val_loss: 0.2292 - val_acc: 0.8980\n",
            "Train on 8000 samples, validate on 1000 samples\n",
            "Epoch 1/5\n",
            "8000/8000 [==============================] - 3s 421us/step - loss: 0.6732 - acc: 0.5901 - val_loss: 0.6083 - val_acc: 0.8360\n",
            "Epoch 2/5\n",
            "8000/8000 [==============================] - 2s 286us/step - loss: 0.5320 - acc: 0.7536 - val_loss: 0.4318 - val_acc: 0.8430\n",
            "Epoch 3/5\n",
            "8000/8000 [==============================] - 2s 287us/step - loss: 0.4002 - acc: 0.7990 - val_loss: 0.3221 - val_acc: 0.8760\n",
            "Epoch 4/5\n",
            "8000/8000 [==============================] - 2s 286us/step - loss: 0.3116 - acc: 0.8309 - val_loss: 0.2652 - val_acc: 0.8970\n",
            "Epoch 5/5\n",
            "8000/8000 [==============================] - 2s 286us/step - loss: 0.2577 - acc: 0.8579 - val_loss: 0.2357 - val_acc: 0.9110\n",
            "Train on 8000 samples, validate on 1000 samples\n",
            "Epoch 1/5\n",
            "8000/8000 [==============================] - 3s 420us/step - loss: 0.7060 - acc: 0.5140 - val_loss: 0.6650 - val_acc: 0.7270\n",
            "Epoch 2/5\n",
            "8000/8000 [==============================] - 2s 285us/step - loss: 0.6567 - acc: 0.5498 - val_loss: 0.6084 - val_acc: 0.8070\n",
            "Epoch 3/5\n",
            "8000/8000 [==============================] - 2s 285us/step - loss: 0.6359 - acc: 0.5719 - val_loss: 0.5737 - val_acc: 0.8570\n",
            "Epoch 4/5\n",
            "8000/8000 [==============================] - 2s 285us/step - loss: 0.6241 - acc: 0.5667 - val_loss: 0.5509 - val_acc: 0.8590\n",
            "Epoch 5/5\n",
            "8000/8000 [==============================] - 2s 284us/step - loss: 0.6174 - acc: 0.5786 - val_loss: 0.5302 - val_acc: 0.8540\n",
            "Train on 8000 samples, validate on 1000 samples\n",
            "Epoch 1/5\n",
            "8000/8000 [==============================] - 5s 621us/step - loss: 0.6821 - acc: 0.5703 - val_loss: 0.6299 - val_acc: 0.8010\n",
            "Epoch 2/5\n",
            "8000/8000 [==============================] - 4s 438us/step - loss: 0.5005 - acc: 0.8150 - val_loss: 0.3641 - val_acc: 0.8570\n",
            "Epoch 3/5\n",
            "8000/8000 [==============================] - 4s 440us/step - loss: 0.2940 - acc: 0.8800 - val_loss: 0.2632 - val_acc: 0.8870\n",
            "Epoch 4/5\n",
            "8000/8000 [==============================] - 4s 441us/step - loss: 0.1782 - acc: 0.9330 - val_loss: 0.2632 - val_acc: 0.8870\n",
            "Epoch 5/5\n",
            "8000/8000 [==============================] - 4s 440us/step - loss: 0.1217 - acc: 0.9451 - val_loss: 0.2226 - val_acc: 0.9160\n",
            "Train on 8000 samples, validate on 1000 samples\n",
            "Epoch 1/5\n",
            "8000/8000 [==============================] - 5s 575us/step - loss: 0.6858 - acc: 0.5481 - val_loss: 0.6504 - val_acc: 0.8380\n",
            "Epoch 2/5\n",
            "8000/8000 [==============================] - 3s 437us/step - loss: 0.5496 - acc: 0.7474 - val_loss: 0.3994 - val_acc: 0.8480\n",
            "Epoch 3/5\n",
            "8000/8000 [==============================] - 4s 439us/step - loss: 0.3940 - acc: 0.7959 - val_loss: 0.2970 - val_acc: 0.8860\n",
            "Epoch 4/5\n",
            "8000/8000 [==============================] - 4s 440us/step - loss: 0.3021 - acc: 0.8391 - val_loss: 0.2526 - val_acc: 0.9000\n",
            "Epoch 5/5\n",
            "8000/8000 [==============================] - 3s 437us/step - loss: 0.2495 - acc: 0.8575 - val_loss: 0.2318 - val_acc: 0.9020\n",
            "Train on 8000 samples, validate on 1000 samples\n",
            "Epoch 1/5\n",
            "8000/8000 [==============================] - 5s 568us/step - loss: 0.6960 - acc: 0.5212 - val_loss: 0.6775 - val_acc: 0.8070\n",
            "Epoch 2/5\n",
            "8000/8000 [==============================] - 3s 434us/step - loss: 0.6643 - acc: 0.5569 - val_loss: 0.6207 - val_acc: 0.7640\n",
            "Epoch 3/5\n",
            "8000/8000 [==============================] - 3s 433us/step - loss: 0.6455 - acc: 0.5610 - val_loss: 0.5752 - val_acc: 0.7720\n",
            "Epoch 4/5\n",
            "8000/8000 [==============================] - 3s 434us/step - loss: 0.6265 - acc: 0.5733 - val_loss: 0.5446 - val_acc: 0.8330\n",
            "Epoch 5/5\n",
            "8000/8000 [==============================] - 3s 435us/step - loss: 0.6128 - acc: 0.5799 - val_loss: 0.5166 - val_acc: 0.8780\n",
            "Train on 8000 samples, validate on 1000 samples\n",
            "Epoch 1/5\n",
            "8000/8000 [==============================] - 5s 567us/step - loss: 0.6720 - acc: 0.6115 - val_loss: 0.5926 - val_acc: 0.7900\n",
            "Epoch 2/5\n",
            "8000/8000 [==============================] - 3s 436us/step - loss: 0.4727 - acc: 0.8139 - val_loss: 0.3486 - val_acc: 0.8680\n",
            "Epoch 3/5\n",
            "8000/8000 [==============================] - 3s 436us/step - loss: 0.2716 - acc: 0.8939 - val_loss: 0.2630 - val_acc: 0.8940\n",
            "Epoch 4/5\n",
            "8000/8000 [==============================] - 3s 437us/step - loss: 0.1615 - acc: 0.9370 - val_loss: 0.2455 - val_acc: 0.8960\n",
            "Epoch 5/5\n",
            "8000/8000 [==============================] - 4s 438us/step - loss: 0.1046 - acc: 0.9539 - val_loss: 0.2619 - val_acc: 0.8860\n",
            "Train on 8000 samples, validate on 1000 samples\n",
            "Epoch 1/5\n",
            "8000/8000 [==============================] - 5s 578us/step - loss: 0.6698 - acc: 0.5826 - val_loss: 0.5933 - val_acc: 0.8340\n",
            "Epoch 2/5\n",
            "8000/8000 [==============================] - 4s 438us/step - loss: 0.5107 - acc: 0.7539 - val_loss: 0.3831 - val_acc: 0.8570\n",
            "Epoch 3/5\n",
            "8000/8000 [==============================] - 4s 440us/step - loss: 0.3696 - acc: 0.8003 - val_loss: 0.2734 - val_acc: 0.8950\n",
            "Epoch 4/5\n",
            "8000/8000 [==============================] - 4s 440us/step - loss: 0.2793 - acc: 0.8450 - val_loss: 0.2370 - val_acc: 0.8970\n",
            "Epoch 5/5\n",
            "8000/8000 [==============================] - 4s 439us/step - loss: 0.2308 - acc: 0.8611 - val_loss: 0.2239 - val_acc: 0.9030\n",
            "Train on 8000 samples, validate on 1000 samples\n",
            "Epoch 1/5\n",
            "8000/8000 [==============================] - 5s 580us/step - loss: 0.7096 - acc: 0.5198 - val_loss: 0.6635 - val_acc: 0.8180\n",
            "Epoch 2/5\n",
            "8000/8000 [==============================] - 3s 435us/step - loss: 0.6588 - acc: 0.5540 - val_loss: 0.6058 - val_acc: 0.8020\n",
            "Epoch 3/5\n",
            "8000/8000 [==============================] - 3s 433us/step - loss: 0.6385 - acc: 0.5659 - val_loss: 0.5660 - val_acc: 0.8530\n",
            "Epoch 4/5\n",
            "8000/8000 [==============================] - 3s 434us/step - loss: 0.6211 - acc: 0.5749 - val_loss: 0.5371 - val_acc: 0.8770\n",
            "Epoch 5/5\n",
            "8000/8000 [==============================] - 3s 434us/step - loss: 0.6017 - acc: 0.5876 - val_loss: 0.5104 - val_acc: 0.8820\n",
            "Train on 8000 samples, validate on 1000 samples\n",
            "Epoch 1/5\n",
            "8000/8000 [==============================] - 5s 572us/step - loss: 0.6731 - acc: 0.5959 - val_loss: 0.6030 - val_acc: 0.8560\n",
            "Epoch 2/5\n",
            "8000/8000 [==============================] - 3s 435us/step - loss: 0.4691 - acc: 0.8311 - val_loss: 0.3370 - val_acc: 0.8640\n",
            "Epoch 3/5\n",
            "8000/8000 [==============================] - 4s 438us/step - loss: 0.2601 - acc: 0.8951 - val_loss: 0.2424 - val_acc: 0.8990\n",
            "Epoch 4/5\n",
            "8000/8000 [==============================] - 4s 438us/step - loss: 0.1492 - acc: 0.9420 - val_loss: 0.2216 - val_acc: 0.9050\n",
            "Epoch 5/5\n",
            "8000/8000 [==============================] - 3s 436us/step - loss: 0.0918 - acc: 0.9591 - val_loss: 0.2204 - val_acc: 0.9120\n",
            "Train on 8000 samples, validate on 1000 samples\n",
            "Epoch 1/5\n",
            "8000/8000 [==============================] - 5s 571us/step - loss: 0.6761 - acc: 0.5716 - val_loss: 0.5923 - val_acc: 0.7910\n",
            "Epoch 2/5\n",
            "8000/8000 [==============================] - 4s 439us/step - loss: 0.5068 - acc: 0.7590 - val_loss: 0.3685 - val_acc: 0.8580\n",
            "Epoch 3/5\n",
            "8000/8000 [==============================] - 4s 439us/step - loss: 0.3627 - acc: 0.8116 - val_loss: 0.2799 - val_acc: 0.8850\n",
            "Epoch 4/5\n",
            "8000/8000 [==============================] - 4s 438us/step - loss: 0.2745 - acc: 0.8495 - val_loss: 0.2433 - val_acc: 0.8940\n",
            "Epoch 5/5\n",
            "8000/8000 [==============================] - 3s 437us/step - loss: 0.2338 - acc: 0.8635 - val_loss: 0.2219 - val_acc: 0.9000\n",
            "Train on 8000 samples, validate on 1000 samples\n",
            "Epoch 1/5\n",
            "8000/8000 [==============================] - 5s 569us/step - loss: 0.7038 - acc: 0.5139 - val_loss: 0.6694 - val_acc: 0.5530\n",
            "Epoch 2/5\n",
            "8000/8000 [==============================] - 3s 434us/step - loss: 0.6587 - acc: 0.5506 - val_loss: 0.6155 - val_acc: 0.7580\n",
            "Epoch 3/5\n",
            "8000/8000 [==============================] - 3s 435us/step - loss: 0.6357 - acc: 0.5647 - val_loss: 0.5965 - val_acc: 0.6680\n",
            "Epoch 4/5\n",
            "8000/8000 [==============================] - 3s 437us/step - loss: 0.6289 - acc: 0.5716 - val_loss: 0.5316 - val_acc: 0.8610\n",
            "Epoch 5/5\n",
            "8000/8000 [==============================] - 4s 440us/step - loss: 0.6050 - acc: 0.5793 - val_loss: 0.5080 - val_acc: 0.8780\n",
            "Train on 8000 samples, validate on 1000 samples\n",
            "Epoch 1/5\n",
            "8000/8000 [==============================] - 3s 320us/step - loss: 0.6740 - acc: 0.6445 - val_loss: 0.6347 - val_acc: 0.8460\n",
            "Epoch 2/5\n",
            "8000/8000 [==============================] - 1s 160us/step - loss: 0.5537 - acc: 0.8376 - val_loss: 0.4541 - val_acc: 0.8510\n",
            "Epoch 3/5\n",
            "8000/8000 [==============================] - 1s 158us/step - loss: 0.3756 - acc: 0.8620 - val_loss: 0.3316 - val_acc: 0.8780\n",
            "Epoch 4/5\n",
            "8000/8000 [==============================] - 1s 158us/step - loss: 0.2650 - acc: 0.9011 - val_loss: 0.2757 - val_acc: 0.8890\n",
            "Epoch 5/5\n",
            "8000/8000 [==============================] - 1s 157us/step - loss: 0.1912 - acc: 0.9304 - val_loss: 0.2442 - val_acc: 0.8960\n",
            "Train on 8000 samples, validate on 1000 samples\n",
            "Epoch 1/5\n",
            "8000/8000 [==============================] - 2s 283us/step - loss: 0.6740 - acc: 0.6424 - val_loss: 0.6342 - val_acc: 0.7800\n",
            "Epoch 2/5\n",
            "8000/8000 [==============================] - 1s 158us/step - loss: 0.5648 - acc: 0.7652 - val_loss: 0.4758 - val_acc: 0.8300\n",
            "Epoch 3/5\n",
            "8000/8000 [==============================] - 1s 160us/step - loss: 0.4380 - acc: 0.7915 - val_loss: 0.3541 - val_acc: 0.8770\n",
            "Epoch 4/5\n",
            "8000/8000 [==============================] - 1s 158us/step - loss: 0.3611 - acc: 0.8124 - val_loss: 0.2919 - val_acc: 0.8900\n",
            "Epoch 5/5\n",
            "8000/8000 [==============================] - 1s 159us/step - loss: 0.2902 - acc: 0.8451 - val_loss: 0.2591 - val_acc: 0.8950\n",
            "Train on 8000 samples, validate on 1000 samples\n",
            "Epoch 1/5\n",
            "8000/8000 [==============================] - 2s 287us/step - loss: 0.6903 - acc: 0.5184 - val_loss: 0.6761 - val_acc: 0.7800\n",
            "Epoch 2/5\n",
            "8000/8000 [==============================] - 1s 159us/step - loss: 0.6649 - acc: 0.5574 - val_loss: 0.6345 - val_acc: 0.7810\n",
            "Epoch 3/5\n",
            "8000/8000 [==============================] - 1s 157us/step - loss: 0.6429 - acc: 0.5700 - val_loss: 0.5876 - val_acc: 0.8400\n",
            "Epoch 4/5\n",
            "8000/8000 [==============================] - 1s 157us/step - loss: 0.6256 - acc: 0.5790 - val_loss: 0.5577 - val_acc: 0.8630\n",
            "Epoch 5/5\n",
            "8000/8000 [==============================] - 1s 157us/step - loss: 0.6189 - acc: 0.5776 - val_loss: 0.5442 - val_acc: 0.8530\n",
            "Train on 8000 samples, validate on 1000 samples\n",
            "Epoch 1/5\n",
            "8000/8000 [==============================] - 2s 278us/step - loss: 0.6559 - acc: 0.6797 - val_loss: 0.5822 - val_acc: 0.8390\n",
            "Epoch 2/5\n",
            "8000/8000 [==============================] - 1s 159us/step - loss: 0.4841 - acc: 0.8494 - val_loss: 0.3859 - val_acc: 0.8700\n",
            "Epoch 3/5\n",
            "8000/8000 [==============================] - 1s 157us/step - loss: 0.3174 - acc: 0.8831 - val_loss: 0.2882 - val_acc: 0.8890\n",
            "Epoch 4/5\n",
            "8000/8000 [==============================] - 1s 159us/step - loss: 0.2085 - acc: 0.9205 - val_loss: 0.2445 - val_acc: 0.9010\n",
            "Epoch 5/5\n",
            "8000/8000 [==============================] - 1s 157us/step - loss: 0.1420 - acc: 0.9447 - val_loss: 0.2206 - val_acc: 0.9060\n",
            "Train on 8000 samples, validate on 1000 samples\n",
            "Epoch 1/5\n",
            "8000/8000 [==============================] - 2s 287us/step - loss: 0.6558 - acc: 0.6425 - val_loss: 0.5898 - val_acc: 0.8410\n",
            "Epoch 2/5\n",
            "8000/8000 [==============================] - 1s 160us/step - loss: 0.5330 - acc: 0.7555 - val_loss: 0.4436 - val_acc: 0.8540\n",
            "Epoch 3/5\n",
            "8000/8000 [==============================] - 1s 162us/step - loss: 0.4211 - acc: 0.7961 - val_loss: 0.3547 - val_acc: 0.8770\n",
            "Epoch 4/5\n",
            "8000/8000 [==============================] - 1s 159us/step - loss: 0.3457 - acc: 0.8215 - val_loss: 0.2912 - val_acc: 0.8880\n",
            "Epoch 5/5\n",
            "8000/8000 [==============================] - 1s 158us/step - loss: 0.2865 - acc: 0.8464 - val_loss: 0.2731 - val_acc: 0.8990\n",
            "Train on 8000 samples, validate on 1000 samples\n",
            "Epoch 1/5\n",
            "8000/8000 [==============================] - 2s 284us/step - loss: 0.6816 - acc: 0.5330 - val_loss: 0.6454 - val_acc: 0.8170\n",
            "Epoch 2/5\n",
            "8000/8000 [==============================] - 1s 159us/step - loss: 0.6445 - acc: 0.5618 - val_loss: 0.5925 - val_acc: 0.8480\n",
            "Epoch 3/5\n",
            "8000/8000 [==============================] - 1s 159us/step - loss: 0.6268 - acc: 0.5735 - val_loss: 0.5622 - val_acc: 0.8420\n",
            "Epoch 4/5\n",
            "8000/8000 [==============================] - 1s 162us/step - loss: 0.6113 - acc: 0.5819 - val_loss: 0.5315 - val_acc: 0.8820\n",
            "Epoch 5/5\n",
            "8000/8000 [==============================] - 1s 160us/step - loss: 0.6030 - acc: 0.5866 - val_loss: 0.5163 - val_acc: 0.8820\n",
            "Train on 8000 samples, validate on 1000 samples\n",
            "Epoch 1/5\n",
            "8000/8000 [==============================] - 2s 284us/step - loss: 0.6374 - acc: 0.6896 - val_loss: 0.5426 - val_acc: 0.8260\n",
            "Epoch 2/5\n",
            "8000/8000 [==============================] - 1s 159us/step - loss: 0.4526 - acc: 0.8372 - val_loss: 0.3685 - val_acc: 0.8680\n",
            "Epoch 3/5\n",
            "8000/8000 [==============================] - 1s 160us/step - loss: 0.3061 - acc: 0.8855 - val_loss: 0.3030 - val_acc: 0.8710\n",
            "Epoch 4/5\n",
            "8000/8000 [==============================] - 1s 159us/step - loss: 0.2147 - acc: 0.9203 - val_loss: 0.2528 - val_acc: 0.9060\n",
            "Epoch 5/5\n",
            "8000/8000 [==============================] - 1s 160us/step - loss: 0.1491 - acc: 0.9483 - val_loss: 0.2398 - val_acc: 0.9040\n",
            "Train on 8000 samples, validate on 1000 samples\n",
            "Epoch 1/5\n",
            "8000/8000 [==============================] - 2s 281us/step - loss: 0.6504 - acc: 0.6564 - val_loss: 0.5783 - val_acc: 0.8250\n",
            "Epoch 2/5\n",
            "8000/8000 [==============================] - 1s 157us/step - loss: 0.5136 - acc: 0.7715 - val_loss: 0.4237 - val_acc: 0.8640\n",
            "Epoch 3/5\n",
            "8000/8000 [==============================] - 1s 159us/step - loss: 0.4053 - acc: 0.7993 - val_loss: 0.3344 - val_acc: 0.8710\n",
            "Epoch 4/5\n",
            "8000/8000 [==============================] - 1s 158us/step - loss: 0.3273 - acc: 0.8312 - val_loss: 0.2815 - val_acc: 0.8900\n",
            "Epoch 5/5\n",
            "8000/8000 [==============================] - 1s 158us/step - loss: 0.2714 - acc: 0.8536 - val_loss: 0.2531 - val_acc: 0.8970\n",
            "Train on 8000 samples, validate on 1000 samples\n",
            "Epoch 1/5\n",
            "8000/8000 [==============================] - 2s 287us/step - loss: 0.6784 - acc: 0.5363 - val_loss: 0.6312 - val_acc: 0.7830\n",
            "Epoch 2/5\n",
            "8000/8000 [==============================] - 1s 159us/step - loss: 0.6444 - acc: 0.5618 - val_loss: 0.5889 - val_acc: 0.8270\n",
            "Epoch 3/5\n",
            "8000/8000 [==============================] - 1s 161us/step - loss: 0.6313 - acc: 0.5701 - val_loss: 0.5566 - val_acc: 0.8560\n",
            "Epoch 4/5\n",
            "8000/8000 [==============================] - 1s 159us/step - loss: 0.6174 - acc: 0.5736 - val_loss: 0.5309 - val_acc: 0.8590\n",
            "Epoch 5/5\n",
            "8000/8000 [==============================] - 1s 158us/step - loss: 0.6081 - acc: 0.5833 - val_loss: 0.5117 - val_acc: 0.8680\n",
            "Train on 8000 samples, validate on 1000 samples\n",
            "Epoch 1/5\n",
            "8000/8000 [==============================] - 3s 378us/step - loss: 0.6793 - acc: 0.5760 - val_loss: 0.6364 - val_acc: 0.7740\n",
            "Epoch 2/5\n",
            "8000/8000 [==============================] - 2s 213us/step - loss: 0.5413 - acc: 0.8246 - val_loss: 0.4167 - val_acc: 0.8610\n",
            "Epoch 3/5\n",
            "8000/8000 [==============================] - 2s 214us/step - loss: 0.3406 - acc: 0.8725 - val_loss: 0.2897 - val_acc: 0.8850\n",
            "Epoch 4/5\n",
            "8000/8000 [==============================] - 2s 214us/step - loss: 0.2294 - acc: 0.9098 - val_loss: 0.2395 - val_acc: 0.8970\n",
            "Epoch 5/5\n",
            "8000/8000 [==============================] - 2s 212us/step - loss: 0.1544 - acc: 0.9417 - val_loss: 0.2169 - val_acc: 0.9110\n",
            "Train on 8000 samples, validate on 1000 samples\n",
            "Epoch 1/5\n",
            "8000/8000 [==============================] - 3s 344us/step - loss: 0.6752 - acc: 0.6181 - val_loss: 0.6339 - val_acc: 0.8240\n",
            "Epoch 2/5\n",
            "8000/8000 [==============================] - 2s 212us/step - loss: 0.5588 - acc: 0.7704 - val_loss: 0.4443 - val_acc: 0.8570\n",
            "Epoch 3/5\n",
            "8000/8000 [==============================] - 2s 211us/step - loss: 0.4312 - acc: 0.7869 - val_loss: 0.3548 - val_acc: 0.8590\n",
            "Epoch 4/5\n",
            "8000/8000 [==============================] - 2s 214us/step - loss: 0.3455 - acc: 0.8251 - val_loss: 0.2878 - val_acc: 0.8840\n",
            "Epoch 5/5\n",
            "8000/8000 [==============================] - 2s 208us/step - loss: 0.2864 - acc: 0.8434 - val_loss: 0.2629 - val_acc: 0.8870\n",
            "Train on 8000 samples, validate on 1000 samples\n",
            "Epoch 1/5\n",
            "8000/8000 [==============================] - 3s 338us/step - loss: 0.6894 - acc: 0.5199 - val_loss: 0.6725 - val_acc: 0.6320\n",
            "Epoch 2/5\n",
            "8000/8000 [==============================] - 2s 209us/step - loss: 0.6643 - acc: 0.5547 - val_loss: 0.6287 - val_acc: 0.8210\n",
            "Epoch 3/5\n",
            "8000/8000 [==============================] - 2s 210us/step - loss: 0.6378 - acc: 0.5680 - val_loss: 0.5802 - val_acc: 0.8450\n",
            "Epoch 4/5\n",
            "8000/8000 [==============================] - 2s 209us/step - loss: 0.6211 - acc: 0.5812 - val_loss: 0.5472 - val_acc: 0.8490\n",
            "Epoch 5/5\n",
            "8000/8000 [==============================] - 2s 210us/step - loss: 0.6161 - acc: 0.5731 - val_loss: 0.5266 - val_acc: 0.8720\n",
            "Train on 8000 samples, validate on 1000 samples\n",
            "Epoch 1/5\n",
            "8000/8000 [==============================] - 3s 345us/step - loss: 0.6390 - acc: 0.7021 - val_loss: 0.5326 - val_acc: 0.8030\n",
            "Epoch 2/5\n",
            "8000/8000 [==============================] - 2s 213us/step - loss: 0.4235 - acc: 0.8489 - val_loss: 0.3411 - val_acc: 0.8720\n",
            "Epoch 3/5\n",
            "8000/8000 [==============================] - 2s 214us/step - loss: 0.2674 - acc: 0.8959 - val_loss: 0.2627 - val_acc: 0.8900\n",
            "Epoch 4/5\n",
            "8000/8000 [==============================] - 2s 215us/step - loss: 0.1683 - acc: 0.9371 - val_loss: 0.2423 - val_acc: 0.8980\n",
            "Epoch 5/5\n",
            "8000/8000 [==============================] - 2s 212us/step - loss: 0.1162 - acc: 0.9547 - val_loss: 0.2103 - val_acc: 0.9080\n",
            "Train on 8000 samples, validate on 1000 samples\n",
            "Epoch 1/5\n",
            "8000/8000 [==============================] - 3s 343us/step - loss: 0.6460 - acc: 0.6706 - val_loss: 0.5534 - val_acc: 0.8340\n",
            "Epoch 2/5\n",
            "8000/8000 [==============================] - 2s 211us/step - loss: 0.4918 - acc: 0.7661 - val_loss: 0.3984 - val_acc: 0.8550\n",
            "Epoch 3/5\n",
            "8000/8000 [==============================] - 2s 214us/step - loss: 0.3832 - acc: 0.8065 - val_loss: 0.2979 - val_acc: 0.8850\n",
            "Epoch 4/5\n",
            "8000/8000 [==============================] - 2s 211us/step - loss: 0.3033 - acc: 0.8389 - val_loss: 0.2467 - val_acc: 0.9010\n",
            "Epoch 5/5\n",
            "8000/8000 [==============================] - 2s 211us/step - loss: 0.2502 - acc: 0.8584 - val_loss: 0.2392 - val_acc: 0.9030\n",
            "Train on 8000 samples, validate on 1000 samples\n",
            "Epoch 1/5\n",
            "8000/8000 [==============================] - 3s 337us/step - loss: 0.6894 - acc: 0.5295 - val_loss: 0.6473 - val_acc: 0.8100\n",
            "Epoch 2/5\n",
            "8000/8000 [==============================] - 2s 212us/step - loss: 0.6474 - acc: 0.5656 - val_loss: 0.5928 - val_acc: 0.8050\n",
            "Epoch 3/5\n",
            "8000/8000 [==============================] - 2s 213us/step - loss: 0.6339 - acc: 0.5684 - val_loss: 0.5589 - val_acc: 0.8680\n",
            "Epoch 4/5\n",
            "8000/8000 [==============================] - 2s 211us/step - loss: 0.6117 - acc: 0.5810 - val_loss: 0.5249 - val_acc: 0.8690\n",
            "Epoch 5/5\n",
            "8000/8000 [==============================] - 2s 210us/step - loss: 0.6038 - acc: 0.5829 - val_loss: 0.5062 - val_acc: 0.8900\n",
            "Train on 8000 samples, validate on 1000 samples\n",
            "Epoch 1/5\n",
            "8000/8000 [==============================] - 3s 340us/step - loss: 0.6423 - acc: 0.6975 - val_loss: 0.5463 - val_acc: 0.8490\n",
            "Epoch 2/5\n",
            "8000/8000 [==============================] - 2s 211us/step - loss: 0.4347 - acc: 0.8582 - val_loss: 0.3440 - val_acc: 0.8630\n",
            "Epoch 3/5\n",
            "8000/8000 [==============================] - 2s 210us/step - loss: 0.2699 - acc: 0.8995 - val_loss: 0.2641 - val_acc: 0.8900\n",
            "Epoch 4/5\n",
            "8000/8000 [==============================] - 2s 212us/step - loss: 0.1676 - acc: 0.9382 - val_loss: 0.2214 - val_acc: 0.9020\n",
            "Epoch 5/5\n",
            "8000/8000 [==============================] - 2s 212us/step - loss: 0.1115 - acc: 0.9539 - val_loss: 0.2189 - val_acc: 0.9040\n",
            "Train on 8000 samples, validate on 1000 samples\n",
            "Epoch 1/5\n",
            "8000/8000 [==============================] - 3s 339us/step - loss: 0.6593 - acc: 0.6069 - val_loss: 0.5911 - val_acc: 0.8160\n",
            "Epoch 2/5\n",
            "8000/8000 [==============================] - 2s 212us/step - loss: 0.5254 - acc: 0.7604 - val_loss: 0.4170 - val_acc: 0.8460\n",
            "Epoch 3/5\n",
            "8000/8000 [==============================] - 2s 214us/step - loss: 0.4018 - acc: 0.7974 - val_loss: 0.3229 - val_acc: 0.8830\n",
            "Epoch 4/5\n",
            "8000/8000 [==============================] - 2s 213us/step - loss: 0.3346 - acc: 0.8227 - val_loss: 0.2823 - val_acc: 0.8830\n",
            "Epoch 5/5\n",
            "8000/8000 [==============================] - 2s 213us/step - loss: 0.2881 - acc: 0.8349 - val_loss: 0.2571 - val_acc: 0.8950\n",
            "Train on 8000 samples, validate on 1000 samples\n",
            "Epoch 1/5\n",
            "8000/8000 [==============================] - 3s 341us/step - loss: 0.6918 - acc: 0.5258 - val_loss: 0.6539 - val_acc: 0.8190\n",
            "Epoch 2/5\n",
            "8000/8000 [==============================] - 2s 212us/step - loss: 0.6602 - acc: 0.5476 - val_loss: 0.6165 - val_acc: 0.7960\n",
            "Epoch 3/5\n",
            "8000/8000 [==============================] - 2s 209us/step - loss: 0.6370 - acc: 0.5675 - val_loss: 0.5796 - val_acc: 0.8240\n",
            "Epoch 4/5\n",
            "8000/8000 [==============================] - 2s 210us/step - loss: 0.6258 - acc: 0.5722 - val_loss: 0.5620 - val_acc: 0.8640\n",
            "Epoch 5/5\n",
            "8000/8000 [==============================] - 2s 210us/step - loss: 0.6170 - acc: 0.5757 - val_loss: 0.5358 - val_acc: 0.8720\n",
            "Train on 8000 samples, validate on 1000 samples\n",
            "Epoch 1/5\n",
            "8000/8000 [==============================] - 4s 464us/step - loss: 0.6730 - acc: 0.6251 - val_loss: 0.6222 - val_acc: 0.7450\n",
            "Epoch 2/5\n",
            "8000/8000 [==============================] - 2s 275us/step - loss: 0.4953 - acc: 0.8245 - val_loss: 0.3781 - val_acc: 0.8600\n",
            "Epoch 3/5\n",
            "8000/8000 [==============================] - 2s 274us/step - loss: 0.3195 - acc: 0.8775 - val_loss: 0.2825 - val_acc: 0.8870\n",
            "Epoch 4/5\n",
            "8000/8000 [==============================] - 2s 275us/step - loss: 0.2092 - acc: 0.9167 - val_loss: 0.2363 - val_acc: 0.8970\n",
            "Epoch 5/5\n",
            "8000/8000 [==============================] - 2s 276us/step - loss: 0.1424 - acc: 0.9451 - val_loss: 0.2205 - val_acc: 0.9080\n",
            "Train on 8000 samples, validate on 1000 samples\n",
            "Epoch 1/5\n",
            "8000/8000 [==============================] - 3s 421us/step - loss: 0.6739 - acc: 0.5700 - val_loss: 0.6194 - val_acc: 0.8300\n",
            "Epoch 2/5\n",
            "8000/8000 [==============================] - 2s 273us/step - loss: 0.5471 - acc: 0.7468 - val_loss: 0.4293 - val_acc: 0.8580\n",
            "Epoch 3/5\n",
            "8000/8000 [==============================] - 2s 274us/step - loss: 0.4183 - acc: 0.7878 - val_loss: 0.3374 - val_acc: 0.8720\n",
            "Epoch 4/5\n",
            "8000/8000 [==============================] - 2s 273us/step - loss: 0.3441 - acc: 0.8184 - val_loss: 0.2856 - val_acc: 0.8850\n",
            "Epoch 5/5\n",
            "8000/8000 [==============================] - 2s 275us/step - loss: 0.2879 - acc: 0.8440 - val_loss: 0.2603 - val_acc: 0.8880\n",
            "Train on 8000 samples, validate on 1000 samples\n",
            "Epoch 1/5\n",
            "8000/8000 [==============================] - 3s 399us/step - loss: 0.6919 - acc: 0.5215 - val_loss: 0.6702 - val_acc: 0.8320\n",
            "Epoch 2/5\n",
            "8000/8000 [==============================] - 2s 272us/step - loss: 0.6564 - acc: 0.5600 - val_loss: 0.6062 - val_acc: 0.8500\n",
            "Epoch 3/5\n",
            "8000/8000 [==============================] - 2s 272us/step - loss: 0.6286 - acc: 0.5737 - val_loss: 0.5560 - val_acc: 0.8630\n",
            "Epoch 4/5\n",
            "8000/8000 [==============================] - 2s 276us/step - loss: 0.6168 - acc: 0.5794 - val_loss: 0.5289 - val_acc: 0.8660\n",
            "Epoch 5/5\n",
            "8000/8000 [==============================] - 2s 277us/step - loss: 0.6054 - acc: 0.5864 - val_loss: 0.5031 - val_acc: 0.8940\n",
            "Train on 8000 samples, validate on 1000 samples\n",
            "Epoch 1/5\n",
            "8000/8000 [==============================] - 3s 402us/step - loss: 0.6532 - acc: 0.6496 - val_loss: 0.5587 - val_acc: 0.8490\n",
            "Epoch 2/5\n",
            "8000/8000 [==============================] - 2s 275us/step - loss: 0.4382 - acc: 0.8455 - val_loss: 0.3343 - val_acc: 0.8670\n",
            "Epoch 3/5\n",
            "8000/8000 [==============================] - 2s 274us/step - loss: 0.2618 - acc: 0.8935 - val_loss: 0.2415 - val_acc: 0.8990\n",
            "Epoch 4/5\n",
            "8000/8000 [==============================] - 2s 274us/step - loss: 0.1623 - acc: 0.9357 - val_loss: 0.2246 - val_acc: 0.9080\n",
            "Epoch 5/5\n",
            "8000/8000 [==============================] - 2s 274us/step - loss: 0.1027 - acc: 0.9559 - val_loss: 0.2081 - val_acc: 0.9110\n",
            "Train on 8000 samples, validate on 1000 samples\n",
            "Epoch 1/5\n",
            "8000/8000 [==============================] - 3s 404us/step - loss: 0.6563 - acc: 0.6109 - val_loss: 0.5695 - val_acc: 0.8280\n",
            "Epoch 2/5\n",
            "8000/8000 [==============================] - 2s 274us/step - loss: 0.5031 - acc: 0.7656 - val_loss: 0.4239 - val_acc: 0.8050\n",
            "Epoch 3/5\n",
            "8000/8000 [==============================] - 2s 275us/step - loss: 0.3848 - acc: 0.8044 - val_loss: 0.3035 - val_acc: 0.8860\n",
            "Epoch 4/5\n",
            "8000/8000 [==============================] - 2s 274us/step - loss: 0.3016 - acc: 0.8314 - val_loss: 0.2558 - val_acc: 0.8910\n",
            "Epoch 5/5\n",
            "8000/8000 [==============================] - 2s 274us/step - loss: 0.2556 - acc: 0.8531 - val_loss: 0.2455 - val_acc: 0.8930\n",
            "Train on 8000 samples, validate on 1000 samples\n",
            "Epoch 1/5\n",
            "8000/8000 [==============================] - 3s 403us/step - loss: 0.6988 - acc: 0.5236 - val_loss: 0.6433 - val_acc: 0.8360\n",
            "Epoch 2/5\n",
            "8000/8000 [==============================] - 2s 273us/step - loss: 0.6465 - acc: 0.5607 - val_loss: 0.5904 - val_acc: 0.8640\n",
            "Epoch 3/5\n",
            "8000/8000 [==============================] - 2s 273us/step - loss: 0.6281 - acc: 0.5706 - val_loss: 0.5487 - val_acc: 0.8660\n",
            "Epoch 4/5\n",
            "8000/8000 [==============================] - 2s 273us/step - loss: 0.6187 - acc: 0.5733 - val_loss: 0.5261 - val_acc: 0.8720\n",
            "Epoch 5/5\n",
            "8000/8000 [==============================] - 2s 274us/step - loss: 0.6019 - acc: 0.5845 - val_loss: 0.5076 - val_acc: 0.8710\n",
            "Train on 8000 samples, validate on 1000 samples\n",
            "Epoch 1/5\n",
            "8000/8000 [==============================] - 3s 410us/step - loss: 0.6556 - acc: 0.6469 - val_loss: 0.5713 - val_acc: 0.8480\n",
            "Epoch 2/5\n",
            "8000/8000 [==============================] - 2s 275us/step - loss: 0.4561 - acc: 0.8417 - val_loss: 0.3568 - val_acc: 0.8510\n",
            "Epoch 3/5\n",
            "8000/8000 [==============================] - 2s 274us/step - loss: 0.2819 - acc: 0.8892 - val_loss: 0.2551 - val_acc: 0.8920\n",
            "Epoch 4/5\n",
            "8000/8000 [==============================] - 2s 275us/step - loss: 0.1819 - acc: 0.9266 - val_loss: 0.2243 - val_acc: 0.9090\n",
            "Epoch 5/5\n",
            "8000/8000 [==============================] - 2s 275us/step - loss: 0.1170 - acc: 0.9520 - val_loss: 0.2212 - val_acc: 0.9060\n",
            "Train on 8000 samples, validate on 1000 samples\n",
            "Epoch 1/5\n",
            "8000/8000 [==============================] - 3s 402us/step - loss: 0.6708 - acc: 0.5962 - val_loss: 0.6032 - val_acc: 0.8410\n",
            "Epoch 2/5\n",
            "8000/8000 [==============================] - 2s 272us/step - loss: 0.5208 - acc: 0.7589 - val_loss: 0.3934 - val_acc: 0.8660\n",
            "Epoch 3/5\n",
            "8000/8000 [==============================] - 2s 274us/step - loss: 0.3900 - acc: 0.7959 - val_loss: 0.3012 - val_acc: 0.8800\n",
            "Epoch 4/5\n",
            "8000/8000 [==============================] - 2s 274us/step - loss: 0.2995 - acc: 0.8339 - val_loss: 0.2490 - val_acc: 0.8950\n",
            "Epoch 5/5\n",
            "8000/8000 [==============================] - 2s 277us/step - loss: 0.2504 - acc: 0.8575 - val_loss: 0.2423 - val_acc: 0.8980\n",
            "Train on 8000 samples, validate on 1000 samples\n",
            "Epoch 1/5\n",
            "8000/8000 [==============================] - 3s 410us/step - loss: 0.6956 - acc: 0.5187 - val_loss: 0.6636 - val_acc: 0.6170\n",
            "Epoch 2/5\n",
            "8000/8000 [==============================] - 2s 276us/step - loss: 0.6537 - acc: 0.5576 - val_loss: 0.6047 - val_acc: 0.8520\n",
            "Epoch 3/5\n",
            "8000/8000 [==============================] - 2s 275us/step - loss: 0.6372 - acc: 0.5639 - val_loss: 0.5684 - val_acc: 0.8530\n",
            "Epoch 4/5\n",
            "8000/8000 [==============================] - 2s 274us/step - loss: 0.6166 - acc: 0.5782 - val_loss: 0.5365 - val_acc: 0.8730\n",
            "Epoch 5/5\n",
            "8000/8000 [==============================] - 2s 274us/step - loss: 0.6106 - acc: 0.5801 - val_loss: 0.5119 - val_acc: 0.8920\n",
            "Train on 8000 samples, validate on 1000 samples\n",
            "Epoch 1/5\n",
            "8000/8000 [==============================] - 5s 595us/step - loss: 0.6753 - acc: 0.6480 - val_loss: 0.6160 - val_acc: 0.8620\n",
            "Epoch 2/5\n",
            "8000/8000 [==============================] - 3s 423us/step - loss: 0.4923 - acc: 0.8335 - val_loss: 0.3601 - val_acc: 0.8650\n",
            "Epoch 3/5\n",
            "8000/8000 [==============================] - 3s 424us/step - loss: 0.3043 - acc: 0.8808 - val_loss: 0.2749 - val_acc: 0.8910\n",
            "Epoch 4/5\n",
            "8000/8000 [==============================] - 3s 424us/step - loss: 0.2018 - acc: 0.9214 - val_loss: 0.2448 - val_acc: 0.8940\n",
            "Epoch 5/5\n",
            "8000/8000 [==============================] - 3s 424us/step - loss: 0.1315 - acc: 0.9514 - val_loss: 0.2149 - val_acc: 0.9120\n",
            "Train on 8000 samples, validate on 1000 samples\n",
            "Epoch 1/5\n",
            "8000/8000 [==============================] - 4s 552us/step - loss: 0.6795 - acc: 0.5823 - val_loss: 0.6333 - val_acc: 0.7740\n",
            "Epoch 2/5\n",
            "8000/8000 [==============================] - 3s 421us/step - loss: 0.5349 - acc: 0.7698 - val_loss: 0.4033 - val_acc: 0.8510\n",
            "Epoch 3/5\n",
            "8000/8000 [==============================] - 3s 421us/step - loss: 0.3936 - acc: 0.8006 - val_loss: 0.3031 - val_acc: 0.8900\n",
            "Epoch 4/5\n",
            "8000/8000 [==============================] - 3s 423us/step - loss: 0.3282 - acc: 0.8280 - val_loss: 0.2588 - val_acc: 0.8930\n",
            "Epoch 5/5\n",
            "8000/8000 [==============================] - 3s 422us/step - loss: 0.2721 - acc: 0.8460 - val_loss: 0.2370 - val_acc: 0.9040\n",
            "Train on 8000 samples, validate on 1000 samples\n",
            "Epoch 1/5\n",
            "8000/8000 [==============================] - 4s 557us/step - loss: 0.7013 - acc: 0.5205 - val_loss: 0.6752 - val_acc: 0.8130\n",
            "Epoch 2/5\n",
            "8000/8000 [==============================] - 3s 420us/step - loss: 0.6632 - acc: 0.5581 - val_loss: 0.6199 - val_acc: 0.7790\n",
            "Epoch 3/5\n",
            "8000/8000 [==============================] - 3s 420us/step - loss: 0.6373 - acc: 0.5741 - val_loss: 0.5672 - val_acc: 0.8580\n",
            "Epoch 4/5\n",
            "8000/8000 [==============================] - 3s 418us/step - loss: 0.6225 - acc: 0.5749 - val_loss: 0.5459 - val_acc: 0.8590\n",
            "Epoch 5/5\n",
            "8000/8000 [==============================] - 3s 419us/step - loss: 0.6113 - acc: 0.5791 - val_loss: 0.5221 - val_acc: 0.8780\n",
            "Train on 8000 samples, validate on 1000 samples\n",
            "Epoch 1/5\n",
            "8000/8000 [==============================] - 4s 556us/step - loss: 0.6590 - acc: 0.6556 - val_loss: 0.5605 - val_acc: 0.8060\n",
            "Epoch 2/5\n",
            "8000/8000 [==============================] - 3s 422us/step - loss: 0.4411 - acc: 0.8441 - val_loss: 0.3269 - val_acc: 0.8740\n",
            "Epoch 3/5\n",
            "8000/8000 [==============================] - 3s 422us/step - loss: 0.2619 - acc: 0.8920 - val_loss: 0.2533 - val_acc: 0.9000\n",
            "Epoch 4/5\n",
            "8000/8000 [==============================] - 3s 422us/step - loss: 0.1729 - acc: 0.9310 - val_loss: 0.2332 - val_acc: 0.9060\n",
            "Epoch 5/5\n",
            "8000/8000 [==============================] - 3s 425us/step - loss: 0.1078 - acc: 0.9559 - val_loss: 0.2258 - val_acc: 0.9160\n",
            "Train on 8000 samples, validate on 1000 samples\n",
            "Epoch 1/5\n",
            "8000/8000 [==============================] - 4s 550us/step - loss: 0.6661 - acc: 0.6276 - val_loss: 0.5852 - val_acc: 0.8520\n",
            "Epoch 2/5\n",
            "8000/8000 [==============================] - 3s 424us/step - loss: 0.4929 - acc: 0.7754 - val_loss: 0.3702 - val_acc: 0.8550\n",
            "Epoch 3/5\n",
            "8000/8000 [==============================] - 3s 424us/step - loss: 0.3664 - acc: 0.8060 - val_loss: 0.2722 - val_acc: 0.8850\n",
            "Epoch 4/5\n",
            "8000/8000 [==============================] - 3s 422us/step - loss: 0.2885 - acc: 0.8369 - val_loss: 0.2396 - val_acc: 0.8950\n",
            "Epoch 5/5\n",
            "8000/8000 [==============================] - 3s 420us/step - loss: 0.2458 - acc: 0.8571 - val_loss: 0.2272 - val_acc: 0.8970\n",
            "Train on 8000 samples, validate on 1000 samples\n",
            "Epoch 1/5\n",
            "8000/8000 [==============================] - 4s 548us/step - loss: 0.7158 - acc: 0.5186 - val_loss: 0.6556 - val_acc: 0.7180\n",
            "Epoch 2/5\n",
            "8000/8000 [==============================] - 3s 420us/step - loss: 0.6569 - acc: 0.5579 - val_loss: 0.6161 - val_acc: 0.7630\n",
            "Epoch 3/5\n",
            "8000/8000 [==============================] - 3s 420us/step - loss: 0.6331 - acc: 0.5680 - val_loss: 0.5645 - val_acc: 0.8560\n",
            "Epoch 4/5\n",
            "8000/8000 [==============================] - 3s 420us/step - loss: 0.6198 - acc: 0.5761 - val_loss: 0.5309 - val_acc: 0.8730\n",
            "Epoch 5/5\n",
            "8000/8000 [==============================] - 3s 418us/step - loss: 0.6108 - acc: 0.5797 - val_loss: 0.5070 - val_acc: 0.8930\n",
            "Train on 8000 samples, validate on 1000 samples\n",
            "Epoch 1/5\n",
            "8000/8000 [==============================] - 5s 565us/step - loss: 0.6569 - acc: 0.6220 - val_loss: 0.5728 - val_acc: 0.8010\n",
            "Epoch 2/5\n",
            "8000/8000 [==============================] - 3s 428us/step - loss: 0.4437 - acc: 0.8342 - val_loss: 0.3307 - val_acc: 0.8650\n",
            "Epoch 3/5\n",
            "8000/8000 [==============================] - 3s 424us/step - loss: 0.2673 - acc: 0.8930 - val_loss: 0.2483 - val_acc: 0.8950\n",
            "Epoch 4/5\n",
            "8000/8000 [==============================] - 3s 424us/step - loss: 0.1679 - acc: 0.9286 - val_loss: 0.2220 - val_acc: 0.9060\n",
            "Epoch 5/5\n",
            "8000/8000 [==============================] - 3s 424us/step - loss: 0.1037 - acc: 0.9547 - val_loss: 0.2212 - val_acc: 0.9060\n",
            "Train on 8000 samples, validate on 1000 samples\n",
            "Epoch 1/5\n",
            "8000/8000 [==============================] - 4s 560us/step - loss: 0.6685 - acc: 0.5846 - val_loss: 0.5827 - val_acc: 0.8410\n",
            "Epoch 2/5\n",
            "8000/8000 [==============================] - 3s 420us/step - loss: 0.5031 - acc: 0.7552 - val_loss: 0.3724 - val_acc: 0.8630\n",
            "Epoch 3/5\n",
            "8000/8000 [==============================] - 3s 425us/step - loss: 0.3738 - acc: 0.8070 - val_loss: 0.2986 - val_acc: 0.8790\n",
            "Epoch 4/5\n",
            "8000/8000 [==============================] - 3s 421us/step - loss: 0.3012 - acc: 0.8383 - val_loss: 0.2413 - val_acc: 0.8970\n",
            "Epoch 5/5\n",
            "8000/8000 [==============================] - 3s 422us/step - loss: 0.2437 - acc: 0.8625 - val_loss: 0.2295 - val_acc: 0.9030\n",
            "Train on 8000 samples, validate on 1000 samples\n",
            "Epoch 1/5\n",
            "8000/8000 [==============================] - 4s 547us/step - loss: 0.7106 - acc: 0.5195 - val_loss: 0.6508 - val_acc: 0.8150\n",
            "Epoch 2/5\n",
            "8000/8000 [==============================] - 3s 420us/step - loss: 0.6530 - acc: 0.5521 - val_loss: 0.5927 - val_acc: 0.8480\n",
            "Epoch 3/5\n",
            "8000/8000 [==============================] - 3s 422us/step - loss: 0.6279 - acc: 0.5715 - val_loss: 0.5531 - val_acc: 0.8530\n",
            "Epoch 4/5\n",
            "8000/8000 [==============================] - 3s 421us/step - loss: 0.6148 - acc: 0.5744 - val_loss: 0.5185 - val_acc: 0.8870\n",
            "Epoch 5/5\n",
            "8000/8000 [==============================] - 3s 419us/step - loss: 0.6075 - acc: 0.5845 - val_loss: 0.5040 - val_acc: 0.8650\n",
            "Train on 8000 samples, validate on 1000 samples\n",
            "Epoch 1/5\n",
            "8000/8000 [==============================] - 3s 398us/step - loss: 0.6754 - acc: 0.6172 - val_loss: 0.6328 - val_acc: 0.8350\n",
            "Epoch 2/5\n",
            "8000/8000 [==============================] - 2s 213us/step - loss: 0.5410 - acc: 0.8264 - val_loss: 0.4296 - val_acc: 0.8440\n",
            "Epoch 3/5\n",
            "8000/8000 [==============================] - 2s 212us/step - loss: 0.3591 - acc: 0.8679 - val_loss: 0.3250 - val_acc: 0.8660\n",
            "Epoch 4/5\n",
            "8000/8000 [==============================] - 2s 211us/step - loss: 0.2506 - acc: 0.9018 - val_loss: 0.2710 - val_acc: 0.8950\n",
            "Epoch 5/5\n",
            "8000/8000 [==============================] - 2s 212us/step - loss: 0.1799 - acc: 0.9347 - val_loss: 0.2469 - val_acc: 0.8960\n",
            "Train on 8000 samples, validate on 1000 samples\n",
            "Epoch 1/5\n",
            "8000/8000 [==============================] - 3s 356us/step - loss: 0.6745 - acc: 0.6084 - val_loss: 0.6298 - val_acc: 0.7670\n",
            "Epoch 2/5\n",
            "8000/8000 [==============================] - 2s 212us/step - loss: 0.5609 - acc: 0.7708 - val_loss: 0.4626 - val_acc: 0.8540\n",
            "Epoch 3/5\n",
            "8000/8000 [==============================] - 2s 212us/step - loss: 0.4314 - acc: 0.7976 - val_loss: 0.3549 - val_acc: 0.8670\n",
            "Epoch 4/5\n",
            "8000/8000 [==============================] - 2s 214us/step - loss: 0.3578 - acc: 0.8137 - val_loss: 0.3044 - val_acc: 0.8830\n",
            "Epoch 5/5\n",
            "8000/8000 [==============================] - 2s 213us/step - loss: 0.3005 - acc: 0.8369 - val_loss: 0.2705 - val_acc: 0.8950\n",
            "Train on 8000 samples, validate on 1000 samples\n",
            "Epoch 1/5\n",
            "8000/8000 [==============================] - 3s 360us/step - loss: 0.6927 - acc: 0.5149 - val_loss: 0.6818 - val_acc: 0.5730\n",
            "Epoch 2/5\n",
            "8000/8000 [==============================] - 2s 215us/step - loss: 0.6706 - acc: 0.5464 - val_loss: 0.6408 - val_acc: 0.8040\n",
            "Epoch 3/5\n",
            "8000/8000 [==============================] - 2s 213us/step - loss: 0.6485 - acc: 0.5579 - val_loss: 0.5937 - val_acc: 0.8150\n",
            "Epoch 4/5\n",
            "8000/8000 [==============================] - 2s 215us/step - loss: 0.6321 - acc: 0.5696 - val_loss: 0.5730 - val_acc: 0.8250\n",
            "Epoch 5/5\n",
            "8000/8000 [==============================] - 2s 216us/step - loss: 0.6187 - acc: 0.5769 - val_loss: 0.5442 - val_acc: 0.8610\n",
            "Train on 8000 samples, validate on 1000 samples\n",
            "Epoch 1/5\n",
            "8000/8000 [==============================] - 3s 362us/step - loss: 0.6463 - acc: 0.6584 - val_loss: 0.5602 - val_acc: 0.8330\n",
            "Epoch 2/5\n",
            "8000/8000 [==============================] - 2s 213us/step - loss: 0.4567 - acc: 0.8276 - val_loss: 0.3712 - val_acc: 0.8480\n",
            "Epoch 3/5\n",
            "8000/8000 [==============================] - 2s 211us/step - loss: 0.2964 - acc: 0.8820 - val_loss: 0.2884 - val_acc: 0.8750\n",
            "Epoch 4/5\n",
            "8000/8000 [==============================] - 2s 211us/step - loss: 0.1929 - acc: 0.9308 - val_loss: 0.2590 - val_acc: 0.8890\n",
            "Epoch 5/5\n",
            "8000/8000 [==============================] - 2s 209us/step - loss: 0.1298 - acc: 0.9525 - val_loss: 0.2394 - val_acc: 0.9000\n",
            "Train on 8000 samples, validate on 1000 samples\n",
            "Epoch 1/5\n",
            "8000/8000 [==============================] - 3s 362us/step - loss: 0.6521 - acc: 0.6328 - val_loss: 0.5670 - val_acc: 0.8390\n",
            "Epoch 2/5\n",
            "8000/8000 [==============================] - 2s 211us/step - loss: 0.4948 - acc: 0.7816 - val_loss: 0.3933 - val_acc: 0.8680\n",
            "Epoch 3/5\n",
            "8000/8000 [==============================] - 2s 215us/step - loss: 0.3728 - acc: 0.8125 - val_loss: 0.3077 - val_acc: 0.8880\n",
            "Epoch 4/5\n",
            "8000/8000 [==============================] - 2s 217us/step - loss: 0.2997 - acc: 0.8383 - val_loss: 0.2608 - val_acc: 0.8920\n",
            "Epoch 5/5\n",
            "8000/8000 [==============================] - 2s 215us/step - loss: 0.2487 - acc: 0.8546 - val_loss: 0.2383 - val_acc: 0.9000\n",
            "Train on 8000 samples, validate on 1000 samples\n",
            "Epoch 1/5\n",
            "8000/8000 [==============================] - 3s 352us/step - loss: 0.6884 - acc: 0.5212 - val_loss: 0.6599 - val_acc: 0.6520\n",
            "Epoch 2/5\n",
            "8000/8000 [==============================] - 2s 211us/step - loss: 0.6567 - acc: 0.5529 - val_loss: 0.6114 - val_acc: 0.8190\n",
            "Epoch 3/5\n",
            "8000/8000 [==============================] - 2s 211us/step - loss: 0.6425 - acc: 0.5644 - val_loss: 0.5819 - val_acc: 0.8260\n",
            "Epoch 4/5\n",
            "8000/8000 [==============================] - 2s 211us/step - loss: 0.6288 - acc: 0.5731 - val_loss: 0.5650 - val_acc: 0.8540\n",
            "Epoch 5/5\n",
            "8000/8000 [==============================] - 2s 214us/step - loss: 0.6201 - acc: 0.5756 - val_loss: 0.5363 - val_acc: 0.8630\n",
            "Train on 8000 samples, validate on 1000 samples\n",
            "Epoch 1/5\n",
            "8000/8000 [==============================] - 3s 361us/step - loss: 0.6548 - acc: 0.6234 - val_loss: 0.5853 - val_acc: 0.8090\n",
            "Epoch 2/5\n",
            "8000/8000 [==============================] - 2s 213us/step - loss: 0.4791 - acc: 0.8473 - val_loss: 0.3983 - val_acc: 0.8530\n",
            "Epoch 3/5\n",
            "8000/8000 [==============================] - 2s 212us/step - loss: 0.3111 - acc: 0.8832 - val_loss: 0.2903 - val_acc: 0.8830\n",
            "Epoch 4/5\n",
            "8000/8000 [==============================] - 2s 212us/step - loss: 0.2052 - acc: 0.9244 - val_loss: 0.2500 - val_acc: 0.8920\n",
            "Epoch 5/5\n",
            "8000/8000 [==============================] - 2s 211us/step - loss: 0.1372 - acc: 0.9520 - val_loss: 0.2333 - val_acc: 0.8960\n",
            "Train on 8000 samples, validate on 1000 samples\n",
            "Epoch 1/5\n",
            "8000/8000 [==============================] - 3s 354us/step - loss: 0.6563 - acc: 0.6184 - val_loss: 0.5798 - val_acc: 0.8400\n",
            "Epoch 2/5\n",
            "8000/8000 [==============================] - 2s 210us/step - loss: 0.4999 - acc: 0.7866 - val_loss: 0.3987 - val_acc: 0.8610\n",
            "Epoch 3/5\n",
            "8000/8000 [==============================] - 2s 210us/step - loss: 0.3845 - acc: 0.8054 - val_loss: 0.3191 - val_acc: 0.8810\n",
            "Epoch 4/5\n",
            "8000/8000 [==============================] - 2s 211us/step - loss: 0.3065 - acc: 0.8369 - val_loss: 0.2655 - val_acc: 0.8950\n",
            "Epoch 5/5\n",
            "8000/8000 [==============================] - 2s 212us/step - loss: 0.2606 - acc: 0.8534 - val_loss: 0.2456 - val_acc: 0.9020\n",
            "Train on 8000 samples, validate on 1000 samples\n",
            "Epoch 1/5\n",
            "8000/8000 [==============================] - 3s 355us/step - loss: 0.6835 - acc: 0.5284 - val_loss: 0.6499 - val_acc: 0.7950\n",
            "Epoch 2/5\n",
            "8000/8000 [==============================] - 2s 212us/step - loss: 0.6480 - acc: 0.5620 - val_loss: 0.5983 - val_acc: 0.8500\n",
            "Epoch 3/5\n",
            "8000/8000 [==============================] - 2s 213us/step - loss: 0.6305 - acc: 0.5713 - val_loss: 0.5604 - val_acc: 0.8390\n",
            "Epoch 4/5\n",
            "8000/8000 [==============================] - 2s 210us/step - loss: 0.6213 - acc: 0.5756 - val_loss: 0.5360 - val_acc: 0.8870\n",
            "Epoch 5/5\n",
            "8000/8000 [==============================] - 2s 214us/step - loss: 0.6067 - acc: 0.5823 - val_loss: 0.5133 - val_acc: 0.8950\n",
            "Train on 8000 samples, validate on 1000 samples\n",
            "Epoch 1/5\n",
            "8000/8000 [==============================] - 4s 506us/step - loss: 0.6732 - acc: 0.6021 - val_loss: 0.6159 - val_acc: 0.8170\n",
            "Epoch 2/5\n",
            "8000/8000 [==============================] - 2s 289us/step - loss: 0.5051 - acc: 0.8293 - val_loss: 0.3871 - val_acc: 0.8460\n",
            "Epoch 3/5\n",
            "8000/8000 [==============================] - 2s 288us/step - loss: 0.3247 - acc: 0.8681 - val_loss: 0.3027 - val_acc: 0.8740\n",
            "Epoch 4/5\n",
            "8000/8000 [==============================] - 2s 289us/step - loss: 0.2151 - acc: 0.9216 - val_loss: 0.2501 - val_acc: 0.8980\n",
            "Epoch 5/5\n",
            "8000/8000 [==============================] - 2s 286us/step - loss: 0.1444 - acc: 0.9471 - val_loss: 0.2308 - val_acc: 0.8970\n",
            "Train on 8000 samples, validate on 1000 samples\n",
            "Epoch 1/5\n",
            "8000/8000 [==============================] - 3s 432us/step - loss: 0.6768 - acc: 0.5653 - val_loss: 0.6247 - val_acc: 0.7670\n",
            "Epoch 2/5\n",
            "8000/8000 [==============================] - 2s 285us/step - loss: 0.5467 - acc: 0.7468 - val_loss: 0.4215 - val_acc: 0.8600\n",
            "Epoch 3/5\n",
            "8000/8000 [==============================] - 2s 287us/step - loss: 0.4108 - acc: 0.7905 - val_loss: 0.3365 - val_acc: 0.8730\n",
            "Epoch 4/5\n",
            "8000/8000 [==============================] - 2s 287us/step - loss: 0.3258 - acc: 0.8294 - val_loss: 0.2770 - val_acc: 0.8970\n",
            "Epoch 5/5\n",
            "8000/8000 [==============================] - 2s 286us/step - loss: 0.2729 - acc: 0.8510 - val_loss: 0.2485 - val_acc: 0.9040\n",
            "Train on 8000 samples, validate on 1000 samples\n",
            "Epoch 1/5\n",
            "8000/8000 [==============================] - 4s 442us/step - loss: 0.6893 - acc: 0.5189 - val_loss: 0.6725 - val_acc: 0.7360\n",
            "Epoch 2/5\n",
            "8000/8000 [==============================] - 2s 286us/step - loss: 0.6605 - acc: 0.5570 - val_loss: 0.6170 - val_acc: 0.8250\n",
            "Epoch 3/5\n",
            "8000/8000 [==============================] - 2s 286us/step - loss: 0.6400 - acc: 0.5643 - val_loss: 0.5724 - val_acc: 0.8470\n",
            "Epoch 4/5\n",
            "8000/8000 [==============================] - 2s 287us/step - loss: 0.6184 - acc: 0.5794 - val_loss: 0.5408 - val_acc: 0.8760\n",
            "Epoch 5/5\n",
            "8000/8000 [==============================] - 2s 283us/step - loss: 0.6117 - acc: 0.5735 - val_loss: 0.5168 - val_acc: 0.8760\n",
            "Train on 8000 samples, validate on 1000 samples\n",
            "Epoch 1/5\n",
            "8000/8000 [==============================] - 4s 438us/step - loss: 0.6517 - acc: 0.6437 - val_loss: 0.5963 - val_acc: 0.6720\n",
            "Epoch 2/5\n",
            "8000/8000 [==============================] - 2s 286us/step - loss: 0.4578 - acc: 0.8364 - val_loss: 0.3570 - val_acc: 0.8710\n",
            "Epoch 3/5\n",
            "8000/8000 [==============================] - 2s 285us/step - loss: 0.2868 - acc: 0.8869 - val_loss: 0.2672 - val_acc: 0.8860\n",
            "Epoch 4/5\n",
            "8000/8000 [==============================] - 2s 288us/step - loss: 0.1801 - acc: 0.9314 - val_loss: 0.2407 - val_acc: 0.9010\n",
            "Epoch 5/5\n",
            "8000/8000 [==============================] - 2s 287us/step - loss: 0.1216 - acc: 0.9549 - val_loss: 0.2332 - val_acc: 0.9120\n",
            "Train on 8000 samples, validate on 1000 samples\n",
            "Epoch 1/5\n",
            "8000/8000 [==============================] - 3s 427us/step - loss: 0.6566 - acc: 0.6287 - val_loss: 0.5772 - val_acc: 0.8430\n",
            "Epoch 2/5\n",
            "8000/8000 [==============================] - 2s 285us/step - loss: 0.4998 - acc: 0.7696 - val_loss: 0.3848 - val_acc: 0.8610\n",
            "Epoch 3/5\n",
            "8000/8000 [==============================] - 2s 286us/step - loss: 0.3817 - acc: 0.8113 - val_loss: 0.2978 - val_acc: 0.8910\n",
            "Epoch 4/5\n",
            "8000/8000 [==============================] - 2s 285us/step - loss: 0.2896 - acc: 0.8440 - val_loss: 0.2523 - val_acc: 0.8980\n",
            "Epoch 5/5\n",
            "8000/8000 [==============================] - 2s 287us/step - loss: 0.2453 - acc: 0.8614 - val_loss: 0.2268 - val_acc: 0.9130\n",
            "Train on 8000 samples, validate on 1000 samples\n",
            "Epoch 1/5\n",
            "8000/8000 [==============================] - 3s 430us/step - loss: 0.6888 - acc: 0.5276 - val_loss: 0.6363 - val_acc: 0.7920\n",
            "Epoch 2/5\n",
            "8000/8000 [==============================] - 2s 285us/step - loss: 0.6450 - acc: 0.5647 - val_loss: 0.5870 - val_acc: 0.8510\n",
            "Epoch 3/5\n",
            "8000/8000 [==============================] - 2s 284us/step - loss: 0.6302 - acc: 0.5700 - val_loss: 0.5629 - val_acc: 0.8350\n",
            "Epoch 4/5\n",
            "8000/8000 [==============================] - 2s 285us/step - loss: 0.6105 - acc: 0.5841 - val_loss: 0.5219 - val_acc: 0.8780\n",
            "Epoch 5/5\n",
            "8000/8000 [==============================] - 2s 285us/step - loss: 0.6015 - acc: 0.5865 - val_loss: 0.5058 - val_acc: 0.8850\n",
            "Train on 8000 samples, validate on 1000 samples\n",
            "Epoch 1/5\n",
            "8000/8000 [==============================] - 3s 431us/step - loss: 0.6604 - acc: 0.6334 - val_loss: 0.5853 - val_acc: 0.8170\n",
            "Epoch 2/5\n",
            "8000/8000 [==============================] - 2s 286us/step - loss: 0.4694 - acc: 0.8496 - val_loss: 0.3634 - val_acc: 0.8620\n",
            "Epoch 3/5\n",
            "8000/8000 [==============================] - 2s 286us/step - loss: 0.2931 - acc: 0.8874 - val_loss: 0.2797 - val_acc: 0.8830\n",
            "Epoch 4/5\n",
            "8000/8000 [==============================] - 2s 286us/step - loss: 0.1915 - acc: 0.9263 - val_loss: 0.2412 - val_acc: 0.8950\n",
            "Epoch 5/5\n",
            "8000/8000 [==============================] - 2s 288us/step - loss: 0.1309 - acc: 0.9505 - val_loss: 0.2355 - val_acc: 0.9030\n",
            "Train on 8000 samples, validate on 1000 samples\n",
            "Epoch 1/5\n",
            "8000/8000 [==============================] - 3s 435us/step - loss: 0.6471 - acc: 0.6456 - val_loss: 0.5524 - val_acc: 0.8420\n",
            "Epoch 2/5\n",
            "8000/8000 [==============================] - 2s 286us/step - loss: 0.4933 - acc: 0.7539 - val_loss: 0.3797 - val_acc: 0.8630\n",
            "Epoch 3/5\n",
            "8000/8000 [==============================] - 2s 288us/step - loss: 0.3795 - acc: 0.8050 - val_loss: 0.2950 - val_acc: 0.8860\n",
            "Epoch 4/5\n",
            "8000/8000 [==============================] - 2s 287us/step - loss: 0.2933 - acc: 0.8427 - val_loss: 0.2518 - val_acc: 0.8950\n",
            "Epoch 5/5\n",
            "8000/8000 [==============================] - 2s 293us/step - loss: 0.2542 - acc: 0.8533 - val_loss: 0.2596 - val_acc: 0.8870\n",
            "Train on 8000 samples, validate on 1000 samples\n",
            "Epoch 1/5\n",
            "8000/8000 [==============================] - 3s 428us/step - loss: 0.6867 - acc: 0.5301 - val_loss: 0.6472 - val_acc: 0.7080\n",
            "Epoch 2/5\n",
            "8000/8000 [==============================] - 2s 285us/step - loss: 0.6437 - acc: 0.5649 - val_loss: 0.5830 - val_acc: 0.8000\n",
            "Epoch 3/5\n",
            "8000/8000 [==============================] - 2s 284us/step - loss: 0.6362 - acc: 0.5619 - val_loss: 0.5509 - val_acc: 0.8230\n",
            "Epoch 4/5\n",
            "8000/8000 [==============================] - 2s 290us/step - loss: 0.6138 - acc: 0.5787 - val_loss: 0.5265 - val_acc: 0.8680\n",
            "Epoch 5/5\n",
            "8000/8000 [==============================] - 2s 290us/step - loss: 0.6049 - acc: 0.5815 - val_loss: 0.5052 - val_acc: 0.8760\n",
            "Train on 8000 samples, validate on 1000 samples\n",
            "Epoch 1/5\n",
            "8000/8000 [==============================] - 5s 583us/step - loss: 0.6742 - acc: 0.6428 - val_loss: 0.6164 - val_acc: 0.7470\n",
            "Epoch 2/5\n",
            "8000/8000 [==============================] - 3s 386us/step - loss: 0.4847 - acc: 0.8063 - val_loss: 0.3648 - val_acc: 0.8530\n",
            "Epoch 3/5\n",
            "8000/8000 [==============================] - 3s 386us/step - loss: 0.3028 - acc: 0.8816 - val_loss: 0.2778 - val_acc: 0.8840\n",
            "Epoch 4/5\n",
            "8000/8000 [==============================] - 3s 385us/step - loss: 0.1966 - acc: 0.9255 - val_loss: 0.2481 - val_acc: 0.8920\n",
            "Epoch 5/5\n",
            "8000/8000 [==============================] - 3s 385us/step - loss: 0.1334 - acc: 0.9491 - val_loss: 0.2337 - val_acc: 0.9090\n",
            "Train on 8000 samples, validate on 1000 samples\n",
            "Epoch 1/5\n",
            "8000/8000 [==============================] - 4s 542us/step - loss: 0.6809 - acc: 0.5675 - val_loss: 0.6346 - val_acc: 0.8430\n",
            "Epoch 2/5\n",
            "8000/8000 [==============================] - 3s 384us/step - loss: 0.5414 - acc: 0.7555 - val_loss: 0.4146 - val_acc: 0.8470\n",
            "Epoch 3/5\n",
            "8000/8000 [==============================] - 3s 386us/step - loss: 0.4102 - acc: 0.7879 - val_loss: 0.3151 - val_acc: 0.8800\n",
            "Epoch 4/5\n",
            "8000/8000 [==============================] - 3s 384us/step - loss: 0.3320 - acc: 0.8254 - val_loss: 0.2730 - val_acc: 0.8900\n",
            "Epoch 5/5\n",
            "8000/8000 [==============================] - 3s 385us/step - loss: 0.2704 - acc: 0.8490 - val_loss: 0.2451 - val_acc: 0.8940\n",
            "Train on 8000 samples, validate on 1000 samples\n",
            "Epoch 1/5\n",
            "8000/8000 [==============================] - 4s 532us/step - loss: 0.6936 - acc: 0.5178 - val_loss: 0.6736 - val_acc: 0.8310\n",
            "Epoch 2/5\n",
            "8000/8000 [==============================] - 3s 381us/step - loss: 0.6603 - acc: 0.5569 - val_loss: 0.6109 - val_acc: 0.8140\n",
            "Epoch 3/5\n",
            "8000/8000 [==============================] - 3s 380us/step - loss: 0.6354 - acc: 0.5641 - val_loss: 0.5655 - val_acc: 0.8580\n",
            "Epoch 4/5\n",
            "8000/8000 [==============================] - 3s 381us/step - loss: 0.6167 - acc: 0.5819 - val_loss: 0.5276 - val_acc: 0.8730\n",
            "Epoch 5/5\n",
            "8000/8000 [==============================] - 3s 382us/step - loss: 0.6056 - acc: 0.5824 - val_loss: 0.5057 - val_acc: 0.8530\n",
            "Train on 8000 samples, validate on 1000 samples\n",
            "Epoch 1/5\n",
            "8000/8000 [==============================] - 4s 541us/step - loss: 0.6564 - acc: 0.6270 - val_loss: 0.5666 - val_acc: 0.8020\n",
            "Epoch 2/5\n",
            "8000/8000 [==============================] - 3s 384us/step - loss: 0.4302 - acc: 0.8423 - val_loss: 0.3162 - val_acc: 0.8730\n",
            "Epoch 3/5\n",
            "8000/8000 [==============================] - 3s 388us/step - loss: 0.2469 - acc: 0.8994 - val_loss: 0.2478 - val_acc: 0.8860\n",
            "Epoch 4/5\n",
            "8000/8000 [==============================] - 3s 387us/step - loss: 0.1547 - acc: 0.9354 - val_loss: 0.2217 - val_acc: 0.9010\n",
            "Epoch 5/5\n",
            "8000/8000 [==============================] - 3s 389us/step - loss: 0.0937 - acc: 0.9589 - val_loss: 0.2250 - val_acc: 0.9060\n",
            "Train on 8000 samples, validate on 1000 samples\n",
            "Epoch 1/5\n",
            "8000/8000 [==============================] - 4s 540us/step - loss: 0.6591 - acc: 0.6095 - val_loss: 0.5695 - val_acc: 0.8610\n",
            "Epoch 2/5\n",
            "8000/8000 [==============================] - 3s 384us/step - loss: 0.4904 - acc: 0.7719 - val_loss: 0.3587 - val_acc: 0.8700\n",
            "Epoch 3/5\n",
            "8000/8000 [==============================] - 3s 388us/step - loss: 0.3573 - acc: 0.8146 - val_loss: 0.2742 - val_acc: 0.8980\n",
            "Epoch 4/5\n",
            "8000/8000 [==============================] - 3s 387us/step - loss: 0.2834 - acc: 0.8391 - val_loss: 0.2461 - val_acc: 0.8960\n",
            "Epoch 5/5\n",
            "8000/8000 [==============================] - 3s 388us/step - loss: 0.2410 - acc: 0.8559 - val_loss: 0.2338 - val_acc: 0.8950\n",
            "Train on 8000 samples, validate on 1000 samples\n",
            "Epoch 1/5\n",
            "8000/8000 [==============================] - 4s 533us/step - loss: 0.6932 - acc: 0.5225 - val_loss: 0.6517 - val_acc: 0.6960\n",
            "Epoch 2/5\n",
            "8000/8000 [==============================] - 3s 383us/step - loss: 0.6438 - acc: 0.5616 - val_loss: 0.5876 - val_acc: 0.8500\n",
            "Epoch 3/5\n",
            "8000/8000 [==============================] - 3s 382us/step - loss: 0.6229 - acc: 0.5746 - val_loss: 0.5568 - val_acc: 0.8370\n",
            "Epoch 4/5\n",
            "8000/8000 [==============================] - 3s 382us/step - loss: 0.6189 - acc: 0.5790 - val_loss: 0.5366 - val_acc: 0.8430\n",
            "Epoch 5/5\n",
            "8000/8000 [==============================] - 3s 382us/step - loss: 0.6035 - acc: 0.5841 - val_loss: 0.5002 - val_acc: 0.8880\n",
            "Train on 8000 samples, validate on 1000 samples\n",
            "Epoch 1/5\n",
            "8000/8000 [==============================] - 4s 541us/step - loss: 0.6539 - acc: 0.6524 - val_loss: 0.5558 - val_acc: 0.8110\n",
            "Epoch 2/5\n",
            "8000/8000 [==============================] - 3s 386us/step - loss: 0.4390 - acc: 0.8436 - val_loss: 0.3328 - val_acc: 0.8670\n",
            "Epoch 3/5\n",
            "8000/8000 [==============================] - 3s 384us/step - loss: 0.2732 - acc: 0.8882 - val_loss: 0.2632 - val_acc: 0.8890\n",
            "Epoch 4/5\n",
            "8000/8000 [==============================] - 3s 384us/step - loss: 0.1709 - acc: 0.9301 - val_loss: 0.2385 - val_acc: 0.9000\n",
            "Epoch 5/5\n",
            "8000/8000 [==============================] - 3s 384us/step - loss: 0.1091 - acc: 0.9547 - val_loss: 0.2322 - val_acc: 0.9060\n",
            "Train on 8000 samples, validate on 1000 samples\n",
            "Epoch 1/5\n",
            "8000/8000 [==============================] - 4s 537us/step - loss: 0.6541 - acc: 0.6326 - val_loss: 0.5620 - val_acc: 0.8590\n",
            "Epoch 2/5\n",
            "8000/8000 [==============================] - 3s 388us/step - loss: 0.4775 - acc: 0.7771 - val_loss: 0.3578 - val_acc: 0.8550\n",
            "Epoch 3/5\n",
            "8000/8000 [==============================] - 3s 386us/step - loss: 0.3533 - acc: 0.8195 - val_loss: 0.2693 - val_acc: 0.8930\n",
            "Epoch 4/5\n",
            "8000/8000 [==============================] - 3s 386us/step - loss: 0.2830 - acc: 0.8420 - val_loss: 0.2364 - val_acc: 0.9010\n",
            "Epoch 5/5\n",
            "8000/8000 [==============================] - 3s 386us/step - loss: 0.2374 - acc: 0.8578 - val_loss: 0.2268 - val_acc: 0.9090\n",
            "Train on 8000 samples, validate on 1000 samples\n",
            "Epoch 1/5\n",
            "8000/8000 [==============================] - 4s 534us/step - loss: 0.7090 - acc: 0.5110 - val_loss: 0.6631 - val_acc: 0.5400\n",
            "Epoch 2/5\n",
            "8000/8000 [==============================] - 3s 381us/step - loss: 0.6546 - acc: 0.5561 - val_loss: 0.6075 - val_acc: 0.8460\n",
            "Epoch 3/5\n",
            "8000/8000 [==============================] - 3s 382us/step - loss: 0.6326 - acc: 0.5730 - val_loss: 0.5636 - val_acc: 0.8650\n",
            "Epoch 4/5\n",
            "8000/8000 [==============================] - 3s 385us/step - loss: 0.6149 - acc: 0.5782 - val_loss: 0.5384 - val_acc: 0.8540\n",
            "Epoch 5/5\n",
            "8000/8000 [==============================] - 3s 383us/step - loss: 0.6057 - acc: 0.5835 - val_loss: 0.5058 - val_acc: 0.8790\n",
            "Train on 8000 samples, validate on 1000 samples\n",
            "Epoch 1/5\n",
            "8000/8000 [==============================] - 6s 792us/step - loss: 0.6796 - acc: 0.5979 - val_loss: 0.6255 - val_acc: 0.7420\n",
            "Epoch 2/5\n",
            "8000/8000 [==============================] - 5s 606us/step - loss: 0.4746 - acc: 0.8247 - val_loss: 0.3541 - val_acc: 0.8560\n",
            "Epoch 3/5\n",
            "8000/8000 [==============================] - 5s 606us/step - loss: 0.2895 - acc: 0.8781 - val_loss: 0.2766 - val_acc: 0.8800\n",
            "Epoch 4/5\n",
            "8000/8000 [==============================] - 5s 606us/step - loss: 0.1862 - acc: 0.9251 - val_loss: 0.2477 - val_acc: 0.8910\n",
            "Epoch 5/5\n",
            "8000/8000 [==============================] - 5s 607us/step - loss: 0.1213 - acc: 0.9494 - val_loss: 0.2431 - val_acc: 0.8960\n",
            "Train on 8000 samples, validate on 1000 samples\n",
            "Epoch 1/5\n",
            "8000/8000 [==============================] - 6s 765us/step - loss: 0.6735 - acc: 0.5978 - val_loss: 0.6123 - val_acc: 0.7410\n",
            "Epoch 2/5\n",
            "8000/8000 [==============================] - 5s 606us/step - loss: 0.5000 - acc: 0.7597 - val_loss: 0.3538 - val_acc: 0.8630\n",
            "Epoch 3/5\n",
            "8000/8000 [==============================] - 5s 610us/step - loss: 0.3698 - acc: 0.8079 - val_loss: 0.2878 - val_acc: 0.8920\n",
            "Epoch 4/5\n",
            "8000/8000 [==============================] - 5s 609us/step - loss: 0.2999 - acc: 0.8356 - val_loss: 0.2451 - val_acc: 0.8990\n",
            "Epoch 5/5\n",
            "8000/8000 [==============================] - 5s 609us/step - loss: 0.2447 - acc: 0.8556 - val_loss: 0.2362 - val_acc: 0.8990\n",
            "Train on 8000 samples, validate on 1000 samples\n",
            "Epoch 1/5\n",
            "8000/8000 [==============================] - 6s 779us/step - loss: 0.6975 - acc: 0.5146 - val_loss: 0.6741 - val_acc: 0.7470\n",
            "Epoch 2/5\n",
            "8000/8000 [==============================] - 5s 607us/step - loss: 0.6627 - acc: 0.5537 - val_loss: 0.6054 - val_acc: 0.8110\n",
            "Epoch 3/5\n",
            "8000/8000 [==============================] - 5s 604us/step - loss: 0.6291 - acc: 0.5703 - val_loss: 0.5532 - val_acc: 0.8190\n",
            "Epoch 4/5\n",
            "8000/8000 [==============================] - 5s 603us/step - loss: 0.6206 - acc: 0.5755 - val_loss: 0.5239 - val_acc: 0.8590\n",
            "Epoch 5/5\n",
            "8000/8000 [==============================] - 5s 602us/step - loss: 0.6073 - acc: 0.5816 - val_loss: 0.5054 - val_acc: 0.8730\n",
            "Train on 8000 samples, validate on 1000 samples\n",
            "Epoch 1/5\n",
            "8000/8000 [==============================] - 6s 763us/step - loss: 0.6621 - acc: 0.6486 - val_loss: 0.5628 - val_acc: 0.8460\n",
            "Epoch 2/5\n",
            "8000/8000 [==============================] - 5s 609us/step - loss: 0.4321 - acc: 0.8333 - val_loss: 0.3603 - val_acc: 0.8410\n",
            "Epoch 3/5\n",
            "8000/8000 [==============================] - 5s 610us/step - loss: 0.2532 - acc: 0.8974 - val_loss: 0.2511 - val_acc: 0.8960\n",
            "Epoch 4/5\n",
            "8000/8000 [==============================] - 5s 608us/step - loss: 0.1524 - acc: 0.9409 - val_loss: 0.2321 - val_acc: 0.8990\n",
            "Epoch 5/5\n",
            "8000/8000 [==============================] - 5s 610us/step - loss: 0.0975 - acc: 0.9571 - val_loss: 0.2379 - val_acc: 0.9020\n",
            "Train on 8000 samples, validate on 1000 samples\n",
            "Epoch 1/5\n",
            "8000/8000 [==============================] - 6s 775us/step - loss: 0.6777 - acc: 0.5870 - val_loss: 0.5976 - val_acc: 0.7880\n",
            "Epoch 2/5\n",
            "8000/8000 [==============================] - 5s 609us/step - loss: 0.5096 - acc: 0.7645 - val_loss: 0.3635 - val_acc: 0.8670\n",
            "Epoch 3/5\n",
            "8000/8000 [==============================] - 5s 608us/step - loss: 0.3640 - acc: 0.8107 - val_loss: 0.2900 - val_acc: 0.8800\n",
            "Epoch 4/5\n",
            "8000/8000 [==============================] - 5s 608us/step - loss: 0.2947 - acc: 0.8397 - val_loss: 0.2616 - val_acc: 0.8910\n",
            "Epoch 5/5\n",
            "8000/8000 [==============================] - 5s 609us/step - loss: 0.2446 - acc: 0.8556 - val_loss: 0.2238 - val_acc: 0.8960\n",
            "Train on 8000 samples, validate on 1000 samples\n",
            "Epoch 1/5\n",
            "8000/8000 [==============================] - 6s 756us/step - loss: 0.7101 - acc: 0.5216 - val_loss: 0.6460 - val_acc: 0.6600\n",
            "Epoch 2/5\n",
            "8000/8000 [==============================] - 5s 604us/step - loss: 0.6551 - acc: 0.5571 - val_loss: 0.5869 - val_acc: 0.8590\n",
            "Epoch 3/5\n",
            "8000/8000 [==============================] - 5s 605us/step - loss: 0.6263 - acc: 0.5717 - val_loss: 0.5395 - val_acc: 0.8460\n",
            "Epoch 4/5\n",
            "8000/8000 [==============================] - 5s 605us/step - loss: 0.6239 - acc: 0.5779 - val_loss: 0.5083 - val_acc: 0.8860\n",
            "Epoch 5/5\n",
            "8000/8000 [==============================] - 5s 604us/step - loss: 0.6074 - acc: 0.5823 - val_loss: 0.5049 - val_acc: 0.8330\n",
            "Train on 8000 samples, validate on 1000 samples\n",
            "Epoch 1/5\n",
            "8000/8000 [==============================] - 6s 778us/step - loss: 0.6592 - acc: 0.6519 - val_loss: 0.5453 - val_acc: 0.8410\n",
            "Epoch 2/5\n",
            "8000/8000 [==============================] - 5s 609us/step - loss: 0.4290 - acc: 0.8334 - val_loss: 0.3509 - val_acc: 0.8450\n",
            "Epoch 3/5\n",
            "8000/8000 [==============================] - 5s 607us/step - loss: 0.2514 - acc: 0.8996 - val_loss: 0.2487 - val_acc: 0.8930\n",
            "Epoch 4/5\n",
            "8000/8000 [==============================] - 5s 612us/step - loss: 0.1506 - acc: 0.9394 - val_loss: 0.2263 - val_acc: 0.9030\n",
            "Epoch 5/5\n",
            "8000/8000 [==============================] - 5s 611us/step - loss: 0.0920 - acc: 0.9601 - val_loss: 0.2262 - val_acc: 0.9160\n",
            "Train on 8000 samples, validate on 1000 samples\n",
            "Epoch 1/5\n",
            "8000/8000 [==============================] - 6s 763us/step - loss: 0.6725 - acc: 0.5740 - val_loss: 0.5841 - val_acc: 0.8430\n",
            "Epoch 2/5\n",
            "8000/8000 [==============================] - 5s 608us/step - loss: 0.4937 - acc: 0.7696 - val_loss: 0.3673 - val_acc: 0.8520\n",
            "Epoch 3/5\n",
            "8000/8000 [==============================] - 5s 610us/step - loss: 0.3584 - acc: 0.8074 - val_loss: 0.2702 - val_acc: 0.8840\n",
            "Epoch 4/5\n",
            "8000/8000 [==============================] - 5s 607us/step - loss: 0.2899 - acc: 0.8419 - val_loss: 0.2517 - val_acc: 0.8870\n",
            "Epoch 5/5\n",
            "8000/8000 [==============================] - 5s 607us/step - loss: 0.2303 - acc: 0.8582 - val_loss: 0.2255 - val_acc: 0.9060\n",
            "Train on 8000 samples, validate on 1000 samples\n",
            "Epoch 1/5\n",
            "8000/8000 [==============================] - 6s 759us/step - loss: 0.7185 - acc: 0.5205 - val_loss: 0.6613 - val_acc: 0.5990\n",
            "Epoch 2/5\n",
            "8000/8000 [==============================] - 5s 603us/step - loss: 0.6555 - acc: 0.5529 - val_loss: 0.5987 - val_acc: 0.7770\n",
            "Epoch 3/5\n",
            "8000/8000 [==============================] - 5s 604us/step - loss: 0.6290 - acc: 0.5706 - val_loss: 0.5489 - val_acc: 0.8770\n",
            "Epoch 4/5\n",
            "8000/8000 [==============================] - 5s 602us/step - loss: 0.6235 - acc: 0.5739 - val_loss: 0.5220 - val_acc: 0.8670\n",
            "Epoch 5/5\n",
            "8000/8000 [==============================] - 5s 604us/step - loss: 0.6143 - acc: 0.5782 - val_loss: 0.4959 - val_acc: 0.8390\n",
            "Train on 8000 samples, validate on 1000 samples\n",
            "Epoch 1/5\n",
            "8000/8000 [==============================] - 3s 349us/step - loss: 0.6838 - acc: 0.5889 - val_loss: 0.6616 - val_acc: 0.8030\n",
            "Epoch 2/5\n",
            "8000/8000 [==============================] - 1s 184us/step - loss: 0.5933 - acc: 0.8260 - val_loss: 0.4941 - val_acc: 0.8370\n",
            "Epoch 3/5\n",
            "8000/8000 [==============================] - 1s 182us/step - loss: 0.3763 - acc: 0.8610 - val_loss: 0.3102 - val_acc: 0.8730\n",
            "Epoch 4/5\n",
            "8000/8000 [==============================] - 1s 182us/step - loss: 0.2270 - acc: 0.9156 - val_loss: 0.2399 - val_acc: 0.9080\n",
            "Epoch 5/5\n",
            "8000/8000 [==============================] - 1s 181us/step - loss: 0.1477 - acc: 0.9455 - val_loss: 0.2280 - val_acc: 0.9170\n",
            "Train on 8000 samples, validate on 1000 samples\n",
            "Epoch 1/5\n",
            "8000/8000 [==============================] - 2s 300us/step - loss: 0.6915 - acc: 0.5216 - val_loss: 0.6766 - val_acc: 0.7390\n",
            "Epoch 2/5\n",
            "8000/8000 [==============================] - 1s 182us/step - loss: 0.6446 - acc: 0.6804 - val_loss: 0.5908 - val_acc: 0.8320\n",
            "Epoch 3/5\n",
            "8000/8000 [==============================] - 1s 181us/step - loss: 0.5174 - acc: 0.7635 - val_loss: 0.4300 - val_acc: 0.8440\n",
            "Epoch 4/5\n",
            "8000/8000 [==============================] - 1s 182us/step - loss: 0.3966 - acc: 0.8060 - val_loss: 0.3363 - val_acc: 0.8670\n",
            "Epoch 5/5\n",
            "8000/8000 [==============================] - 1s 184us/step - loss: 0.3176 - acc: 0.8365 - val_loss: 0.2897 - val_acc: 0.8790\n",
            "Train on 8000 samples, validate on 1000 samples\n",
            "Epoch 1/5\n",
            "8000/8000 [==============================] - 2s 306us/step - loss: 0.6931 - acc: 0.5080 - val_loss: 0.6810 - val_acc: 0.6220\n",
            "Epoch 2/5\n",
            "8000/8000 [==============================] - 1s 183us/step - loss: 0.6736 - acc: 0.5547 - val_loss: 0.6567 - val_acc: 0.8020\n",
            "Epoch 3/5\n",
            "8000/8000 [==============================] - 1s 183us/step - loss: 0.6530 - acc: 0.5671 - val_loss: 0.6153 - val_acc: 0.8480\n",
            "Epoch 4/5\n",
            "8000/8000 [==============================] - 1s 184us/step - loss: 0.6370 - acc: 0.5671 - val_loss: 0.5813 - val_acc: 0.8380\n",
            "Epoch 5/5\n",
            "8000/8000 [==============================] - 1s 182us/step - loss: 0.6161 - acc: 0.5771 - val_loss: 0.5576 - val_acc: 0.8680\n",
            "Train on 8000 samples, validate on 1000 samples\n",
            "Epoch 1/5\n",
            "8000/8000 [==============================] - 3s 319us/step - loss: 0.6768 - acc: 0.6334 - val_loss: 0.6439 - val_acc: 0.7890\n",
            "Epoch 2/5\n",
            "8000/8000 [==============================] - 1s 185us/step - loss: 0.5620 - acc: 0.8010 - val_loss: 0.4781 - val_acc: 0.8310\n",
            "Epoch 3/5\n",
            "8000/8000 [==============================] - 1s 186us/step - loss: 0.3836 - acc: 0.8439 - val_loss: 0.3489 - val_acc: 0.8650\n",
            "Epoch 4/5\n",
            "8000/8000 [==============================] - 1s 184us/step - loss: 0.2413 - acc: 0.9119 - val_loss: 0.2647 - val_acc: 0.8900\n",
            "Epoch 5/5\n",
            "8000/8000 [==============================] - 1s 183us/step - loss: 0.1540 - acc: 0.9440 - val_loss: 0.2408 - val_acc: 0.8960\n",
            "Train on 8000 samples, validate on 1000 samples\n",
            "Epoch 1/5\n",
            "8000/8000 [==============================] - 2s 304us/step - loss: 0.6770 - acc: 0.5904 - val_loss: 0.6475 - val_acc: 0.6870\n",
            "Epoch 2/5\n",
            "8000/8000 [==============================] - 1s 182us/step - loss: 0.5820 - acc: 0.7301 - val_loss: 0.5044 - val_acc: 0.8560\n",
            "Epoch 3/5\n",
            "8000/8000 [==============================] - 1s 183us/step - loss: 0.4390 - acc: 0.7993 - val_loss: 0.3795 - val_acc: 0.8660\n",
            "Epoch 4/5\n",
            "8000/8000 [==============================] - 1s 182us/step - loss: 0.3384 - acc: 0.8321 - val_loss: 0.2846 - val_acc: 0.8970\n",
            "Epoch 5/5\n",
            "8000/8000 [==============================] - 1s 183us/step - loss: 0.2725 - acc: 0.8521 - val_loss: 0.2471 - val_acc: 0.9070\n",
            "Train on 8000 samples, validate on 1000 samples\n",
            "Epoch 1/5\n",
            "8000/8000 [==============================] - 2s 307us/step - loss: 0.6950 - acc: 0.5145 - val_loss: 0.6658 - val_acc: 0.8050\n",
            "Epoch 2/5\n",
            "8000/8000 [==============================] - 1s 183us/step - loss: 0.6599 - acc: 0.5596 - val_loss: 0.6260 - val_acc: 0.8410\n",
            "Epoch 3/5\n",
            "8000/8000 [==============================] - 1s 182us/step - loss: 0.6348 - acc: 0.5726 - val_loss: 0.5941 - val_acc: 0.8470\n",
            "Epoch 4/5\n",
            "8000/8000 [==============================] - 1s 183us/step - loss: 0.6235 - acc: 0.5776 - val_loss: 0.5706 - val_acc: 0.8540\n",
            "Epoch 5/5\n",
            "8000/8000 [==============================] - 1s 184us/step - loss: 0.6149 - acc: 0.5800 - val_loss: 0.5462 - val_acc: 0.8790\n",
            "Train on 8000 samples, validate on 1000 samples\n",
            "Epoch 1/5\n",
            "8000/8000 [==============================] - 2s 307us/step - loss: 0.6764 - acc: 0.6315 - val_loss: 0.6406 - val_acc: 0.7900\n",
            "Epoch 2/5\n",
            "8000/8000 [==============================] - 1s 184us/step - loss: 0.5470 - acc: 0.8105 - val_loss: 0.4509 - val_acc: 0.8480\n",
            "Epoch 3/5\n",
            "8000/8000 [==============================] - 1s 182us/step - loss: 0.3439 - acc: 0.8704 - val_loss: 0.3067 - val_acc: 0.8840\n",
            "Epoch 4/5\n",
            "8000/8000 [==============================] - 1s 183us/step - loss: 0.2115 - acc: 0.9233 - val_loss: 0.2585 - val_acc: 0.8920\n",
            "Epoch 5/5\n",
            "8000/8000 [==============================] - 1s 184us/step - loss: 0.1386 - acc: 0.9491 - val_loss: 0.2443 - val_acc: 0.8950\n",
            "Train on 8000 samples, validate on 1000 samples\n",
            "Epoch 1/5\n",
            "8000/8000 [==============================] - 2s 308us/step - loss: 0.6645 - acc: 0.6108 - val_loss: 0.6005 - val_acc: 0.8470\n",
            "Epoch 2/5\n",
            "8000/8000 [==============================] - 1s 183us/step - loss: 0.5228 - acc: 0.7684 - val_loss: 0.4322 - val_acc: 0.8560\n",
            "Epoch 3/5\n",
            "8000/8000 [==============================] - 1s 183us/step - loss: 0.3861 - acc: 0.8065 - val_loss: 0.3146 - val_acc: 0.8880\n",
            "Epoch 4/5\n",
            "8000/8000 [==============================] - 1s 185us/step - loss: 0.2977 - acc: 0.8470 - val_loss: 0.2767 - val_acc: 0.8890\n",
            "Epoch 5/5\n",
            "8000/8000 [==============================] - 1s 185us/step - loss: 0.2466 - acc: 0.8586 - val_loss: 0.2449 - val_acc: 0.8950\n",
            "Train on 8000 samples, validate on 1000 samples\n",
            "Epoch 1/5\n",
            "8000/8000 [==============================] - 2s 312us/step - loss: 0.7016 - acc: 0.5182 - val_loss: 0.6685 - val_acc: 0.8320\n",
            "Epoch 2/5\n",
            "8000/8000 [==============================] - 1s 187us/step - loss: 0.6636 - acc: 0.5544 - val_loss: 0.6365 - val_acc: 0.7720\n",
            "Epoch 3/5\n",
            "8000/8000 [==============================] - 1s 185us/step - loss: 0.6431 - acc: 0.5680 - val_loss: 0.5976 - val_acc: 0.8390\n",
            "Epoch 4/5\n",
            "8000/8000 [==============================] - 1s 187us/step - loss: 0.6203 - acc: 0.5820 - val_loss: 0.5707 - val_acc: 0.8520\n",
            "Epoch 5/5\n",
            "8000/8000 [==============================] - 1s 184us/step - loss: 0.6167 - acc: 0.5799 - val_loss: 0.5466 - val_acc: 0.8560\n",
            "Train on 8000 samples, validate on 1000 samples\n",
            "Epoch 1/5\n",
            "8000/8000 [==============================] - 3s 431us/step - loss: 0.6874 - acc: 0.5631 - val_loss: 0.6724 - val_acc: 0.5320\n",
            "Epoch 2/5\n",
            "8000/8000 [==============================] - 2s 256us/step - loss: 0.5867 - acc: 0.7750 - val_loss: 0.4505 - val_acc: 0.8320\n",
            "Epoch 3/5\n",
            "8000/8000 [==============================] - 2s 262us/step - loss: 0.3441 - acc: 0.8599 - val_loss: 0.2828 - val_acc: 0.8900\n",
            "Epoch 4/5\n",
            "8000/8000 [==============================] - 2s 256us/step - loss: 0.1982 - acc: 0.9239 - val_loss: 0.2415 - val_acc: 0.9000\n",
            "Epoch 5/5\n",
            "8000/8000 [==============================] - 2s 255us/step - loss: 0.1326 - acc: 0.9493 - val_loss: 0.2305 - val_acc: 0.8980\n",
            "Train on 8000 samples, validate on 1000 samples\n",
            "Epoch 1/5\n",
            "8000/8000 [==============================] - 3s 388us/step - loss: 0.6900 - acc: 0.5423 - val_loss: 0.6733 - val_acc: 0.7270\n",
            "Epoch 2/5\n",
            "8000/8000 [==============================] - 2s 255us/step - loss: 0.6330 - acc: 0.7032 - val_loss: 0.5674 - val_acc: 0.7950\n",
            "Epoch 3/5\n",
            "8000/8000 [==============================] - 2s 258us/step - loss: 0.4833 - acc: 0.7772 - val_loss: 0.3921 - val_acc: 0.8530\n",
            "Epoch 4/5\n",
            "8000/8000 [==============================] - 2s 260us/step - loss: 0.3660 - acc: 0.8177 - val_loss: 0.2965 - val_acc: 0.8840\n",
            "Epoch 5/5\n",
            "8000/8000 [==============================] - 2s 254us/step - loss: 0.2893 - acc: 0.8440 - val_loss: 0.2548 - val_acc: 0.8940\n",
            "Train on 8000 samples, validate on 1000 samples\n",
            "Epoch 1/5\n",
            "8000/8000 [==============================] - 3s 381us/step - loss: 0.6965 - acc: 0.5099 - val_loss: 0.6965 - val_acc: 0.4610\n",
            "Epoch 2/5\n",
            "8000/8000 [==============================] - 2s 254us/step - loss: 0.6936 - acc: 0.5115 - val_loss: 0.6858 - val_acc: 0.6450\n",
            "Epoch 3/5\n",
            "8000/8000 [==============================] - 2s 256us/step - loss: 0.6760 - acc: 0.5429 - val_loss: 0.6515 - val_acc: 0.7740\n",
            "Epoch 4/5\n",
            "8000/8000 [==============================] - 2s 254us/step - loss: 0.6531 - acc: 0.5589 - val_loss: 0.6101 - val_acc: 0.7890\n",
            "Epoch 5/5\n",
            "8000/8000 [==============================] - 2s 255us/step - loss: 0.6357 - acc: 0.5677 - val_loss: 0.5776 - val_acc: 0.8230\n",
            "Train on 8000 samples, validate on 1000 samples\n",
            "Epoch 1/5\n",
            "8000/8000 [==============================] - 3s 391us/step - loss: 0.6693 - acc: 0.6068 - val_loss: 0.6193 - val_acc: 0.7240\n",
            "Epoch 2/5\n",
            "8000/8000 [==============================] - 2s 253us/step - loss: 0.4875 - acc: 0.8417 - val_loss: 0.3670 - val_acc: 0.8680\n",
            "Epoch 3/5\n",
            "8000/8000 [==============================] - 2s 254us/step - loss: 0.2685 - acc: 0.8972 - val_loss: 0.2563 - val_acc: 0.8870\n",
            "Epoch 4/5\n",
            "8000/8000 [==============================] - 2s 252us/step - loss: 0.1609 - acc: 0.9368 - val_loss: 0.2288 - val_acc: 0.9090\n",
            "Epoch 5/5\n",
            "8000/8000 [==============================] - 2s 252us/step - loss: 0.1019 - acc: 0.9589 - val_loss: 0.2278 - val_acc: 0.9060\n",
            "Train on 8000 samples, validate on 1000 samples\n",
            "Epoch 1/5\n",
            "8000/8000 [==============================] - 3s 382us/step - loss: 0.6808 - acc: 0.5767 - val_loss: 0.6412 - val_acc: 0.8240\n",
            "Epoch 2/5\n",
            "8000/8000 [==============================] - 2s 253us/step - loss: 0.5612 - acc: 0.7584 - val_loss: 0.4479 - val_acc: 0.8610\n",
            "Epoch 3/5\n",
            "8000/8000 [==============================] - 2s 254us/step - loss: 0.3999 - acc: 0.8037 - val_loss: 0.3405 - val_acc: 0.8590\n",
            "Epoch 4/5\n",
            "8000/8000 [==============================] - 2s 254us/step - loss: 0.3073 - acc: 0.8356 - val_loss: 0.2601 - val_acc: 0.8980\n",
            "Epoch 5/5\n",
            "8000/8000 [==============================] - 2s 254us/step - loss: 0.2559 - acc: 0.8504 - val_loss: 0.2208 - val_acc: 0.9140\n",
            "Train on 8000 samples, validate on 1000 samples\n",
            "Epoch 1/5\n",
            "8000/8000 [==============================] - 3s 384us/step - loss: 0.6978 - acc: 0.5264 - val_loss: 0.6778 - val_acc: 0.4850\n",
            "Epoch 2/5\n",
            "8000/8000 [==============================] - 2s 254us/step - loss: 0.6714 - acc: 0.5349 - val_loss: 0.6387 - val_acc: 0.7280\n",
            "Epoch 3/5\n",
            "8000/8000 [==============================] - 2s 252us/step - loss: 0.6388 - acc: 0.5631 - val_loss: 0.5927 - val_acc: 0.8420\n",
            "Epoch 4/5\n",
            "8000/8000 [==============================] - 2s 253us/step - loss: 0.6223 - acc: 0.5779 - val_loss: 0.5562 - val_acc: 0.8560\n",
            "Epoch 5/5\n",
            "8000/8000 [==============================] - 2s 253us/step - loss: 0.6149 - acc: 0.5784 - val_loss: 0.5300 - val_acc: 0.8690\n",
            "Train on 8000 samples, validate on 1000 samples\n",
            "Epoch 1/5\n",
            "8000/8000 [==============================] - 3s 387us/step - loss: 0.6784 - acc: 0.6292 - val_loss: 0.6333 - val_acc: 0.8460\n",
            "Epoch 2/5\n",
            "8000/8000 [==============================] - 2s 257us/step - loss: 0.5394 - acc: 0.8324 - val_loss: 0.4228 - val_acc: 0.8630\n",
            "Epoch 3/5\n",
            "8000/8000 [==============================] - 2s 257us/step - loss: 0.3203 - acc: 0.8795 - val_loss: 0.2839 - val_acc: 0.8820\n",
            "Epoch 4/5\n",
            "8000/8000 [==============================] - 2s 254us/step - loss: 0.1826 - acc: 0.9266 - val_loss: 0.2242 - val_acc: 0.9070\n",
            "Epoch 5/5\n",
            "8000/8000 [==============================] - 2s 256us/step - loss: 0.1128 - acc: 0.9555 - val_loss: 0.2233 - val_acc: 0.9090\n",
            "Train on 8000 samples, validate on 1000 samples\n",
            "Epoch 1/5\n",
            "8000/8000 [==============================] - 3s 386us/step - loss: 0.6782 - acc: 0.5899 - val_loss: 0.6525 - val_acc: 0.5960\n",
            "Epoch 2/5\n",
            "8000/8000 [==============================] - 2s 255us/step - loss: 0.5620 - acc: 0.7320 - val_loss: 0.4468 - val_acc: 0.8640\n",
            "Epoch 3/5\n",
            "8000/8000 [==============================] - 2s 254us/step - loss: 0.3940 - acc: 0.8077 - val_loss: 0.3016 - val_acc: 0.8920\n",
            "Epoch 4/5\n",
            "8000/8000 [==============================] - 2s 255us/step - loss: 0.2957 - acc: 0.8426 - val_loss: 0.2438 - val_acc: 0.9100\n",
            "Epoch 5/5\n",
            "8000/8000 [==============================] - 2s 255us/step - loss: 0.2451 - acc: 0.8546 - val_loss: 0.2172 - val_acc: 0.9120\n",
            "Train on 8000 samples, validate on 1000 samples\n",
            "Epoch 1/5\n",
            "8000/8000 [==============================] - 3s 380us/step - loss: 0.7064 - acc: 0.5115 - val_loss: 0.6823 - val_acc: 0.8100\n",
            "Epoch 2/5\n",
            "8000/8000 [==============================] - 2s 253us/step - loss: 0.6813 - acc: 0.5290 - val_loss: 0.6598 - val_acc: 0.8100\n",
            "Epoch 3/5\n",
            "8000/8000 [==============================] - 2s 253us/step - loss: 0.6608 - acc: 0.5491 - val_loss: 0.6268 - val_acc: 0.8200\n",
            "Epoch 4/5\n",
            "8000/8000 [==============================] - 2s 251us/step - loss: 0.6399 - acc: 0.5650 - val_loss: 0.5986 - val_acc: 0.8080\n",
            "Epoch 5/5\n",
            "8000/8000 [==============================] - 2s 253us/step - loss: 0.6233 - acc: 0.5700 - val_loss: 0.5600 - val_acc: 0.8440\n",
            "Train on 8000 samples, validate on 1000 samples\n",
            "Epoch 1/5\n",
            "8000/8000 [==============================] - 4s 534us/step - loss: 0.6822 - acc: 0.6262 - val_loss: 0.6472 - val_acc: 0.7690\n",
            "Epoch 2/5\n",
            "8000/8000 [==============================] - 3s 333us/step - loss: 0.5167 - acc: 0.8282 - val_loss: 0.3655 - val_acc: 0.8690\n",
            "Epoch 3/5\n",
            "8000/8000 [==============================] - 3s 332us/step - loss: 0.2724 - acc: 0.8940 - val_loss: 0.2475 - val_acc: 0.8960\n",
            "Epoch 4/5\n",
            "8000/8000 [==============================] - 3s 333us/step - loss: 0.1535 - acc: 0.9384 - val_loss: 0.2318 - val_acc: 0.9050\n",
            "Epoch 5/5\n",
            "8000/8000 [==============================] - 3s 334us/step - loss: 0.1047 - acc: 0.9567 - val_loss: 0.2234 - val_acc: 0.9120\n",
            "Train on 8000 samples, validate on 1000 samples\n",
            "Epoch 1/5\n",
            "8000/8000 [==============================] - 4s 464us/step - loss: 0.6837 - acc: 0.5570 - val_loss: 0.6441 - val_acc: 0.8270\n",
            "Epoch 2/5\n",
            "8000/8000 [==============================] - 3s 332us/step - loss: 0.5462 - acc: 0.7570 - val_loss: 0.3909 - val_acc: 0.8640\n",
            "Epoch 3/5\n",
            "8000/8000 [==============================] - 3s 333us/step - loss: 0.3742 - acc: 0.8044 - val_loss: 0.2697 - val_acc: 0.8960\n",
            "Epoch 4/5\n",
            "8000/8000 [==============================] - 3s 335us/step - loss: 0.2768 - acc: 0.8478 - val_loss: 0.2338 - val_acc: 0.9120\n",
            "Epoch 5/5\n",
            "8000/8000 [==============================] - 3s 334us/step - loss: 0.2323 - acc: 0.8614 - val_loss: 0.2249 - val_acc: 0.9050\n",
            "Train on 8000 samples, validate on 1000 samples\n",
            "Epoch 1/5\n",
            "8000/8000 [==============================] - 4s 469us/step - loss: 0.7025 - acc: 0.5122 - val_loss: 0.6829 - val_acc: 0.8320\n",
            "Epoch 2/5\n",
            "8000/8000 [==============================] - 3s 332us/step - loss: 0.6783 - acc: 0.5336 - val_loss: 0.6502 - val_acc: 0.7610\n",
            "Epoch 3/5\n",
            "8000/8000 [==============================] - 3s 332us/step - loss: 0.6506 - acc: 0.5581 - val_loss: 0.5942 - val_acc: 0.8220\n",
            "Epoch 4/5\n",
            "8000/8000 [==============================] - 3s 332us/step - loss: 0.6253 - acc: 0.5795 - val_loss: 0.5537 - val_acc: 0.8600\n",
            "Epoch 5/5\n",
            "8000/8000 [==============================] - 3s 331us/step - loss: 0.6127 - acc: 0.5791 - val_loss: 0.5196 - val_acc: 0.8830\n",
            "Train on 8000 samples, validate on 1000 samples\n",
            "Epoch 1/5\n",
            "8000/8000 [==============================] - 4s 470us/step - loss: 0.6783 - acc: 0.5686 - val_loss: 0.6191 - val_acc: 0.7440\n",
            "Epoch 2/5\n",
            "8000/8000 [==============================] - 3s 332us/step - loss: 0.5127 - acc: 0.8155 - val_loss: 0.3790 - val_acc: 0.8670\n",
            "Epoch 3/5\n",
            "8000/8000 [==============================] - 3s 331us/step - loss: 0.2894 - acc: 0.8874 - val_loss: 0.2532 - val_acc: 0.8900\n",
            "Epoch 4/5\n",
            "8000/8000 [==============================] - 3s 330us/step - loss: 0.1658 - acc: 0.9325 - val_loss: 0.2201 - val_acc: 0.9060\n",
            "Epoch 5/5\n",
            "8000/8000 [==============================] - 3s 335us/step - loss: 0.1006 - acc: 0.9577 - val_loss: 0.2388 - val_acc: 0.9010\n",
            "Train on 8000 samples, validate on 1000 samples\n",
            "Epoch 1/5\n",
            "8000/8000 [==============================] - 4s 471us/step - loss: 0.6809 - acc: 0.5606 - val_loss: 0.6327 - val_acc: 0.8120\n",
            "Epoch 2/5\n",
            "8000/8000 [==============================] - 3s 332us/step - loss: 0.5483 - acc: 0.7522 - val_loss: 0.4154 - val_acc: 0.8590\n",
            "Epoch 3/5\n",
            "8000/8000 [==============================] - 3s 333us/step - loss: 0.3787 - acc: 0.8079 - val_loss: 0.2912 - val_acc: 0.8850\n",
            "Epoch 4/5\n",
            "8000/8000 [==============================] - 3s 331us/step - loss: 0.2982 - acc: 0.8389 - val_loss: 0.2412 - val_acc: 0.9050\n",
            "Epoch 5/5\n",
            "8000/8000 [==============================] - 3s 334us/step - loss: 0.2300 - acc: 0.8618 - val_loss: 0.2311 - val_acc: 0.9010\n",
            "Train on 8000 samples, validate on 1000 samples\n",
            "Epoch 1/5\n",
            "8000/8000 [==============================] - 4s 463us/step - loss: 0.7026 - acc: 0.5135 - val_loss: 0.6749 - val_acc: 0.7570\n",
            "Epoch 2/5\n",
            "8000/8000 [==============================] - 3s 329us/step - loss: 0.6720 - acc: 0.5400 - val_loss: 0.6375 - val_acc: 0.7260\n",
            "Epoch 3/5\n",
            "8000/8000 [==============================] - 3s 331us/step - loss: 0.6461 - acc: 0.5613 - val_loss: 0.6017 - val_acc: 0.8450\n",
            "Epoch 4/5\n",
            "8000/8000 [==============================] - 3s 330us/step - loss: 0.6275 - acc: 0.5739 - val_loss: 0.5631 - val_acc: 0.8620\n",
            "Epoch 5/5\n",
            "8000/8000 [==============================] - 3s 330us/step - loss: 0.6128 - acc: 0.5842 - val_loss: 0.5257 - val_acc: 0.8620\n",
            "Train on 8000 samples, validate on 1000 samples\n",
            "Epoch 1/5\n",
            "8000/8000 [==============================] - 4s 467us/step - loss: 0.6714 - acc: 0.5889 - val_loss: 0.6165 - val_acc: 0.7520\n",
            "Epoch 2/5\n",
            "8000/8000 [==============================] - 3s 332us/step - loss: 0.4775 - acc: 0.8394 - val_loss: 0.3683 - val_acc: 0.8510\n",
            "Epoch 3/5\n",
            "8000/8000 [==============================] - 3s 333us/step - loss: 0.2633 - acc: 0.8964 - val_loss: 0.2415 - val_acc: 0.8940\n",
            "Epoch 4/5\n",
            "8000/8000 [==============================] - 3s 335us/step - loss: 0.1482 - acc: 0.9417 - val_loss: 0.2262 - val_acc: 0.9080\n",
            "Epoch 5/5\n",
            "8000/8000 [==============================] - 3s 332us/step - loss: 0.0928 - acc: 0.9614 - val_loss: 0.2272 - val_acc: 0.9080\n",
            "Train on 8000 samples, validate on 1000 samples\n",
            "Epoch 1/5\n",
            "8000/8000 [==============================] - 4s 460us/step - loss: 0.6806 - acc: 0.5657 - val_loss: 0.6560 - val_acc: 0.5190\n",
            "Epoch 2/5\n",
            "8000/8000 [==============================] - 3s 332us/step - loss: 0.5612 - acc: 0.7418 - val_loss: 0.4402 - val_acc: 0.8550\n",
            "Epoch 3/5\n",
            "8000/8000 [==============================] - 3s 332us/step - loss: 0.4019 - acc: 0.7945 - val_loss: 0.2926 - val_acc: 0.8890\n",
            "Epoch 4/5\n",
            "8000/8000 [==============================] - 3s 332us/step - loss: 0.2986 - acc: 0.8396 - val_loss: 0.2431 - val_acc: 0.9030\n",
            "Epoch 5/5\n",
            "8000/8000 [==============================] - 3s 334us/step - loss: 0.2468 - acc: 0.8561 - val_loss: 0.2168 - val_acc: 0.9150\n",
            "Train on 8000 samples, validate on 1000 samples\n",
            "Epoch 1/5\n",
            "8000/8000 [==============================] - 4s 468us/step - loss: 0.7149 - acc: 0.5150 - val_loss: 0.6778 - val_acc: 0.8190\n",
            "Epoch 2/5\n",
            "8000/8000 [==============================] - 3s 331us/step - loss: 0.6741 - acc: 0.5435 - val_loss: 0.6474 - val_acc: 0.8440\n",
            "Epoch 3/5\n",
            "8000/8000 [==============================] - 3s 333us/step - loss: 0.6551 - acc: 0.5580 - val_loss: 0.6127 - val_acc: 0.7720\n",
            "Epoch 4/5\n",
            "8000/8000 [==============================] - 3s 331us/step - loss: 0.6319 - acc: 0.5726 - val_loss: 0.5636 - val_acc: 0.8490\n",
            "Epoch 5/5\n",
            "8000/8000 [==============================] - 3s 333us/step - loss: 0.6128 - acc: 0.5820 - val_loss: 0.5439 - val_acc: 0.8350\n",
            "Train on 8000 samples, validate on 1000 samples\n",
            "Epoch 1/5\n",
            "8000/8000 [==============================] - 6s 719us/step - loss: 0.6881 - acc: 0.5406 - val_loss: 0.6609 - val_acc: 0.7240\n",
            "Epoch 2/5\n",
            "8000/8000 [==============================] - 4s 518us/step - loss: 0.5313 - acc: 0.8076 - val_loss: 0.3738 - val_acc: 0.8450\n",
            "Epoch 3/5\n",
            "8000/8000 [==============================] - 4s 516us/step - loss: 0.2878 - acc: 0.8835 - val_loss: 0.2601 - val_acc: 0.8880\n",
            "Epoch 4/5\n",
            "8000/8000 [==============================] - 4s 518us/step - loss: 0.1644 - acc: 0.9347 - val_loss: 0.2196 - val_acc: 0.9090\n",
            "Epoch 5/5\n",
            "8000/8000 [==============================] - 4s 514us/step - loss: 0.1073 - acc: 0.9550 - val_loss: 0.2375 - val_acc: 0.9030\n",
            "Train on 8000 samples, validate on 1000 samples\n",
            "Epoch 1/5\n",
            "8000/8000 [==============================] - 5s 645us/step - loss: 0.6939 - acc: 0.5284 - val_loss: 0.6758 - val_acc: 0.7640\n",
            "Epoch 2/5\n",
            "8000/8000 [==============================] - 4s 507us/step - loss: 0.6041 - acc: 0.7322 - val_loss: 0.4528 - val_acc: 0.8150\n",
            "Epoch 3/5\n",
            "8000/8000 [==============================] - 4s 510us/step - loss: 0.4194 - acc: 0.7823 - val_loss: 0.2988 - val_acc: 0.8780\n",
            "Epoch 4/5\n",
            "8000/8000 [==============================] - 4s 513us/step - loss: 0.3011 - acc: 0.8345 - val_loss: 0.2441 - val_acc: 0.8940\n",
            "Epoch 5/5\n",
            "8000/8000 [==============================] - 4s 515us/step - loss: 0.2440 - acc: 0.8605 - val_loss: 0.2346 - val_acc: 0.8910\n",
            "Train on 8000 samples, validate on 1000 samples\n",
            "Epoch 1/5\n",
            "8000/8000 [==============================] - 5s 653us/step - loss: 0.7050 - acc: 0.5081 - val_loss: 0.6910 - val_acc: 0.5940\n",
            "Epoch 2/5\n",
            "8000/8000 [==============================] - 4s 510us/step - loss: 0.6884 - acc: 0.5201 - val_loss: 0.6745 - val_acc: 0.6570\n",
            "Epoch 3/5\n",
            "8000/8000 [==============================] - 4s 511us/step - loss: 0.6665 - acc: 0.5455 - val_loss: 0.6169 - val_acc: 0.8120\n",
            "Epoch 4/5\n",
            "8000/8000 [==============================] - 4s 508us/step - loss: 0.6338 - acc: 0.5671 - val_loss: 0.5568 - val_acc: 0.8550\n",
            "Epoch 5/5\n",
            "8000/8000 [==============================] - 4s 510us/step - loss: 0.6170 - acc: 0.5790 - val_loss: 0.5231 - val_acc: 0.8560\n",
            "Train on 8000 samples, validate on 1000 samples\n",
            "Epoch 1/5\n",
            "8000/8000 [==============================] - 5s 650us/step - loss: 0.6723 - acc: 0.5844 - val_loss: 0.6188 - val_acc: 0.6730\n",
            "Epoch 2/5\n",
            "8000/8000 [==============================] - 4s 512us/step - loss: 0.4671 - acc: 0.8120 - val_loss: 0.3375 - val_acc: 0.8660\n",
            "Epoch 3/5\n",
            "8000/8000 [==============================] - 4s 513us/step - loss: 0.2521 - acc: 0.8990 - val_loss: 0.2358 - val_acc: 0.8990\n",
            "Epoch 4/5\n",
            "8000/8000 [==============================] - 4s 514us/step - loss: 0.1411 - acc: 0.9424 - val_loss: 0.2156 - val_acc: 0.9150\n",
            "Epoch 5/5\n",
            "8000/8000 [==============================] - 4s 512us/step - loss: 0.0867 - acc: 0.9616 - val_loss: 0.2294 - val_acc: 0.9070\n",
            "Train on 8000 samples, validate on 1000 samples\n",
            "Epoch 1/5\n",
            "8000/8000 [==============================] - 5s 658us/step - loss: 0.6818 - acc: 0.5787 - val_loss: 0.6286 - val_acc: 0.6340\n",
            "Epoch 2/5\n",
            "8000/8000 [==============================] - 4s 512us/step - loss: 0.5311 - acc: 0.7408 - val_loss: 0.3859 - val_acc: 0.8670\n",
            "Epoch 3/5\n",
            "8000/8000 [==============================] - 4s 514us/step - loss: 0.3603 - acc: 0.8051 - val_loss: 0.2904 - val_acc: 0.8720\n",
            "Epoch 4/5\n",
            "8000/8000 [==============================] - 4s 513us/step - loss: 0.2803 - acc: 0.8469 - val_loss: 0.2343 - val_acc: 0.9020\n",
            "Epoch 5/5\n",
            "8000/8000 [==============================] - 4s 509us/step - loss: 0.2288 - acc: 0.8598 - val_loss: 0.2579 - val_acc: 0.8850\n",
            "Train on 8000 samples, validate on 1000 samples\n",
            "Epoch 1/5\n",
            "8000/8000 [==============================] - 5s 648us/step - loss: 0.7193 - acc: 0.5104 - val_loss: 0.6790 - val_acc: 0.6390\n",
            "Epoch 2/5\n",
            "8000/8000 [==============================] - 4s 507us/step - loss: 0.6753 - acc: 0.5391 - val_loss: 0.6490 - val_acc: 0.7820\n",
            "Epoch 3/5\n",
            "8000/8000 [==============================] - 4s 509us/step - loss: 0.6485 - acc: 0.5600 - val_loss: 0.5998 - val_acc: 0.7820\n",
            "Epoch 4/5\n",
            "8000/8000 [==============================] - 4s 510us/step - loss: 0.6297 - acc: 0.5699 - val_loss: 0.5445 - val_acc: 0.8660\n",
            "Epoch 5/5\n",
            "8000/8000 [==============================] - 4s 508us/step - loss: 0.6089 - acc: 0.5816 - val_loss: 0.5133 - val_acc: 0.8770\n",
            "Train on 8000 samples, validate on 1000 samples\n",
            "Epoch 1/5\n",
            "8000/8000 [==============================] - 5s 651us/step - loss: 0.6813 - acc: 0.5827 - val_loss: 0.6261 - val_acc: 0.8560\n",
            "Epoch 2/5\n",
            "8000/8000 [==============================] - 4s 512us/step - loss: 0.4880 - acc: 0.8416 - val_loss: 0.3446 - val_acc: 0.8690\n",
            "Epoch 3/5\n",
            "8000/8000 [==============================] - 4s 513us/step - loss: 0.2550 - acc: 0.8974 - val_loss: 0.2422 - val_acc: 0.8960\n",
            "Epoch 4/5\n",
            "8000/8000 [==============================] - 4s 511us/step - loss: 0.1389 - acc: 0.9439 - val_loss: 0.2152 - val_acc: 0.9150\n",
            "Epoch 5/5\n",
            "8000/8000 [==============================] - 4s 509us/step - loss: 0.0873 - acc: 0.9616 - val_loss: 0.2407 - val_acc: 0.9020\n",
            "Train on 8000 samples, validate on 1000 samples\n",
            "Epoch 1/5\n",
            "8000/8000 [==============================] - 5s 658us/step - loss: 0.6942 - acc: 0.5323 - val_loss: 0.6578 - val_acc: 0.7040\n",
            "Epoch 2/5\n",
            "8000/8000 [==============================] - 4s 509us/step - loss: 0.5793 - acc: 0.7086 - val_loss: 0.4410 - val_acc: 0.8190\n",
            "Epoch 3/5\n",
            "8000/8000 [==============================] - 4s 511us/step - loss: 0.4102 - acc: 0.7880 - val_loss: 0.2961 - val_acc: 0.8830\n",
            "Epoch 4/5\n",
            "8000/8000 [==============================] - 4s 511us/step - loss: 0.3043 - acc: 0.8339 - val_loss: 0.2498 - val_acc: 0.8940\n",
            "Epoch 5/5\n",
            "8000/8000 [==============================] - 4s 511us/step - loss: 0.2467 - acc: 0.8601 - val_loss: 0.2265 - val_acc: 0.9020\n",
            "Train on 8000 samples, validate on 1000 samples\n",
            "Epoch 1/5\n",
            "8000/8000 [==============================] - 5s 640us/step - loss: 0.7165 - acc: 0.5129 - val_loss: 0.6727 - val_acc: 0.6380\n",
            "Epoch 2/5\n",
            "8000/8000 [==============================] - 4s 508us/step - loss: 0.6637 - acc: 0.5453 - val_loss: 0.6309 - val_acc: 0.7360\n",
            "Epoch 3/5\n",
            "8000/8000 [==============================] - 4s 506us/step - loss: 0.6347 - acc: 0.5673 - val_loss: 0.5671 - val_acc: 0.8550\n",
            "Epoch 4/5\n",
            "8000/8000 [==============================] - 4s 506us/step - loss: 0.6210 - acc: 0.5754 - val_loss: 0.5376 - val_acc: 0.8650\n",
            "Epoch 5/5\n",
            "8000/8000 [==============================] - 4s 508us/step - loss: 0.6099 - acc: 0.5796 - val_loss: 0.5023 - val_acc: 0.8790\n"
          ],
          "name": "stdout"
        }
      ]
    },
    {
      "metadata": {
        "id": "ThVqC_3gAUZM",
        "colab_type": "code",
        "colab": {}
      },
      "cell_type": "code",
      "source": [
        "validation"
      ],
      "execution_count": 0,
      "outputs": []
    },
    {
      "metadata": {
        "id": "xXIYVd-t-rkQ",
        "colab_type": "code",
        "colab": {}
      },
      "cell_type": "code",
      "source": [
        "# Save validation after runtime memory\n",
        "with open(os.path.join(ROOT_PATH, \"validation_partial.pickle\"), 'wb') as f:\n",
        "    pickle.dump(validation, f)\n",
        "    f.close()"
      ],
      "execution_count": 0,
      "outputs": []
    },
    {
      "metadata": {
        "id": "CkOO0noR-1nF",
        "colab_type": "code",
        "colab": {}
      },
      "cell_type": "code",
      "source": [
        "# Load validation\n",
        "with open(os.path.join(ROOT_PATH, \"validation_partial.pickle\"), 'r') as f:\n",
        "    validation = pickle.load(f)\n",
        "    f.close()"
      ],
      "execution_count": 0,
      "outputs": []
    },
    {
      "metadata": {
        "id": "zS-P1fFiuNvO",
        "colab_type": "code",
        "outputId": "b6d8aef8-1ce6-4547-a227-aae6801ca06a",
        "colab": {
          "base_uri": "https://localhost:8080/",
          "height": 36
        }
      },
      "cell_type": "code",
      "source": [
        "all_params[len(validation)] # Which one failed?"
      ],
      "execution_count": 29,
      "outputs": [
        {
          "output_type": "execute_result",
          "data": {
            "text/plain": [
              "180"
            ]
          },
          "metadata": {
            "tags": []
          },
          "execution_count": 29
        }
      ]
    },
    {
      "metadata": {
        "id": "dj_jHu2A60Xb",
        "colab_type": "code",
        "colab": {}
      },
      "cell_type": "code",
      "source": [
        "for params in all_params[len(validation):]:\n",
        "    model = getCNNRand(enc.vocab_len, enc.max_len, classnum=2, optim=\"adam\", **params)\n",
        "    history = model.fit(subj_x_train,subj_y_train,batch_size=256,epochs=5,validation_data=(subj_x_val,subj_y_val),verbose=1)\n",
        "    validation[tuple((k,v) for k,v in params.items())] = history.history['acc']\n",
        "    K.clear_session()\n",
        "    gc.collect()"
      ],
      "execution_count": 0,
      "outputs": []
    },
    {
      "metadata": {
        "id": "CCnsZLxF41No",
        "colab_type": "code",
        "colab": {}
      },
      "cell_type": "code",
      "source": [
        "best_params = max(validation.keys(), key=lambda x: validation.get(x)[-1])"
      ],
      "execution_count": 0,
      "outputs": []
    },
    {
      "metadata": {
        "id": "MJsh3rjD0H_t",
        "colab_type": "code",
        "colab": {
          "base_uri": "https://localhost:8080/",
          "height": 36
        },
        "outputId": "a147cb85-11ab-4551-a04d-5c7edd69e04f"
      },
      "cell_type": "code",
      "source": [
        "best_params"
      ],
      "execution_count": 31,
      "outputs": [
        {
          "output_type": "execute_result",
          "data": {
            "text/plain": [
              "(('filters', (3, 6, 10)), ('map_size', 200), ('constr', 3), ('dropprob', 0.25))"
            ]
          },
          "metadata": {
            "tags": []
          },
          "execution_count": 31
        }
      ]
    },
    {
      "metadata": {
        "id": "f4EtXpdBeK77",
        "colab_type": "code",
        "colab": {}
      },
      "cell_type": "code",
      "source": [
        "with open(os.path.join(ROOT_PATH, \"best_params_tuple.pickle\"), 'wb') as f:\n",
        "    pickle.dump(best_params, f)\n",
        "    f.close()"
      ],
      "execution_count": 0,
      "outputs": []
    },
    {
      "metadata": {
        "id": "dIHdbKXRVoCA",
        "colab_type": "text"
      },
      "cell_type": "markdown",
      "source": [
        "## Load Subj-Austen data"
      ]
    },
    {
      "metadata": {
        "id": "PBqY3nqPV05k",
        "colab_type": "code",
        "colab": {}
      },
      "cell_type": "code",
      "source": [
        "labeled_austen = pd.read_csv(os.path.join(ROOT_PATH,\"theogfanficwriter.txt\"), sep='\\t', header=None)"
      ],
      "execution_count": 0,
      "outputs": []
    },
    {
      "metadata": {
        "id": "mYjY6uLNWp2z",
        "colab_type": "code",
        "colab": {}
      },
      "cell_type": "code",
      "source": [
        "labeled_austen = labeled_austen[pd.notna(labeled_austen[1])]"
      ],
      "execution_count": 0,
      "outputs": []
    },
    {
      "metadata": {
        "colab_type": "code",
        "id": "we1paPKDp5gG",
        "colab": {}
      },
      "cell_type": "code",
      "source": [
        "labeled_austen[0] = labeled_austen[0].apply(nltk.tokenize.word_tokenize)"
      ],
      "execution_count": 0,
      "outputs": []
    },
    {
      "metadata": {
        "id": "xNhh9eaMeF8B",
        "colab_type": "code",
        "colab": {
          "base_uri": "https://localhost:8080/",
          "height": 75
        },
        "outputId": "5a69abf9-9109-4c65-b0b1-8634a17f0d31"
      },
      "cell_type": "code",
      "source": [
        "austen_data = prepare_data(labeled_austen)"
      ],
      "execution_count": 146,
      "outputs": [
        {
          "output_type": "stream",
          "text": [
            "/usr/local/lib/python3.6/dist-packages/sklearn/model_selection/_split.py:2026: FutureWarning: From version 0.21, test_size will always complement train_size unless both are specified.\n",
            "  FutureWarning)\n"
          ],
          "name": "stderr"
        }
      ]
    },
    {
      "metadata": {
        "colab_type": "code",
        "outputId": "c316de11-f17b-4d82-ac54-5835a52000d9",
        "id": "9eDV4iuRibti",
        "colab": {
          "base_uri": "https://localhost:8080/",
          "height": 75
        }
      },
      "cell_type": "code",
      "source": [
        "labelenc = OneHotEncoder()\n",
        "labelenc.fit(austen_data['all']['y'].append(data_subj['all']['y']).values.reshape(-1,1))\n",
        "austen_y = labelenc.transform(austen_data['all']['y'].values.reshape(-1,1))\n",
        "subj_y = labelenc.transform(data_subj['all']['y'].values.reshape(-1,1))\n",
        "\n",
        "enc = Encoder()\n",
        "enc.fit_vocab(austen_data['all']['x'].append(data_subj['all']['x']))\n",
        "\n",
        "austen_x = enc.transform(austen_data['all']['x'])\n",
        "subj_x = enc.transform(data_subj['all']['x'])"
      ],
      "execution_count": 255,
      "outputs": [
        {
          "output_type": "stream",
          "text": [
            "/usr/local/lib/python3.6/dist-packages/sklearn/preprocessing/label.py:128: DataConversionWarning: A column-vector y was passed when a 1d array was expected. Please change the shape of y to (n_samples, ), for example using ravel().\n",
            "  y = column_or_1d(y, warn=True)\n"
          ],
          "name": "stderr"
        }
      ]
    },
    {
      "metadata": {
        "id": "Xvx7yiQmLp36",
        "colab_type": "text"
      },
      "cell_type": "markdown",
      "source": [
        "# Experiments using best hyperparams"
      ]
    },
    {
      "metadata": {
        "colab_type": "code",
        "id": "b-II8a7CL2pC",
        "colab": {}
      },
      "cell_type": "code",
      "source": [
        "# Load best hyperparams\n",
        "with open(os.path.join(ROOT_PATH, \"best_params_tuple.pickle\"), 'r') as f:\n",
        "    best_params = pickle.load(f)\n",
        "    f.close()"
      ],
      "execution_count": 0,
      "outputs": []
    },
    {
      "metadata": {
        "id": "ngbPkErEMHeq",
        "colab_type": "text"
      },
      "cell_type": "markdown",
      "source": [
        "## Subj-Subj"
      ]
    },
    {
      "metadata": {
        "id": "Icjmi_YVMKEH",
        "colab_type": "text"
      },
      "cell_type": "markdown",
      "source": [
        "### No GloVe"
      ]
    },
    {
      "metadata": {
        "id": "1vxUbl1ebdl4",
        "colab_type": "code",
        "colab": {}
      },
      "cell_type": "code",
      "source": [
        "model_subjsubj = getCNNRand(enc.vocab_len, enc.max_len, classnum=2, **dict((k,v) for k,v in best_params))"
      ],
      "execution_count": 0,
      "outputs": []
    },
    {
      "metadata": {
        "id": "8pPoQa5qcf-4",
        "colab_type": "code",
        "colab": {
          "base_uri": "https://localhost:8080/",
          "height": 621
        },
        "outputId": "4fd95762-e37b-4472-fa0b-7bdc808247ce"
      },
      "cell_type": "code",
      "source": [
        "model_subjsubj.fit(subj_x_train,subj_y_train,batch_size=50,epochs=15,\n",
        "                   validation_data=(subj_x_val,subj_y_val),verbose=1)"
      ],
      "execution_count": 85,
      "outputs": [
        {
          "output_type": "stream",
          "text": [
            "Train on 8000 samples, validate on 1000 samples\n",
            "Epoch 1/15\n",
            "8000/8000 [==============================] - 7s 878us/step - loss: 0.0521 - acc: 0.9703 - val_loss: 0.3743 - val_acc: 0.9010\n",
            "Epoch 2/15\n",
            "8000/8000 [==============================] - 7s 864us/step - loss: 0.0492 - acc: 0.9704 - val_loss: 0.3964 - val_acc: 0.9010\n",
            "Epoch 3/15\n",
            "8000/8000 [==============================] - 7s 870us/step - loss: 0.0486 - acc: 0.9713 - val_loss: 0.4158 - val_acc: 0.8940\n",
            "Epoch 4/15\n",
            "8000/8000 [==============================] - 7s 868us/step - loss: 0.0478 - acc: 0.9673 - val_loss: 0.3984 - val_acc: 0.9030\n",
            "Epoch 5/15\n",
            "8000/8000 [==============================] - 7s 862us/step - loss: 0.0464 - acc: 0.9695 - val_loss: 0.4148 - val_acc: 0.8990\n",
            "Epoch 6/15\n",
            "8000/8000 [==============================] - 7s 868us/step - loss: 0.0448 - acc: 0.9715 - val_loss: 0.4286 - val_acc: 0.8980\n",
            "Epoch 7/15\n",
            "8000/8000 [==============================] - 7s 865us/step - loss: 0.0450 - acc: 0.9704 - val_loss: 0.4256 - val_acc: 0.8990\n",
            "Epoch 8/15\n",
            "8000/8000 [==============================] - 7s 870us/step - loss: 0.0454 - acc: 0.9693 - val_loss: 0.4372 - val_acc: 0.9010\n",
            "Epoch 9/15\n",
            "8000/8000 [==============================] - 7s 866us/step - loss: 0.0479 - acc: 0.9698 - val_loss: 0.4414 - val_acc: 0.9020\n",
            "Epoch 10/15\n",
            "8000/8000 [==============================] - 7s 865us/step - loss: 0.0422 - acc: 0.9721 - val_loss: 0.4589 - val_acc: 0.8970\n",
            "Epoch 11/15\n",
            "8000/8000 [==============================] - 7s 872us/step - loss: 0.0459 - acc: 0.9660 - val_loss: 0.4570 - val_acc: 0.9020\n",
            "Epoch 12/15\n",
            "8000/8000 [==============================] - 7s 877us/step - loss: 0.0452 - acc: 0.9704 - val_loss: 0.4586 - val_acc: 0.9020\n",
            "Epoch 13/15\n",
            "8000/8000 [==============================] - 7s 874us/step - loss: 0.0442 - acc: 0.9685 - val_loss: 0.4655 - val_acc: 0.8980\n",
            "Epoch 14/15\n",
            "8000/8000 [==============================] - 7s 869us/step - loss: 0.0449 - acc: 0.9693 - val_loss: 0.4670 - val_acc: 0.9020\n",
            "Epoch 15/15\n",
            "8000/8000 [==============================] - 7s 868us/step - loss: 0.0447 - acc: 0.9688 - val_loss: 0.4728 - val_acc: 0.9020\n"
          ],
          "name": "stdout"
        },
        {
          "output_type": "execute_result",
          "data": {
            "text/plain": [
              "<keras.callbacks.History at 0x7efdc37ab278>"
            ]
          },
          "metadata": {
            "tags": []
          },
          "execution_count": 85
        }
      ]
    },
    {
      "metadata": {
        "id": "cIeIGYx1dlYe",
        "colab_type": "code",
        "colab": {
          "base_uri": "https://localhost:8080/",
          "height": 55
        },
        "outputId": "2a33114f-9cc4-43ae-a18f-391030c4db98"
      },
      "cell_type": "code",
      "source": [
        "model_subjsubj.evaluate(subj_x_test, subj_y_test)"
      ],
      "execution_count": 86,
      "outputs": [
        {
          "output_type": "stream",
          "text": [
            "1000/1000 [==============================] - 0s 247us/step\n"
          ],
          "name": "stdout"
        },
        {
          "output_type": "execute_result",
          "data": {
            "text/plain": [
              "[0.3267310016490519, 0.918]"
            ]
          },
          "metadata": {
            "tags": []
          },
          "execution_count": 86
        }
      ]
    },
    {
      "metadata": {
        "id": "9DSOVrg_MpPP",
        "colab_type": "text"
      },
      "cell_type": "markdown",
      "source": [
        "### With GloVe"
      ]
    },
    {
      "metadata": {
        "colab_type": "code",
        "id": "e4ReqUO7Msj1",
        "colab": {}
      },
      "cell_type": "code",
      "source": [
        "model_subjsubj = getCNNRand(enc.vocab_len, enc.max_len, classnum=2, embedding_matrix=glove, **dict((k,v) for k,v in best_params))"
      ],
      "execution_count": 0,
      "outputs": []
    },
    {
      "metadata": {
        "colab_type": "code",
        "outputId": "71c5a83f-17dc-4c70-e932-9d3284857b41",
        "id": "WpgQ2eNtMskG",
        "colab": {
          "base_uri": "https://localhost:8080/",
          "height": 432
        }
      },
      "cell_type": "code",
      "source": [
        "model_subjsubj.fit(subj_x_train,subj_y_train,batch_size=50,epochs=10,\n",
        "                   validation_data=(subj_x_val,subj_y_val),verbose=1)"
      ],
      "execution_count": 67,
      "outputs": [
        {
          "output_type": "stream",
          "text": [
            "Train on 8000 samples, validate on 1000 samples\n",
            "Epoch 1/10\n",
            "8000/8000 [==============================] - 9s 1ms/step - loss: 0.4207 - acc: 0.8286 - val_loss: 0.1832 - val_acc: 0.9320\n",
            "Epoch 2/10\n",
            "8000/8000 [==============================] - 7s 870us/step - loss: 0.2215 - acc: 0.9075 - val_loss: 0.1937 - val_acc: 0.9130\n",
            "Epoch 3/10\n",
            "8000/8000 [==============================] - 7s 876us/step - loss: 0.1232 - acc: 0.9431 - val_loss: 0.1688 - val_acc: 0.9400\n",
            "Epoch 4/10\n",
            "8000/8000 [==============================] - 7s 867us/step - loss: 0.0797 - acc: 0.9606 - val_loss: 0.1953 - val_acc: 0.9310\n",
            "Epoch 5/10\n",
            "8000/8000 [==============================] - 7s 869us/step - loss: 0.0682 - acc: 0.9590 - val_loss: 0.1887 - val_acc: 0.9370\n",
            "Epoch 6/10\n",
            "8000/8000 [==============================] - 7s 869us/step - loss: 0.0526 - acc: 0.9680 - val_loss: 0.2118 - val_acc: 0.9340\n",
            "Epoch 7/10\n",
            "8000/8000 [==============================] - 7s 872us/step - loss: 0.0467 - acc: 0.9697 - val_loss: 0.2323 - val_acc: 0.9370\n",
            "Epoch 8/10\n",
            "8000/8000 [==============================] - 7s 861us/step - loss: 0.0465 - acc: 0.9694 - val_loss: 0.2553 - val_acc: 0.9380\n",
            "Epoch 9/10\n",
            "8000/8000 [==============================] - 7s 868us/step - loss: 0.0461 - acc: 0.9691 - val_loss: 0.2684 - val_acc: 0.9380\n",
            "Epoch 10/10\n",
            "8000/8000 [==============================] - 7s 866us/step - loss: 0.0410 - acc: 0.9686 - val_loss: 0.2821 - val_acc: 0.9380\n"
          ],
          "name": "stdout"
        },
        {
          "output_type": "execute_result",
          "data": {
            "text/plain": [
              "<keras.callbacks.History at 0x7efdc33fbfd0>"
            ]
          },
          "metadata": {
            "tags": []
          },
          "execution_count": 67
        }
      ]
    },
    {
      "metadata": {
        "colab_type": "code",
        "outputId": "7748ffed-166a-4808-9ad7-627a30a7de0f",
        "id": "i7TX7xvcRFpi",
        "colab": {
          "base_uri": "https://localhost:8080/",
          "height": 55
        }
      },
      "cell_type": "code",
      "source": [
        "model_subjsubj.evaluate(subj_x_test, subj_y_test)"
      ],
      "execution_count": 68,
      "outputs": [
        {
          "output_type": "stream",
          "text": [
            "1000/1000 [==============================] - 0s 251us/step\n"
          ],
          "name": "stdout"
        },
        {
          "output_type": "execute_result",
          "data": {
            "text/plain": [
              "[0.22989227090775965, 0.931]"
            ]
          },
          "metadata": {
            "tags": []
          },
          "execution_count": 68
        }
      ]
    },
    {
      "metadata": {
        "colab_type": "code",
        "outputId": "669d9af6-31a8-444e-9c0e-126b03146219",
        "id": "1B-49EAgQQ-n",
        "colab": {
          "base_uri": "https://localhost:8080/",
          "height": 432
        }
      },
      "cell_type": "code",
      "source": [
        "model_subjsubj.fit(subj_x_train,subj_y_train,batch_size=50,epochs=10,\n",
        "                   validation_data=(subj_x_val,subj_y_val),verbose=1)"
      ],
      "execution_count": 69,
      "outputs": [
        {
          "output_type": "stream",
          "text": [
            "Train on 8000 samples, validate on 1000 samples\n",
            "Epoch 1/10\n",
            "8000/8000 [==============================] - 7s 865us/step - loss: 0.0450 - acc: 0.9686 - val_loss: 0.2909 - val_acc: 0.9370\n",
            "Epoch 2/10\n",
            "8000/8000 [==============================] - 7s 869us/step - loss: 0.0443 - acc: 0.9692 - val_loss: 0.2984 - val_acc: 0.9380\n",
            "Epoch 3/10\n",
            "8000/8000 [==============================] - 7s 880us/step - loss: 0.0446 - acc: 0.9666 - val_loss: 0.3040 - val_acc: 0.9370\n",
            "Epoch 4/10\n",
            "8000/8000 [==============================] - 7s 876us/step - loss: 0.0450 - acc: 0.9695 - val_loss: 0.3115 - val_acc: 0.9390\n",
            "Epoch 5/10\n",
            "8000/8000 [==============================] - 7s 874us/step - loss: 0.0442 - acc: 0.9678 - val_loss: 0.3155 - val_acc: 0.9370\n",
            "Epoch 6/10\n",
            "8000/8000 [==============================] - 7s 869us/step - loss: 0.0399 - acc: 0.9725 - val_loss: 0.3198 - val_acc: 0.9390\n",
            "Epoch 7/10\n",
            "8000/8000 [==============================] - 7s 865us/step - loss: 0.0420 - acc: 0.9690 - val_loss: 0.3235 - val_acc: 0.9370\n",
            "Epoch 8/10\n",
            "8000/8000 [==============================] - 7s 864us/step - loss: 0.0409 - acc: 0.9695 - val_loss: 0.3282 - val_acc: 0.9390\n",
            "Epoch 9/10\n",
            "8000/8000 [==============================] - 7s 864us/step - loss: 0.0451 - acc: 0.9652 - val_loss: 0.3315 - val_acc: 0.9380\n",
            "Epoch 10/10\n",
            "8000/8000 [==============================] - 7s 868us/step - loss: 0.0447 - acc: 0.9669 - val_loss: 0.3358 - val_acc: 0.9380\n"
          ],
          "name": "stdout"
        },
        {
          "output_type": "execute_result",
          "data": {
            "text/plain": [
              "<keras.callbacks.History at 0x7efdc317dba8>"
            ]
          },
          "metadata": {
            "tags": []
          },
          "execution_count": 69
        }
      ]
    },
    {
      "metadata": {
        "colab_type": "code",
        "id": "KUREB6FXMskU",
        "colab": {
          "base_uri": "https://localhost:8080/",
          "height": 55
        },
        "outputId": "1189efc8-ec06-4f23-adfa-c0d554a3af04"
      },
      "cell_type": "code",
      "source": [
        "model_subjsubj.evaluate(subj_x_test, subj_y_test)"
      ],
      "execution_count": 70,
      "outputs": [
        {
          "output_type": "stream",
          "text": [
            "1000/1000 [==============================] - 0s 249us/step\n"
          ],
          "name": "stdout"
        },
        {
          "output_type": "execute_result",
          "data": {
            "text/plain": [
              "[0.2768380113132298, 0.927]"
            ]
          },
          "metadata": {
            "tags": []
          },
          "execution_count": 70
        }
      ]
    },
    {
      "metadata": {
        "id": "j4ESBlTQSlHI",
        "colab_type": "text"
      },
      "cell_type": "markdown",
      "source": [
        "## Subj-Austen"
      ]
    },
    {
      "metadata": {
        "colab_type": "text",
        "id": "VoHllF8W5-3a"
      },
      "cell_type": "markdown",
      "source": [
        "### No GloVe"
      ]
    },
    {
      "metadata": {
        "colab_type": "code",
        "id": "cDU5rRMF5-3e",
        "colab": {}
      },
      "cell_type": "code",
      "source": [
        "model_subjaust = getCNNRand(enc.vocab_len, enc.max_len, classnum=2, **dict((k,v) for k,v in best_params))"
      ],
      "execution_count": 0,
      "outputs": []
    },
    {
      "metadata": {
        "colab_type": "code",
        "outputId": "7299dabb-dd7a-41fa-f38d-88f8a25567e8",
        "id": "RprHPwE_5-3l",
        "colab": {
          "base_uri": "https://localhost:8080/",
          "height": 1923
        }
      },
      "cell_type": "code",
      "source": [
        "history = model_subjaust.fit(subj_x,subj_y,batch_size=50,epochs=50,validation_data=(austen_x, austen_y),verbose=1)"
      ],
      "execution_count": 227,
      "outputs": [
        {
          "output_type": "stream",
          "text": [
            "Train on 10000 samples, validate on 699 samples\n",
            "Epoch 1/50\n",
            "10000/10000 [==============================] - 12s 1ms/step - loss: 0.5898 - acc: 0.6772 - val_loss: 0.8903 - val_acc: 0.5007\n",
            "Epoch 2/50\n",
            "10000/10000 [==============================] - 9s 877us/step - loss: 0.4316 - acc: 0.8020 - val_loss: 0.9287 - val_acc: 0.5465\n",
            "Epoch 3/50\n",
            "10000/10000 [==============================] - 9s 872us/step - loss: 0.3549 - acc: 0.8428 - val_loss: 1.1550 - val_acc: 0.5336\n",
            "Epoch 4/50\n",
            "10000/10000 [==============================] - 9s 878us/step - loss: 0.2934 - acc: 0.8733 - val_loss: 1.0153 - val_acc: 0.5837\n",
            "Epoch 5/50\n",
            "10000/10000 [==============================] - 9s 887us/step - loss: 0.2426 - acc: 0.8994 - val_loss: 1.0073 - val_acc: 0.5980\n",
            "Epoch 6/50\n",
            "10000/10000 [==============================] - 9s 884us/step - loss: 0.1989 - acc: 0.9142 - val_loss: 1.4627 - val_acc: 0.5665\n",
            "Epoch 7/50\n",
            "10000/10000 [==============================] - 9s 878us/step - loss: 0.1658 - acc: 0.9289 - val_loss: 1.3756 - val_acc: 0.5794\n",
            "Epoch 8/50\n",
            "10000/10000 [==============================] - 9s 884us/step - loss: 0.1348 - acc: 0.9380 - val_loss: 1.3824 - val_acc: 0.5980\n",
            "Epoch 9/50\n",
            "10000/10000 [==============================] - 9s 886us/step - loss: 0.1115 - acc: 0.9478 - val_loss: 1.8897 - val_acc: 0.5651\n",
            "Epoch 10/50\n",
            "10000/10000 [==============================] - 9s 880us/step - loss: 0.0877 - acc: 0.9575 - val_loss: 1.8122 - val_acc: 0.5737\n",
            "Epoch 11/50\n",
            "10000/10000 [==============================] - 9s 871us/step - loss: 0.0781 - acc: 0.9611 - val_loss: 1.9262 - val_acc: 0.5880\n",
            "Epoch 12/50\n",
            "10000/10000 [==============================] - 9s 864us/step - loss: 0.0659 - acc: 0.9621 - val_loss: 2.0340 - val_acc: 0.5880\n",
            "Epoch 13/50\n",
            "10000/10000 [==============================] - 9s 867us/step - loss: 0.0563 - acc: 0.9683 - val_loss: 2.0733 - val_acc: 0.5894\n",
            "Epoch 14/50\n",
            "10000/10000 [==============================] - 9s 871us/step - loss: 0.0538 - acc: 0.9671 - val_loss: 2.0231 - val_acc: 0.5923\n",
            "Epoch 15/50\n",
            "10000/10000 [==============================] - 9s 874us/step - loss: 0.0509 - acc: 0.9691 - val_loss: 2.0560 - val_acc: 0.6080\n",
            "Epoch 16/50\n",
            "10000/10000 [==============================] - 9s 871us/step - loss: 0.0489 - acc: 0.9679 - val_loss: 2.2751 - val_acc: 0.5866\n",
            "Epoch 17/50\n",
            "10000/10000 [==============================] - 9s 873us/step - loss: 0.0456 - acc: 0.9703 - val_loss: 2.5001 - val_acc: 0.5851\n",
            "Epoch 18/50\n",
            "10000/10000 [==============================] - 9s 871us/step - loss: 0.0445 - acc: 0.9713 - val_loss: 2.4824 - val_acc: 0.5880\n",
            "Epoch 19/50\n",
            "10000/10000 [==============================] - 9s 892us/step - loss: 0.0440 - acc: 0.9706 - val_loss: 2.5626 - val_acc: 0.5894\n",
            "Epoch 20/50\n",
            "10000/10000 [==============================] - 9s 887us/step - loss: 0.0457 - acc: 0.9695 - val_loss: 2.6586 - val_acc: 0.5837\n",
            "Epoch 21/50\n",
            "10000/10000 [==============================] - 9s 878us/step - loss: 0.0476 - acc: 0.9681 - val_loss: 2.7238 - val_acc: 0.5794\n",
            "Epoch 22/50\n",
            "10000/10000 [==============================] - 9s 875us/step - loss: 0.0432 - acc: 0.9717 - val_loss: 2.7787 - val_acc: 0.5808\n",
            "Epoch 23/50\n",
            "10000/10000 [==============================] - 9s 874us/step - loss: 0.0439 - acc: 0.9714 - val_loss: 2.9427 - val_acc: 0.5808\n",
            "Epoch 24/50\n",
            "10000/10000 [==============================] - 9s 878us/step - loss: 0.0486 - acc: 0.9669 - val_loss: 2.7875 - val_acc: 0.5808\n",
            "Epoch 25/50\n",
            "10000/10000 [==============================] - 9s 874us/step - loss: 0.0426 - acc: 0.9698 - val_loss: 2.9238 - val_acc: 0.5866\n",
            "Epoch 26/50\n",
            "10000/10000 [==============================] - 9s 872us/step - loss: 0.0436 - acc: 0.9699 - val_loss: 2.9433 - val_acc: 0.5837\n",
            "Epoch 27/50\n",
            "10000/10000 [==============================] - 9s 867us/step - loss: 0.0447 - acc: 0.9688 - val_loss: 3.0050 - val_acc: 0.5851\n",
            "Epoch 28/50\n",
            "10000/10000 [==============================] - 9s 876us/step - loss: 0.0413 - acc: 0.9723 - val_loss: 2.9961 - val_acc: 0.5837\n",
            "Epoch 29/50\n",
            "10000/10000 [==============================] - 9s 869us/step - loss: 0.0423 - acc: 0.9725 - val_loss: 2.9541 - val_acc: 0.5894\n",
            "Epoch 30/50\n",
            "10000/10000 [==============================] - 9s 882us/step - loss: 0.0463 - acc: 0.9650 - val_loss: 3.0995 - val_acc: 0.5837\n",
            "Epoch 31/50\n",
            "10000/10000 [==============================] - 9s 880us/step - loss: 0.0429 - acc: 0.9701 - val_loss: 3.1369 - val_acc: 0.5823\n",
            "Epoch 32/50\n",
            "10000/10000 [==============================] - 9s 873us/step - loss: 0.0447 - acc: 0.9694 - val_loss: 3.0840 - val_acc: 0.5837\n",
            "Epoch 33/50\n",
            "10000/10000 [==============================] - 9s 879us/step - loss: 0.0434 - acc: 0.9705 - val_loss: 3.1270 - val_acc: 0.5866\n",
            "Epoch 34/50\n",
            "10000/10000 [==============================] - 9s 873us/step - loss: 0.0434 - acc: 0.9690 - val_loss: 3.2029 - val_acc: 0.5794\n",
            "Epoch 35/50\n",
            "10000/10000 [==============================] - 9s 879us/step - loss: 0.0450 - acc: 0.9660 - val_loss: 3.1908 - val_acc: 0.5837\n",
            "Epoch 36/50\n",
            "10000/10000 [==============================] - 9s 879us/step - loss: 0.0416 - acc: 0.9677 - val_loss: 3.2186 - val_acc: 0.5823\n",
            "Epoch 37/50\n",
            "10000/10000 [==============================] - 9s 877us/step - loss: 0.0417 - acc: 0.9703 - val_loss: 3.1686 - val_acc: 0.5837\n",
            "Epoch 38/50\n",
            "10000/10000 [==============================] - 9s 882us/step - loss: 0.0435 - acc: 0.9681 - val_loss: 3.2124 - val_acc: 0.5866\n",
            "Epoch 39/50\n",
            "10000/10000 [==============================] - 9s 882us/step - loss: 0.0417 - acc: 0.9704 - val_loss: 3.1738 - val_acc: 0.5894\n",
            "Epoch 40/50\n",
            "10000/10000 [==============================] - 9s 873us/step - loss: 0.0436 - acc: 0.9679 - val_loss: 3.2348 - val_acc: 0.5851\n",
            "Epoch 41/50\n",
            "10000/10000 [==============================] - 9s 876us/step - loss: 0.0430 - acc: 0.9695 - val_loss: 3.2599 - val_acc: 0.5808\n",
            "Epoch 42/50\n",
            "10000/10000 [==============================] - 9s 869us/step - loss: 0.0414 - acc: 0.9709 - val_loss: 3.3313 - val_acc: 0.5823\n",
            "Epoch 43/50\n",
            "10000/10000 [==============================] - 9s 874us/step - loss: 0.0426 - acc: 0.9687 - val_loss: 3.2626 - val_acc: 0.5851\n",
            "Epoch 44/50\n",
            "10000/10000 [==============================] - 9s 872us/step - loss: 0.0442 - acc: 0.9678 - val_loss: 3.3424 - val_acc: 0.5808\n",
            "Epoch 45/50\n",
            "10000/10000 [==============================] - 9s 884us/step - loss: 0.0434 - acc: 0.9695 - val_loss: 3.3095 - val_acc: 0.5823\n",
            "Epoch 46/50\n",
            "10000/10000 [==============================] - 9s 887us/step - loss: 0.0420 - acc: 0.9715 - val_loss: 3.3577 - val_acc: 0.5823\n",
            "Epoch 47/50\n",
            "10000/10000 [==============================] - 9s 885us/step - loss: 0.0411 - acc: 0.9731 - val_loss: 3.3646 - val_acc: 0.5837\n",
            "Epoch 48/50\n",
            "10000/10000 [==============================] - 9s 884us/step - loss: 0.0452 - acc: 0.9672 - val_loss: 3.3347 - val_acc: 0.5894\n",
            "Epoch 49/50\n",
            "10000/10000 [==============================] - 9s 878us/step - loss: 0.0448 - acc: 0.9672 - val_loss: 3.3781 - val_acc: 0.5823\n",
            "Epoch 50/50\n",
            "10000/10000 [==============================] - 9s 891us/step - loss: 0.0439 - acc: 0.9690 - val_loss: 3.3697 - val_acc: 0.5837\n"
          ],
          "name": "stdout"
        }
      ]
    },
    {
      "metadata": {
        "colab_type": "code",
        "outputId": "80035c40-679c-4204-e61f-c8e3c230e788",
        "id": "dIePbZTY5-3x",
        "colab": {
          "base_uri": "https://localhost:8080/",
          "height": 55
        }
      },
      "cell_type": "code",
      "source": [
        "model_subjaust.evaluate(austen_x, austen_y)"
      ],
      "execution_count": 228,
      "outputs": [
        {
          "output_type": "stream",
          "text": [
            "699/699 [==============================] - 0s 265us/step\n"
          ],
          "name": "stdout"
        },
        {
          "output_type": "execute_result",
          "data": {
            "text/plain": [
              "[3.3696964609094273, 0.58369098755082]"
            ]
          },
          "metadata": {
            "tags": []
          },
          "execution_count": 228
        }
      ]
    },
    {
      "metadata": {
        "id": "5TKbUaY3Ede-",
        "colab_type": "code",
        "colab": {
          "base_uri": "https://localhost:8080/",
          "height": 401
        },
        "outputId": "e1121576-bf9a-4665-d832-67f1007c135f"
      },
      "cell_type": "code",
      "source": [
        "fig, ax1 = plt.subplots()\n",
        "\n",
        "ax1.set_xlabel('Epochs')\n",
        "ax1.set_ylabel('Accuracy')\n",
        "ax1.plot(history.history['acc'], color='orange', label=\"Train acc.\")\n",
        "ax1.plot(history.history['val_acc'], color='red', label=\"Valid. acc\")\n",
        "ax1.legend()\n",
        "\n",
        "ax2 = ax1.twinx()\n",
        "ax2.set_ylabel('Loss')\n",
        "ax2.plot(history.history['loss'], color='gray', label=\"Train loss\")\n",
        "ax2.plot(history.history['val_loss'], color='black', label=\"Valid. loss\")\n",
        "ax2.legend()\n",
        "\n",
        "fig.tight_layout()\n",
        "plt.show()"
      ],
      "execution_count": 229,
      "outputs": [
        {
          "output_type": "display_data",
          "data": {
            "image/png": "[encoded data removed]",
            "text/plain": [
              "<matplotlib.figure.Figure at 0x7efda4779a20>"
            ]
          },
          "metadata": {
            "tags": []
          }
        }
      ]
    },
    {
      "metadata": {
        "colab_type": "text",
        "id": "sxnhZ2E-5-37"
      },
      "cell_type": "markdown",
      "source": [
        "### With GloVe"
      ]
    },
    {
      "metadata": {
        "colab_type": "code",
        "id": "5j9gCRJn5-39",
        "colab": {}
      },
      "cell_type": "code",
      "source": [
        "model_subjaust = getCNNRand(enc.vocab_len, enc.max_len, classnum=2, embedding_matrix=glove, **dict((k,v) for k,v in best_params))"
      ],
      "execution_count": 0,
      "outputs": []
    },
    {
      "metadata": {
        "colab_type": "code",
        "outputId": "7226a4e9-1085-4896-8353-853f46b51939",
        "id": "xs0HnIEq5-4C",
        "colab": {
          "base_uri": "https://localhost:8080/",
          "height": 1941
        }
      },
      "cell_type": "code",
      "source": [
        "model_subjaust.fit(subj_x,subj_y,batch_size=50,epochs=50,validation_data=(austen_x, austen_y),verbose=1)"
      ],
      "execution_count": 218,
      "outputs": [
        {
          "output_type": "stream",
          "text": [
            "Train on 10000 samples, validate on 699 samples\n",
            "Epoch 1/50\n",
            "10000/10000 [==============================] - 13s 1ms/step - loss: 0.5549 - acc: 0.7405 - val_loss: 1.0629 - val_acc: 0.5422\n",
            "Epoch 2/50\n",
            "10000/10000 [==============================] - 9s 877us/step - loss: 0.2644 - acc: 0.8875 - val_loss: 1.3599 - val_acc: 0.5408\n",
            "Epoch 3/50\n",
            "10000/10000 [==============================] - 9s 879us/step - loss: 0.1385 - acc: 0.9430 - val_loss: 1.2720 - val_acc: 0.5694\n",
            "Epoch 4/50\n",
            "10000/10000 [==============================] - 9s 871us/step - loss: 0.0825 - acc: 0.9593 - val_loss: 1.9889 - val_acc: 0.5393\n",
            "Epoch 5/50\n",
            "10000/10000 [==============================] - 9s 874us/step - loss: 0.0559 - acc: 0.9698 - val_loss: 1.9466 - val_acc: 0.5665\n",
            "Epoch 6/50\n",
            "10000/10000 [==============================] - 9s 875us/step - loss: 0.0483 - acc: 0.9679 - val_loss: 2.2818 - val_acc: 0.5737\n",
            "Epoch 7/50\n",
            "10000/10000 [==============================] - 9s 875us/step - loss: 0.0448 - acc: 0.9711 - val_loss: 2.5692 - val_acc: 0.5708\n",
            "Epoch 8/50\n",
            "10000/10000 [==============================] - 9s 873us/step - loss: 0.0451 - acc: 0.9670 - val_loss: 2.7001 - val_acc: 0.5823\n",
            "Epoch 9/50\n",
            "10000/10000 [==============================] - 9s 877us/step - loss: 0.0462 - acc: 0.9662 - val_loss: 2.6984 - val_acc: 0.5837\n",
            "Epoch 10/50\n",
            "10000/10000 [==============================] - 9s 863us/step - loss: 0.0418 - acc: 0.9707 - val_loss: 2.8999 - val_acc: 0.5794\n",
            "Epoch 11/50\n",
            "10000/10000 [==============================] - 9s 869us/step - loss: 0.0438 - acc: 0.9679 - val_loss: 3.0085 - val_acc: 0.5794\n",
            "Epoch 12/50\n",
            "10000/10000 [==============================] - 9s 864us/step - loss: 0.0434 - acc: 0.9670 - val_loss: 3.0179 - val_acc: 0.5823\n",
            "Epoch 13/50\n",
            "10000/10000 [==============================] - 9s 863us/step - loss: 0.0414 - acc: 0.9722 - val_loss: 3.1267 - val_acc: 0.5808\n",
            "Epoch 14/50\n",
            "10000/10000 [==============================] - 9s 862us/step - loss: 0.0425 - acc: 0.9695 - val_loss: 3.2182 - val_acc: 0.5794\n",
            "Epoch 15/50\n",
            "10000/10000 [==============================] - 9s 869us/step - loss: 0.0429 - acc: 0.9696 - val_loss: 3.1884 - val_acc: 0.5823\n",
            "Epoch 16/50\n",
            "10000/10000 [==============================] - 9s 872us/step - loss: 0.0435 - acc: 0.9686 - val_loss: 3.2837 - val_acc: 0.5808\n",
            "Epoch 17/50\n",
            "10000/10000 [==============================] - 9s 872us/step - loss: 0.0442 - acc: 0.9699 - val_loss: 3.2716 - val_acc: 0.5808\n",
            "Epoch 18/50\n",
            "10000/10000 [==============================] - 9s 874us/step - loss: 0.0430 - acc: 0.9682 - val_loss: 3.3122 - val_acc: 0.5823\n",
            "Epoch 19/50\n",
            "10000/10000 [==============================] - 9s 867us/step - loss: 0.0428 - acc: 0.9688 - val_loss: 3.2940 - val_acc: 0.5837\n",
            "Epoch 20/50\n",
            "10000/10000 [==============================] - 9s 871us/step - loss: 0.0427 - acc: 0.9679 - val_loss: 3.3024 - val_acc: 0.5837\n",
            "Epoch 21/50\n",
            "10000/10000 [==============================] - 9s 881us/step - loss: 0.0450 - acc: 0.9656 - val_loss: 3.3325 - val_acc: 0.5837\n",
            "Epoch 22/50\n",
            "10000/10000 [==============================] - 9s 875us/step - loss: 0.0449 - acc: 0.9690 - val_loss: 3.3834 - val_acc: 0.5823\n",
            "Epoch 23/50\n",
            "10000/10000 [==============================] - 9s 872us/step - loss: 0.0426 - acc: 0.9674 - val_loss: 3.4152 - val_acc: 0.5808\n",
            "Epoch 24/50\n",
            "10000/10000 [==============================] - 9s 871us/step - loss: 0.0405 - acc: 0.9724 - val_loss: 3.4300 - val_acc: 0.5808\n",
            "Epoch 25/50\n",
            "10000/10000 [==============================] - 9s 881us/step - loss: 0.0439 - acc: 0.9712 - val_loss: 3.4189 - val_acc: 0.5823\n",
            "Epoch 26/50\n",
            "10000/10000 [==============================] - 9s 873us/step - loss: 0.0431 - acc: 0.9667 - val_loss: 3.4361 - val_acc: 0.5823\n",
            "Epoch 27/50\n",
            "10000/10000 [==============================] - 9s 864us/step - loss: 0.0408 - acc: 0.9713 - val_loss: 3.4447 - val_acc: 0.5808\n",
            "Epoch 28/50\n",
            "10000/10000 [==============================] - 9s 871us/step - loss: 0.0438 - acc: 0.9701 - val_loss: 3.4718 - val_acc: 0.5823\n",
            "Epoch 29/50\n",
            "10000/10000 [==============================] - 9s 872us/step - loss: 0.0449 - acc: 0.9670 - val_loss: 3.4750 - val_acc: 0.5823\n",
            "Epoch 30/50\n",
            "10000/10000 [==============================] - 9s 870us/step - loss: 0.0446 - acc: 0.9678 - val_loss: 3.4812 - val_acc: 0.5823\n",
            "Epoch 31/50\n",
            "10000/10000 [==============================] - 9s 868us/step - loss: 0.0468 - acc: 0.9668 - val_loss: 3.4827 - val_acc: 0.5837\n",
            "Epoch 32/50\n",
            "10000/10000 [==============================] - 9s 867us/step - loss: 0.0439 - acc: 0.9664 - val_loss: 3.4961 - val_acc: 0.5808\n",
            "Epoch 33/50\n",
            "10000/10000 [==============================] - 9s 879us/step - loss: 0.0423 - acc: 0.9704 - val_loss: 3.4746 - val_acc: 0.5851\n",
            "Epoch 34/50\n",
            "10000/10000 [==============================] - 9s 868us/step - loss: 0.0421 - acc: 0.9668 - val_loss: 3.4793 - val_acc: 0.5851\n",
            "Epoch 35/50\n",
            "10000/10000 [==============================] - 9s 875us/step - loss: 0.0461 - acc: 0.9674 - val_loss: 3.4936 - val_acc: 0.5823\n",
            "Epoch 36/50\n",
            "10000/10000 [==============================] - 9s 870us/step - loss: 0.0429 - acc: 0.9702 - val_loss: 3.4964 - val_acc: 0.5823\n",
            "Epoch 37/50\n",
            "10000/10000 [==============================] - 9s 867us/step - loss: 0.0414 - acc: 0.9703 - val_loss: 3.5073 - val_acc: 0.5808\n",
            "Epoch 38/50\n",
            "10000/10000 [==============================] - 9s 870us/step - loss: 0.0435 - acc: 0.9697 - val_loss: 3.5177 - val_acc: 0.5808\n",
            "Epoch 39/50\n",
            "10000/10000 [==============================] - 9s 869us/step - loss: 0.0407 - acc: 0.9699 - val_loss: 3.4799 - val_acc: 0.5808\n",
            "Epoch 40/50\n",
            "10000/10000 [==============================] - 9s 872us/step - loss: 0.0454 - acc: 0.9670 - val_loss: 3.4988 - val_acc: 0.5823\n",
            "Epoch 41/50\n",
            "10000/10000 [==============================] - 9s 861us/step - loss: 0.0430 - acc: 0.9686 - val_loss: 3.5164 - val_acc: 0.5823\n",
            "Epoch 42/50\n",
            "10000/10000 [==============================] - 9s 864us/step - loss: 0.0423 - acc: 0.9693 - val_loss: 3.4952 - val_acc: 0.5837\n",
            "Epoch 43/50\n",
            "10000/10000 [==============================] - 9s 866us/step - loss: 0.0427 - acc: 0.9680 - val_loss: 3.5015 - val_acc: 0.5837\n",
            "Epoch 44/50\n",
            "10000/10000 [==============================] - 9s 871us/step - loss: 0.0436 - acc: 0.9677 - val_loss: 3.4940 - val_acc: 0.5823\n",
            "Epoch 45/50\n",
            "10000/10000 [==============================] - 9s 867us/step - loss: 0.0423 - acc: 0.9685 - val_loss: 3.5106 - val_acc: 0.5823\n",
            "Epoch 46/50\n",
            "10000/10000 [==============================] - 9s 869us/step - loss: 0.0425 - acc: 0.9715 - val_loss: 3.5043 - val_acc: 0.5837\n",
            "Epoch 47/50\n",
            "10000/10000 [==============================] - 9s 875us/step - loss: 0.0480 - acc: 0.9654 - val_loss: 3.5149 - val_acc: 0.5837\n",
            "Epoch 48/50\n",
            "10000/10000 [==============================] - 9s 873us/step - loss: 0.0425 - acc: 0.9695 - val_loss: 3.5082 - val_acc: 0.5837\n",
            "Epoch 49/50\n",
            "10000/10000 [==============================] - 9s 870us/step - loss: 0.0448 - acc: 0.9660 - val_loss: 3.5180 - val_acc: 0.5851\n",
            "Epoch 50/50\n",
            "10000/10000 [==============================] - 9s 872us/step - loss: 0.0441 - acc: 0.9670 - val_loss: 3.5216 - val_acc: 0.5837\n"
          ],
          "name": "stdout"
        },
        {
          "output_type": "execute_result",
          "data": {
            "text/plain": [
              "<keras.callbacks.History at 0x7efda6786940>"
            ]
          },
          "metadata": {
            "tags": []
          },
          "execution_count": 218
        }
      ]
    },
    {
      "metadata": {
        "colab_type": "code",
        "outputId": "a4f09635-331f-489b-a6f0-c998602ee2cb",
        "id": "rWOMSrNs5-4J",
        "colab": {
          "base_uri": "https://localhost:8080/",
          "height": 55
        }
      },
      "cell_type": "code",
      "source": [
        "model_subjaust.evaluate(austen_x, austen_y)"
      ],
      "execution_count": 219,
      "outputs": [
        {
          "output_type": "stream",
          "text": [
            "699/699 [==============================] - 0s 244us/step\n"
          ],
          "name": "stdout"
        },
        {
          "output_type": "execute_result",
          "data": {
            "text/plain": [
              "[3.5215626301854126, 0.5836909866981069]"
            ]
          },
          "metadata": {
            "tags": []
          },
          "execution_count": 219
        }
      ]
    },
    {
      "metadata": {
        "colab_type": "code",
        "id": "h4UI_gW6J5b-",
        "colab": {
          "base_uri": "https://localhost:8080/",
          "height": 401
        },
        "outputId": "76e3e5b3-29f9-4cd8-9cca-b6c6eff47091"
      },
      "cell_type": "code",
      "source": [
        "fig, ax1 = plt.subplots()\n",
        "\n",
        "ax1.set_xlabel('Epochs')\n",
        "ax1.set_ylabel('Accuracy')\n",
        "ax1.plot(history.history['acc'], color='orange', label=\"Train acc.\")\n",
        "ax1.plot(history.history['val_acc'], color='red', label=\"Valid. acc\")\n",
        "ax1.legend()\n",
        "\n",
        "ax2 = ax1.twinx()\n",
        "ax2.set_ylabel('Loss')\n",
        "ax2.plot(history.history['loss'], color='gray', label=\"Train loss\")\n",
        "ax2.plot(history.history['val_loss'], color='black', label=\"Valid. loss\")\n",
        "ax2.legend()\n",
        "\n",
        "fig.tight_layout()\n",
        "plt.show()"
      ],
      "execution_count": 225,
      "outputs": [
        {
          "output_type": "display_data",
          "data": {
            "image/png": "[encoded data removed]",
            "text/plain": [
              "<matplotlib.figure.Figure at 0x7efda4f98438>"
            ]
          },
          "metadata": {
            "tags": []
          }
        }
      ]
    },
    {
      "metadata": {
        "id": "KxMmESIOQBo0",
        "colab_type": "text"
      },
      "cell_type": "markdown",
      "source": [
        "## Austen-Austen"
      ]
    },
    {
      "metadata": {
        "id": "9r1ugeHTToAq",
        "colab_type": "text"
      },
      "cell_type": "markdown",
      "source": [
        "### No GloVe"
      ]
    },
    {
      "metadata": {
        "colab_type": "code",
        "id": "Wg8JuXzGQQLI",
        "colab": {}
      },
      "cell_type": "code",
      "source": [
        "# labelenc = OneHotEncoder()\n",
        "# labelenc.fit(austen_data['all']['y'].values.reshape(-1,1))\n",
        "austen_y_train = labelenc.transform(austen_data['y']['train'].values.reshape(-1,1))\n",
        "austen_y_test = labelenc.transform(austen_data['y']['test'].append(austen_data['y']['val']).values.reshape(-1,1))\n",
        "\n",
        "# enc = Encoder()\n",
        "# enc.fit_vocab(austen_data['all']['x'])\n",
        "austen_x_train = enc.transform(austen_data['x']['train'])\n",
        "austen_x_test = enc.transform(austen_data['x']['test'].append(austen_data['x']['val']))"
      ],
      "execution_count": 0,
      "outputs": []
    },
    {
      "metadata": {
        "colab_type": "code",
        "id": "vl3Jzm--Qq_9",
        "colab": {}
      },
      "cell_type": "code",
      "source": [
        "model_subjaust = getCNNRand(enc.vocab_len, enc.max_len, classnum=2, **dict((k,v) for k,v in best_params))"
      ],
      "execution_count": 0,
      "outputs": []
    },
    {
      "metadata": {
        "colab_type": "code",
        "id": "dlhs1NgNQrAd",
        "colab": {}
      },
      "cell_type": "code",
      "source": [
        "history = model_subjaust.fit(austen_x_train,austen_y_train,batch_size=1,epochs=25,validation_data=(austen_x_test, austen_y_test),verbose=1)"
      ],
      "execution_count": 0,
      "outputs": []
    },
    {
      "metadata": {
        "colab_type": "code",
        "outputId": "c4d528bf-480f-4d37-e026-58d3bc7ca66f",
        "id": "_TuuCBOYQrAu",
        "colab": {
          "base_uri": "https://localhost:8080/",
          "height": 55
        }
      },
      "cell_type": "code",
      "source": [
        "model_subjaust.evaluate(austen_x_test, austen_y_test)"
      ],
      "execution_count": 248,
      "outputs": [
        {
          "output_type": "stream",
          "text": [
            "140/140 [==============================] - 0s 386us/step\n"
          ],
          "name": "stdout"
        },
        {
          "output_type": "execute_result",
          "data": {
            "text/plain": [
              "[1.8732414518083844, 0.7142857125827244]"
            ]
          },
          "metadata": {
            "tags": []
          },
          "execution_count": 248
        }
      ]
    },
    {
      "metadata": {
        "colab_type": "code",
        "outputId": "9fd176df-004c-409e-b4d7-947e68170eb2",
        "id": "gAS_cmIEQrA3",
        "colab": {
          "base_uri": "https://localhost:8080/",
          "height": 401
        }
      },
      "cell_type": "code",
      "source": [
        "fig, ax1 = plt.subplots()\n",
        "\n",
        "ax1.set_xlabel('Epochs')\n",
        "ax1.set_ylabel('Accuracy')\n",
        "ax1.plot(history.history['acc'], color='orange', label=\"Train acc.\")\n",
        "ax1.plot(history.history['val_acc'], color='red', label=\"Valid. acc\")\n",
        "ax1.legend()\n",
        "\n",
        "ax2 = ax1.twinx()\n",
        "ax2.set_ylabel('Loss')\n",
        "ax2.plot(history.history['loss'], color='gray', label=\"Train loss\")\n",
        "ax2.plot(history.history['val_loss'], color='black', label=\"Valid. loss\")\n",
        "ax2.legend()\n",
        "\n",
        "fig.tight_layout()\n",
        "plt.show()"
      ],
      "execution_count": 249,
      "outputs": [
        {
          "output_type": "display_data",
          "data": {
            "image/png": "[encoded data removed]",
            "text/plain": [
              "<matplotlib.figure.Figure at 0x7efda4e87160>"
            ]
          },
          "metadata": {
            "tags": []
          }
        }
      ]
    },
    {
      "metadata": {
        "colab_type": "text",
        "id": "dSsU6s27Tuhx"
      },
      "cell_type": "markdown",
      "source": [
        "### With GloVe"
      ]
    },
    {
      "metadata": {
        "colab_type": "code",
        "id": "fzCWcAO3TuiM",
        "colab": {}
      },
      "cell_type": "code",
      "source": [
        "model_subjaust = getCNNRand(enc.vocab_len, enc.max_len, classnum=2, embedding_matrix=glove, **dict((k,v) for k,v in best_params))"
      ],
      "execution_count": 0,
      "outputs": []
    },
    {
      "metadata": {
        "colab_type": "code",
        "outputId": "71b36152-ba67-4122-f629-b8f3909def35",
        "id": "UaxEkgfZTuiT",
        "colab": {
          "base_uri": "https://localhost:8080/",
          "height": 979
        }
      },
      "cell_type": "code",
      "source": [
        "history = model_subjaust.fit(austen_x_train,austen_y_train,batch_size=1,epochs=25,validation_data=(austen_x_test, austen_y_test),verbose=1)"
      ],
      "execution_count": 291,
      "outputs": [
        {
          "output_type": "stream",
          "text": [
            "Train on 559 samples, validate on 140 samples\n",
            "Epoch 1/25\n",
            "559/559 [==============================] - 19s 34ms/step - loss: 1.2536 - acc: 0.5420 - val_loss: 1.1155 - val_acc: 0.5500\n",
            "Epoch 2/25\n",
            "559/559 [==============================] - 13s 22ms/step - loss: 0.4521 - acc: 0.7961 - val_loss: 0.8686 - val_acc: 0.6071\n",
            "Epoch 3/25\n",
            "559/559 [==============================] - 13s 23ms/step - loss: 0.2427 - acc: 0.8873 - val_loss: 1.0753 - val_acc: 0.6000\n",
            "Epoch 4/25\n",
            "559/559 [==============================] - 13s 23ms/step - loss: 0.1256 - acc: 0.9302 - val_loss: 1.2264 - val_acc: 0.6286\n",
            "Epoch 5/25\n",
            "559/559 [==============================] - 13s 23ms/step - loss: 0.0899 - acc: 0.9463 - val_loss: 0.9550 - val_acc: 0.6857\n",
            "Epoch 6/25\n",
            "559/559 [==============================] - 12s 22ms/step - loss: 0.0636 - acc: 0.9553 - val_loss: 1.4329 - val_acc: 0.5929\n",
            "Epoch 7/25\n",
            "559/559 [==============================] - 12s 22ms/step - loss: 0.0694 - acc: 0.9481 - val_loss: 1.0307 - val_acc: 0.6714\n",
            "Epoch 8/25\n",
            "559/559 [==============================] - 12s 22ms/step - loss: 0.0626 - acc: 0.9517 - val_loss: 1.0620 - val_acc: 0.6643\n",
            "Epoch 9/25\n",
            "559/559 [==============================] - 13s 23ms/step - loss: 0.0494 - acc: 0.9499 - val_loss: 1.0177 - val_acc: 0.7000\n",
            "Epoch 10/25\n",
            "559/559 [==============================] - 13s 23ms/step - loss: 0.0493 - acc: 0.9499 - val_loss: 1.4206 - val_acc: 0.7000\n",
            "Epoch 11/25\n",
            "559/559 [==============================] - 13s 23ms/step - loss: 0.0470 - acc: 0.9589 - val_loss: 1.2116 - val_acc: 0.7214\n",
            "Epoch 12/25\n",
            "559/559 [==============================] - 13s 23ms/step - loss: 0.0587 - acc: 0.9535 - val_loss: 1.3717 - val_acc: 0.7000\n",
            "Epoch 13/25\n",
            "559/559 [==============================] - 12s 22ms/step - loss: 0.0500 - acc: 0.9660 - val_loss: 1.2772 - val_acc: 0.7357\n",
            "Epoch 14/25\n",
            "559/559 [==============================] - 13s 23ms/step - loss: 0.0388 - acc: 0.9642 - val_loss: 1.3918 - val_acc: 0.7000\n",
            "Epoch 15/25\n",
            "559/559 [==============================] - 13s 22ms/step - loss: 0.0436 - acc: 0.9678 - val_loss: 1.5901 - val_acc: 0.6857\n",
            "Epoch 16/25\n",
            "559/559 [==============================] - 12s 22ms/step - loss: 0.0323 - acc: 0.9785 - val_loss: 1.5105 - val_acc: 0.7071\n",
            "Epoch 17/25\n",
            "559/559 [==============================] - 13s 22ms/step - loss: 0.0435 - acc: 0.9606 - val_loss: 1.5165 - val_acc: 0.7071\n",
            "Epoch 18/25\n",
            "559/559 [==============================] - 12s 22ms/step - loss: 0.0372 - acc: 0.9803 - val_loss: 1.6263 - val_acc: 0.6929\n",
            "Epoch 19/25\n",
            "559/559 [==============================] - 13s 23ms/step - loss: 0.0471 - acc: 0.9606 - val_loss: 1.6028 - val_acc: 0.6929\n",
            "Epoch 20/25\n",
            "559/559 [==============================] - 13s 23ms/step - loss: 0.0360 - acc: 0.9785 - val_loss: 1.7362 - val_acc: 0.6714\n",
            "Epoch 21/25\n",
            "559/559 [==============================] - 13s 22ms/step - loss: 0.0372 - acc: 0.9660 - val_loss: 1.6856 - val_acc: 0.6929\n",
            "Epoch 22/25\n",
            "559/559 [==============================] - 13s 23ms/step - loss: 0.0459 - acc: 0.9624 - val_loss: 1.6622 - val_acc: 0.7000\n",
            "Epoch 23/25\n",
            "559/559 [==============================] - 13s 23ms/step - loss: 0.0397 - acc: 0.9660 - val_loss: 1.6751 - val_acc: 0.7071\n",
            "Epoch 24/25\n",
            "559/559 [==============================] - 13s 22ms/step - loss: 0.0533 - acc: 0.9517 - val_loss: 1.7812 - val_acc: 0.6714\n",
            "Epoch 25/25\n",
            "559/559 [==============================] - 13s 23ms/step - loss: 0.0447 - acc: 0.9589 - val_loss: 1.7075 - val_acc: 0.7071\n"
          ],
          "name": "stdout"
        }
      ]
    },
    {
      "metadata": {
        "colab_type": "code",
        "id": "8zsHuVu4Tuie",
        "colab": {
          "base_uri": "https://localhost:8080/",
          "height": 55
        },
        "outputId": "c910ad04-fd5a-41b1-ef78-fd33fd53c74f"
      },
      "cell_type": "code",
      "source": [
        "model_subjaust.evaluate(austen_x_test, austen_y_test)"
      ],
      "execution_count": 292,
      "outputs": [
        {
          "output_type": "stream",
          "text": [
            "140/140 [==============================] - 0s 403us/step\n"
          ],
          "name": "stdout"
        },
        {
          "output_type": "execute_result",
          "data": {
            "text/plain": [
              "[1.707511820111956, 0.7071428554398673]"
            ]
          },
          "metadata": {
            "tags": []
          },
          "execution_count": 292
        }
      ]
    },
    {
      "metadata": {
        "colab_type": "code",
        "id": "h2gpHwnsTuii",
        "colab": {
          "base_uri": "https://localhost:8080/",
          "height": 401
        },
        "outputId": "3d9abd3b-8255-4355-981c-c5807a32f0c0"
      },
      "cell_type": "code",
      "source": [
        "fig, ax1 = plt.subplots()\n",
        "\n",
        "ax1.set_xlabel('Epochs')\n",
        "ax1.set_ylabel('Accuracy')\n",
        "ax1.plot(history.history['acc'], color='orange', label=\"Train acc.\")\n",
        "ax1.plot(history.history['val_acc'], color='red', label=\"Valid. acc\")\n",
        "ax1.legend()\n",
        "\n",
        "ax2 = ax1.twinx()\n",
        "ax2.set_ylabel('Loss')\n",
        "ax2.plot(history.history['loss'], color='gray', label=\"Train loss\")\n",
        "ax2.plot(history.history['val_loss'], color='black', label=\"Valid. loss\")\n",
        "ax2.legend()\n",
        "\n",
        "fig.tight_layout()\n",
        "plt.show()"
      ],
      "execution_count": 293,
      "outputs": [
        {
          "output_type": "display_data",
          "data": {
            "image/png": "[encoded data removed]",
            "text/plain": [
              "<matplotlib.figure.Figure at 0x7efda1fcde48>"
            ]
          },
          "metadata": {
            "tags": []
          }
        }
      ]
    },
    {
      "metadata": {
        "id": "pF7cyhQLcnCY",
        "colab_type": "text"
      },
      "cell_type": "markdown",
      "source": [
        "## Mixed-Austen"
      ]
    },
    {
      "metadata": {
        "colab_type": "text",
        "id": "Y6qNnTRPdZEq"
      },
      "cell_type": "markdown",
      "source": [
        "### No GloVe"
      ]
    },
    {
      "metadata": {
        "colab_type": "code",
        "id": "7Yldfh3mdZEr",
        "colab": {}
      },
      "cell_type": "code",
      "source": [
        "# labelenc = OneHotEncoder()\n",
        "# labelenc.fit(austen_data['all']['y'].values.reshape(-1,1))\n",
        "mixed_y = labelenc.transform(austen_data['y']['train'].append(data_subj['y']['val']).append(data_subj['y']['test']).values.reshape(-1,1))\n",
        "austen_y_test = labelenc.transform(austen_data['y']['test'].append(austen_data['y']['val']).values.reshape(-1,1))\n",
        "\n",
        "# enc = Encoder()\n",
        "# enc.fit_vocab(austen_data['all']['x'])\n",
        "mixed_x = enc.transform(austen_data['x']['train'].append(data_subj['x']['val']).append(data_subj['x']['test']))"
      ],
      "execution_count": 0,
      "outputs": []
    },
    {
      "metadata": {
        "colab_type": "code",
        "id": "OqbktgD8dZEt",
        "colab": {}
      },
      "cell_type": "code",
      "source": [
        "model_subjaust = getCNNRand(enc.vocab_len, enc.max_len, classnum=2, **dict((k,v) for k,v in best_params))"
      ],
      "execution_count": 0,
      "outputs": []
    },
    {
      "metadata": {
        "colab_type": "code",
        "id": "XAiQCZrjdZEw",
        "colab": {
          "base_uri": "https://localhost:8080/",
          "height": 979
        },
        "outputId": "98cba320-f78f-433f-dc14-e4ff611ec431"
      },
      "cell_type": "code",
      "source": [
        "history = model_subjaust.fit(mixed_x,mixed_y,batch_size=50,epochs=25,validation_data=(austen_x_test, austen_y_test),verbose=1)"
      ],
      "execution_count": 311,
      "outputs": [
        {
          "output_type": "stream",
          "text": [
            "Train on 2559 samples, validate on 140 samples\n",
            "Epoch 1/25\n",
            "2559/2559 [==============================] - 7s 3ms/step - loss: 0.6986 - acc: 0.5049 - val_loss: 0.7060 - val_acc: 0.4857\n",
            "Epoch 2/25\n",
            "2559/2559 [==============================] - 2s 875us/step - loss: 0.6716 - acc: 0.5905 - val_loss: 0.6701 - val_acc: 0.5929\n",
            "Epoch 3/25\n",
            "2559/2559 [==============================] - 2s 875us/step - loss: 0.6155 - acc: 0.6667 - val_loss: 0.7388 - val_acc: 0.5571\n",
            "Epoch 4/25\n",
            "2559/2559 [==============================] - 2s 870us/step - loss: 0.5702 - acc: 0.7065 - val_loss: 0.7350 - val_acc: 0.6143\n",
            "Epoch 5/25\n",
            "2559/2559 [==============================] - 2s 868us/step - loss: 0.5196 - acc: 0.7397 - val_loss: 0.9066 - val_acc: 0.5429\n",
            "Epoch 6/25\n",
            "2559/2559 [==============================] - 2s 868us/step - loss: 0.4820 - acc: 0.7628 - val_loss: 0.7117 - val_acc: 0.6143\n",
            "Epoch 7/25\n",
            "2559/2559 [==============================] - 2s 861us/step - loss: 0.4413 - acc: 0.7968 - val_loss: 0.7247 - val_acc: 0.6286\n",
            "Epoch 8/25\n",
            "2559/2559 [==============================] - 2s 862us/step - loss: 0.4223 - acc: 0.8073 - val_loss: 0.7147 - val_acc: 0.6786\n",
            "Epoch 9/25\n",
            "2559/2559 [==============================] - 2s 875us/step - loss: 0.3694 - acc: 0.8374 - val_loss: 0.7449 - val_acc: 0.6786\n",
            "Epoch 10/25\n",
            "2559/2559 [==============================] - 2s 875us/step - loss: 0.3204 - acc: 0.8628 - val_loss: 0.7533 - val_acc: 0.7143\n",
            "Epoch 11/25\n",
            "2559/2559 [==============================] - 2s 867us/step - loss: 0.2710 - acc: 0.8882 - val_loss: 0.7857 - val_acc: 0.7071\n",
            "Epoch 12/25\n",
            "2559/2559 [==============================] - 2s 863us/step - loss: 0.2331 - acc: 0.9015 - val_loss: 0.7972 - val_acc: 0.7143\n",
            "Epoch 13/25\n",
            "2559/2559 [==============================] - 2s 864us/step - loss: 0.2079 - acc: 0.9113 - val_loss: 1.3300 - val_acc: 0.5714\n",
            "Epoch 14/25\n",
            "2559/2559 [==============================] - 2s 860us/step - loss: 0.1762 - acc: 0.9258 - val_loss: 0.8335 - val_acc: 0.7000\n",
            "Epoch 15/25\n",
            "2559/2559 [==============================] - 2s 864us/step - loss: 0.1473 - acc: 0.9406 - val_loss: 0.9774 - val_acc: 0.6786\n",
            "Epoch 16/25\n",
            "2559/2559 [==============================] - 2s 862us/step - loss: 0.1351 - acc: 0.9418 - val_loss: 0.9018 - val_acc: 0.7214\n",
            "Epoch 17/25\n",
            "2559/2559 [==============================] - 2s 864us/step - loss: 0.1061 - acc: 0.9539 - val_loss: 0.9601 - val_acc: 0.7071\n",
            "Epoch 18/25\n",
            "2559/2559 [==============================] - 2s 872us/step - loss: 0.0949 - acc: 0.9586 - val_loss: 1.0304 - val_acc: 0.7071\n",
            "Epoch 19/25\n",
            "2559/2559 [==============================] - 2s 867us/step - loss: 0.0819 - acc: 0.9664 - val_loss: 1.0553 - val_acc: 0.7214\n",
            "Epoch 20/25\n",
            "2559/2559 [==============================] - 2s 872us/step - loss: 0.0729 - acc: 0.9703 - val_loss: 1.0424 - val_acc: 0.7071\n",
            "Epoch 21/25\n",
            "2559/2559 [==============================] - 2s 866us/step - loss: 0.0668 - acc: 0.9668 - val_loss: 1.1006 - val_acc: 0.7357\n",
            "Epoch 22/25\n",
            "2559/2559 [==============================] - 2s 866us/step - loss: 0.0726 - acc: 0.9578 - val_loss: 1.1380 - val_acc: 0.7286\n",
            "Epoch 23/25\n",
            "2559/2559 [==============================] - 2s 867us/step - loss: 0.0539 - acc: 0.9711 - val_loss: 1.1644 - val_acc: 0.6714\n",
            "Epoch 24/25\n",
            "2559/2559 [==============================] - 2s 867us/step - loss: 0.0546 - acc: 0.9656 - val_loss: 1.1952 - val_acc: 0.7071\n",
            "Epoch 25/25\n",
            "2559/2559 [==============================] - 2s 869us/step - loss: 0.0535 - acc: 0.9629 - val_loss: 1.2180 - val_acc: 0.7214\n"
          ],
          "name": "stdout"
        }
      ]
    },
    {
      "metadata": {
        "colab_type": "code",
        "outputId": "2db32ed5-0faf-41d9-bda0-c653130563de",
        "id": "uISeDQQGdZEy",
        "colab": {
          "base_uri": "https://localhost:8080/",
          "height": 55
        }
      },
      "cell_type": "code",
      "source": [
        "model_subjaust.evaluate(austen_x_test, austen_y_test)"
      ],
      "execution_count": 312,
      "outputs": [
        {
          "output_type": "stream",
          "text": [
            "140/140 [==============================] - 0s 292us/step\n"
          ],
          "name": "stdout"
        },
        {
          "output_type": "execute_result",
          "data": {
            "text/plain": [
              "[1.2179525920322962, 0.7214285705770765]"
            ]
          },
          "metadata": {
            "tags": []
          },
          "execution_count": 312
        }
      ]
    },
    {
      "metadata": {
        "colab_type": "code",
        "outputId": "0c36210f-1e17-45c1-c6ce-64e7fc0a63dd",
        "id": "Z0A5oPkFdZE3",
        "colab": {
          "base_uri": "https://localhost:8080/",
          "height": 401
        }
      },
      "cell_type": "code",
      "source": [
        "fig, ax1 = plt.subplots()\n",
        "\n",
        "ax1.set_xlabel('Epochs')\n",
        "ax1.set_ylabel('Accuracy')\n",
        "ax1.plot(history.history['acc'], color='orange', label=\"Train acc.\")\n",
        "ax1.plot(history.history['val_acc'], color='red', label=\"Valid. acc\")\n",
        "ax1.legend()\n",
        "\n",
        "ax2 = ax1.twinx()\n",
        "ax2.set_ylabel('Loss')\n",
        "ax2.plot(history.history['loss'], color='gray', label=\"Train loss\")\n",
        "ax2.plot(history.history['val_loss'], color='black', label=\"Valid. loss\")\n",
        "ax2.legend()\n",
        "\n",
        "fig.tight_layout()\n",
        "plt.show()"
      ],
      "execution_count": 313,
      "outputs": [
        {
          "output_type": "display_data",
          "data": {
            "image/png": "[encoded data removed]",
            "text/plain": [
              "<matplotlib.figure.Figure at 0x7efda0e86e48>"
            ]
          },
          "metadata": {
            "tags": []
          }
        }
      ]
    },
    {
      "metadata": {
        "colab_type": "text",
        "id": "x3A_GqkDdZE8"
      },
      "cell_type": "markdown",
      "source": [
        "### With GloVe"
      ]
    },
    {
      "metadata": {
        "colab_type": "code",
        "id": "N0Ihr7p1fqmn",
        "colab": {}
      },
      "cell_type": "code",
      "source": [
        "model_subjaust = getCNNRand(enc.vocab_len, enc.max_len, classnum=2, embedding_matrix=glove, **dict((k,v) for k,v in best_params))"
      ],
      "execution_count": 0,
      "outputs": []
    },
    {
      "metadata": {
        "colab_type": "code",
        "outputId": "11058bed-575d-4d91-8255-b15b2446582c",
        "id": "y6Gbm6k9fqmt",
        "colab": {
          "base_uri": "https://localhost:8080/",
          "height": 979
        }
      },
      "cell_type": "code",
      "source": [
        "history = model_subjaust.fit(mixed_x,mixed_y,batch_size=50,epochs=25,validation_data=(austen_x_test, austen_y_test),verbose=1)"
      ],
      "execution_count": 315,
      "outputs": [
        {
          "output_type": "stream",
          "text": [
            "Train on 2559 samples, validate on 140 samples\n",
            "Epoch 1/25\n",
            "2559/2559 [==============================] - 7s 3ms/step - loss: 0.8436 - acc: 0.6069 - val_loss: 1.3447 - val_acc: 0.5000\n",
            "Epoch 2/25\n",
            "2559/2559 [==============================] - 2s 865us/step - loss: 0.3175 - acc: 0.8574 - val_loss: 0.7458 - val_acc: 0.6000\n",
            "Epoch 3/25\n",
            "2559/2559 [==============================] - 2s 867us/step - loss: 0.1777 - acc: 0.9347 - val_loss: 0.6958 - val_acc: 0.6071\n",
            "Epoch 4/25\n",
            "2559/2559 [==============================] - 2s 864us/step - loss: 0.1240 - acc: 0.9601 - val_loss: 0.7466 - val_acc: 0.6000\n",
            "Epoch 5/25\n",
            "2559/2559 [==============================] - 2s 864us/step - loss: 0.0894 - acc: 0.9637 - val_loss: 0.7382 - val_acc: 0.6214\n",
            "Epoch 6/25\n",
            "2559/2559 [==============================] - 2s 865us/step - loss: 0.0736 - acc: 0.9687 - val_loss: 0.7879 - val_acc: 0.5929\n",
            "Epoch 7/25\n",
            "2559/2559 [==============================] - 2s 872us/step - loss: 0.0654 - acc: 0.9672 - val_loss: 0.8497 - val_acc: 0.6000\n",
            "Epoch 8/25\n",
            "2559/2559 [==============================] - 2s 869us/step - loss: 0.0583 - acc: 0.9644 - val_loss: 0.8830 - val_acc: 0.6000\n",
            "Epoch 9/25\n",
            "2559/2559 [==============================] - 2s 869us/step - loss: 0.0484 - acc: 0.9687 - val_loss: 0.9600 - val_acc: 0.5929\n",
            "Epoch 10/25\n",
            "2559/2559 [==============================] - 2s 863us/step - loss: 0.0517 - acc: 0.9621 - val_loss: 0.9712 - val_acc: 0.6214\n",
            "Epoch 11/25\n",
            "2559/2559 [==============================] - 2s 873us/step - loss: 0.0494 - acc: 0.9644 - val_loss: 0.9829 - val_acc: 0.6429\n",
            "Epoch 12/25\n",
            "2559/2559 [==============================] - 2s 875us/step - loss: 0.0481 - acc: 0.9625 - val_loss: 1.0327 - val_acc: 0.6357\n",
            "Epoch 13/25\n",
            "2559/2559 [==============================] - 2s 862us/step - loss: 0.0539 - acc: 0.9590 - val_loss: 1.1063 - val_acc: 0.6071\n",
            "Epoch 14/25\n",
            "2559/2559 [==============================] - 2s 867us/step - loss: 0.0426 - acc: 0.9687 - val_loss: 1.0875 - val_acc: 0.6000\n",
            "Epoch 15/25\n",
            "2559/2559 [==============================] - 2s 866us/step - loss: 0.0464 - acc: 0.9625 - val_loss: 1.1147 - val_acc: 0.6143\n",
            "Epoch 16/25\n",
            "2559/2559 [==============================] - 2s 874us/step - loss: 0.0465 - acc: 0.9676 - val_loss: 1.1503 - val_acc: 0.6071\n",
            "Epoch 17/25\n",
            "2559/2559 [==============================] - 2s 872us/step - loss: 0.0374 - acc: 0.9742 - val_loss: 1.1757 - val_acc: 0.6071\n",
            "Epoch 18/25\n",
            "2559/2559 [==============================] - 2s 867us/step - loss: 0.0433 - acc: 0.9680 - val_loss: 1.1857 - val_acc: 0.6071\n",
            "Epoch 19/25\n",
            "2559/2559 [==============================] - 2s 868us/step - loss: 0.0462 - acc: 0.9672 - val_loss: 1.2095 - val_acc: 0.6143\n",
            "Epoch 20/25\n",
            "2559/2559 [==============================] - 2s 864us/step - loss: 0.0434 - acc: 0.9648 - val_loss: 1.2524 - val_acc: 0.6286\n",
            "Epoch 21/25\n",
            "2559/2559 [==============================] - 2s 867us/step - loss: 0.0463 - acc: 0.9680 - val_loss: 1.2389 - val_acc: 0.6143\n",
            "Epoch 22/25\n",
            "2559/2559 [==============================] - 2s 868us/step - loss: 0.0416 - acc: 0.9730 - val_loss: 1.2479 - val_acc: 0.6071\n",
            "Epoch 23/25\n",
            "2559/2559 [==============================] - 2s 863us/step - loss: 0.0402 - acc: 0.9754 - val_loss: 1.2606 - val_acc: 0.6143\n",
            "Epoch 24/25\n",
            "2559/2559 [==============================] - 2s 874us/step - loss: 0.0391 - acc: 0.9687 - val_loss: 1.2806 - val_acc: 0.6214\n",
            "Epoch 25/25\n",
            "2559/2559 [==============================] - 2s 871us/step - loss: 0.0415 - acc: 0.9711 - val_loss: 1.2939 - val_acc: 0.6071\n"
          ],
          "name": "stdout"
        }
      ]
    },
    {
      "metadata": {
        "colab_type": "code",
        "id": "m8X4vDWNfqm5",
        "colab": {
          "base_uri": "https://localhost:8080/",
          "height": 55
        },
        "outputId": "736639a8-8398-4e86-bb27-b79777050ab6"
      },
      "cell_type": "code",
      "source": [
        "model_subjaust.evaluate(austen_x_test, austen_y_test)"
      ],
      "execution_count": 316,
      "outputs": [
        {
          "output_type": "stream",
          "text": [
            "140/140 [==============================] - 0s 318us/step\n"
          ],
          "name": "stdout"
        },
        {
          "output_type": "execute_result",
          "data": {
            "text/plain": [
              "[1.2938524246215821, 0.6071428562913622]"
            ]
          },
          "metadata": {
            "tags": []
          },
          "execution_count": 316
        }
      ]
    },
    {
      "metadata": {
        "colab_type": "code",
        "id": "iVyFhMB9fqm8",
        "colab": {
          "base_uri": "https://localhost:8080/",
          "height": 398
        },
        "outputId": "72c85e54-fc92-45a2-baa0-e3b8a8c4190b"
      },
      "cell_type": "code",
      "source": [
        "fig, ax1 = plt.subplots()\n",
        "\n",
        "ax1.set_xlabel('Epochs')\n",
        "ax1.set_ylabel('Accuracy')\n",
        "ax1.plot(history.history['acc'], color='orange', label=\"Train acc.\")\n",
        "ax1.plot(history.history['val_acc'], color='red', label=\"Valid. acc\")\n",
        "ax1.legend()\n",
        "\n",
        "ax2 = ax1.twinx()\n",
        "ax2.set_ylabel('Loss')\n",
        "ax2.plot(history.history['loss'], color='gray', label=\"Train loss\")\n",
        "ax2.plot(history.history['val_loss'], color='black', label=\"Valid. loss\")\n",
        "ax2.legend()\n",
        "\n",
        "fig.tight_layout()\n",
        "plt.show()"
      ],
      "execution_count": 317,
      "outputs": [
        {
          "output_type": "display_data",
          "data": {
            "image/png": "[encoded data removed]",
            "text/plain": [
              "<matplotlib.figure.Figure at 0x7efda06d7550>"
            ]
          },
          "metadata": {
            "tags": []
          }
        }
      ]
    },
    {
      "metadata": {
        "id": "isEUaZfhgsIx",
        "colab_type": "code",
        "colab": {}
      },
      "cell_type": "code",
      "source": [
        ""
      ],
      "execution_count": 0,
      "outputs": []
    }
  ]
}